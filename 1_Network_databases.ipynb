{
 "cells": [
  {
   "cell_type": "markdown",
   "source": "## Introduction to network-based analysis in biomedicine with python (Part 1)\n\n#### Topic overview:\n\n##### 1. Introduction to biological networks\n\n##### 2. Databases for creating biological networks\n\n##### 3. Construction of biological networks\n\n##### 4. Basic concepts of network analysis",
   "metadata": {
    "cell_id": "1828bd8bd5cb49cca42b99da12bab269",
    "tags": [],
    "deepnote_cell_type": "markdown",
    "deepnote_cell_height": 318
   }
  },
  {
   "cell_type": "markdown",
   "source": "### What are networks?\nGenerally speaking, networks are a group or system of interconnected entities. Here, entities could be anything — persons, computers, etc.\nNetworks are usually represented as graphs of a collection of nodes connected by edges denoting the interaction or association between the nodes.\n[include a figure explaining node and edge]\n\n### Networks in biology\nBiological system functions as a result of interaction between its components (proteins, genes, metabolites, etc). Networks provide a way to understand the patterns of interactions within a biological system.\n\n### Types of networks\n- <strong>Directed or undirected:</strong> A network in which the edges infer the direction of interaction between the nodes is referred to as directed network. An undirected network does not inform the direction of interaction between the nodes. Gene regulatory neworks are usually represented as directed networks while gene co-expression networks are usually represented as undirected networks.\n- <strong>Weighted or unweighted:</strong> In a weighted network, the strengths of interaction between the nodes is represented as an edge attribute. Unweighted networks do not provide information on the strength of interactions. \n- <strong>Homogeneous or heterogeneous:</strong> A network in which all the nodes are of same type are referred to as homogeneous network (g. protein-protein interaction network) whereas networks containing nodes of different types are reperred to as heterogenous network (eg. drug-target network).\n- <strong>Knowledge-based or data driven:</strong> Knowledge-based networks are created by aggregating interaction information between different biological entities that are spread across the literature while data driven networks are created from high-throughput experimental data. A list of databases that can be used to create knowledge-based or data-driven network can be found <a href=\"https://doi.org/10.1093/bib/bbac229\" target = \"_blank\">here</a>.\n</br>\n<img src=\"Figures/BIB_Network_Review_Fig1.jpeg\" alt=\"types of network\" style=\"margin: auto; width:70%\"/>\n</br>\n<strong>Figure:</strong> Different types of networks. (A) An undirected-unweighted network provide information only regarding the possible connections between the nodes. No information is provided regarding the type of interaction or its strength. (B) Directed network on the other hand provides information about the direction of interaction, (C) while weighted network tell about the strength of the interaction often denoted by edge. (D) Multiplex networks are formed by obtaining interaction information from different sources for the same set of nodes. Each layer on a multiplex network refers to interaction from different sources. As the nodes within each layer is of similar type, the network within each layer could be referred to as homogenous network. (E) In contrast to homogenous network, heterogenous network involves interaction between different types of nodes.\n</br>\nIn following sections we will introduce the differnt databases that can be used to create a knowledge-based network.",
   "metadata": {
    "cell_id": "457011d9cf7d4c3b9a4943452b3fb330",
    "tags": [],
    "deepnote_cell_type": "markdown",
    "deepnote_cell_height": 1349.71875
   }
  },
  {
   "cell_type": "markdown",
   "source": "### Databases for creating biological networks\n- <strong>STRING: </strong>STRING (<a href=\"https://string-db.org/cgi/input\" target = \"_blank\">string-db.org</a>) is a database of known and predicted, direct physical and indirect functional protein-protein interactions. The data in STRING is obtained from five major sources including automated text mining or scientific literature, primary protein-protein interaction knowledgebases, co-expression, high-throughput experiments, and genomic context prediction. STRING is probably the largest protein-protein interaction network covering over 14000 organisms (Licata et al., 2012).\n- <strong>BioGRID: </strong> BioGRID (<a href=\"https://thebiogrid.org/\" target = \"_blank\">thebiogrid.org</a>) is a primary database archiving genetic and protein interaction data from human and other model organisms (Oughtred et al., 2021). Besides archiving all reported interactions for organisms, current focus is also on to curate conserved networks and pathways that are relevant to human health. The interactions are curated from published biomedical literature involving both low-throughput and high-throughput experiments. Apart from the protein-protein interactions and interaction between proteins and functional genetic elements, BioGRID also stores information on chemical-protein interactions retrieved from databases like DrugBank, ChemSpider, BindingDB and PDB.\n- <strong>DrugBank: </strong> DrugBank (<a href=\"https://go.drugbank.com/\" target = \"_blank\">go.drugbank.com</a>) is a comprehensive repertoire of approved as well as experimental and investigational drugs. Besides molecular information of each drug, it also provides information pertaining to associations between drugs, drug-targets, and diseases. DrugBank is also one of the largest resources of manually curated drug–drug interactions reporting both adverse and beneficial interactions. \n- <strong>Therapeutic Target Database: </strong> The Therapeutic Target Database (TTD) (<a href=\"http://db.idrblab.net/ttd/\" target = \"_blank\">db.idrblab.net/ttd</a>) collects information on known and explored therapeutic protein and nucleic acid targets along with information on the targeted disease, pathway information and the corresponding drugs for each of the targets.\n- <strong>DisGeNET: </strong> DisGeNET (<a href=\"https://www.disgenet.org/\" target = \"_blank\">www.disgenet.org</a>) is one of largest publicly available resource of genes and variants associated to human diseases. The data in DisGeNET is sourced from expert curated repositories, GWAS catalogues, animal models and the scientific literature. \n- <strong>PharmGKB: </strong> PharmGKB (<a href=\"https://www.pharmgkb.org/\" target = \"_blank\">www.pharmgkb.org</a>) is a pharmacogenomic knowledgebase hosting information on impact of genetic variation on drug responses in human. \n- <strong>OpenTargets: </strong> The OpenTargets (<a href=\"https://www.opentargets.org/\" target = \"_blank\">www.opentargets.org</a>)  project is aimed at identification and prioritization of drug targets based on human genetics and genomics data.",
   "metadata": {
    "cell_id": "0435d50397744933ace1adf4bf955b3e",
    "tags": [],
    "deepnote_to_be_reexecuted": false,
    "source_hash": "a0fa6d10",
    "execution_start": 1657187821017,
    "execution_millis": 1,
    "deepnote_cell_type": "markdown",
    "deepnote_cell_height": 669.953125
   }
  },
  {
   "cell_type": "markdown",
   "source": "<p style=\"padding: 10px; border: 2px solid red;\">\n<b>Box 1: Tools for creating and visualising networks</b></br>\n<b>Python: </b>NetworkX, python-igraph</br>\n<b>R: </b>igraph</br>\n</p>",
   "metadata": {
    "cell_id": "9ac2b0a1d40f43baa10f89003bd18264",
    "tags": [],
    "deepnote_cell_type": "markdown",
    "deepnote_cell_height": 121.1875
   }
  },
  {
   "cell_type": "code",
   "metadata": {
    "cell_id": "9d6e026167984953beab13d37fab07d9",
    "tags": [],
    "deepnote_to_be_reexecuted": false,
    "source_hash": "2370b9e",
    "execution_start": 1658480145504,
    "execution_millis": 0,
    "deepnote_cell_type": "code",
    "deepnote_cell_height": 117
   },
   "source": "# Upload python modules\nimport numpy as np\nimport networkx as nx",
   "execution_count": 3,
   "outputs": []
  },
  {
   "cell_type": "code",
   "source": "pip install powerlaw\n",
   "metadata": {
    "cell_id": "af0036aec285482d89961843da2f8d94",
    "tags": [],
    "deepnote_to_be_reexecuted": false,
    "source_hash": "8f73ac95",
    "execution_start": 1658480156920,
    "execution_millis": 3282,
    "deepnote_cell_type": "code",
    "deepnote_cell_height": 508.40625
   },
   "outputs": [
    {
     "name": "stdout",
     "text": "Collecting powerlaw\n  Downloading powerlaw-1.5-py3-none-any.whl (24 kB)\nRequirement already satisfied: numpy in /shared-libs/python3.9/py/lib/python3.9/site-packages (from powerlaw) (1.22.4)\nRequirement already satisfied: mpmath in /shared-libs/python3.9/py/lib/python3.9/site-packages (from powerlaw) (1.2.1)\nRequirement already satisfied: matplotlib in /shared-libs/python3.9/py/lib/python3.9/site-packages (from powerlaw) (3.5.2)\nRequirement already satisfied: scipy in /shared-libs/python3.9/py/lib/python3.9/site-packages (from powerlaw) (1.8.1)\nRequirement already satisfied: pillow>=6.2.0 in /shared-libs/python3.9/py/lib/python3.9/site-packages (from matplotlib->powerlaw) (9.1.1)\nRequirement already satisfied: python-dateutil>=2.7 in /shared-libs/python3.9/py-core/lib/python3.9/site-packages (from matplotlib->powerlaw) (2.8.2)\nRequirement already satisfied: fonttools>=4.22.0 in /shared-libs/python3.9/py/lib/python3.9/site-packages (from matplotlib->powerlaw) (4.33.3)\nRequirement already satisfied: packaging>=20.0 in /shared-libs/python3.9/py/lib/python3.9/site-packages (from matplotlib->powerlaw) (21.3)\nRequirement already satisfied: kiwisolver>=1.0.1 in /shared-libs/python3.9/py/lib/python3.9/site-packages (from matplotlib->powerlaw) (1.4.2)\nRequirement already satisfied: cycler>=0.10 in /shared-libs/python3.9/py/lib/python3.9/site-packages (from matplotlib->powerlaw) (0.11.0)\nRequirement already satisfied: pyparsing>=2.2.1 in /shared-libs/python3.9/py/lib/python3.9/site-packages (from matplotlib->powerlaw) (3.0.9)\nRequirement already satisfied: six>=1.5 in /shared-libs/python3.9/py-core/lib/python3.9/site-packages (from python-dateutil>=2.7->matplotlib->powerlaw) (1.16.0)\nInstalling collected packages: powerlaw\nSuccessfully installed powerlaw-1.5\n\u001b[33mWARNING: Running pip as the 'root' user can result in broken permissions and conflicting behaviour with the system package manager. It is recommended to use a virtual environment instead: https://pip.pypa.io/warnings/venv\u001b[0m\u001b[33m\n\u001b[0m\u001b[33mWARNING: You are using pip version 22.0.4; however, version 22.2 is available.\nYou should consider upgrading via the '/usr/local/bin/python -m pip install --upgrade pip' command.\u001b[0m\u001b[33m\n\u001b[0mNote: you may need to restart the kernel to use updated packages.\n",
     "output_type": "stream"
    }
   ],
   "execution_count": 5
  },
  {
   "cell_type": "code",
   "source": "import powerlaw",
   "metadata": {
    "cell_id": "af53c6d22222498e9628be6a44b5235f",
    "tags": [],
    "deepnote_to_be_reexecuted": false,
    "source_hash": "f896b48d",
    "execution_start": 1658480189093,
    "execution_millis": 4,
    "deepnote_cell_type": "code",
    "deepnote_cell_height": 81
   },
   "outputs": [],
   "execution_count": 6
  },
  {
   "cell_type": "code",
   "metadata": {
    "cell_id": "d47aafdcea8a484fa539281c2f1f1750",
    "tags": [],
    "deepnote_to_be_reexecuted": false,
    "source_hash": "25325843",
    "execution_start": 1658302331236,
    "execution_millis": 424,
    "deepnote_cell_type": "code",
    "deepnote_cell_height": 153
   },
   "source": "# Import python modules for visualizations\nimport matplotlib.pylab as plt\nimport seaborn as sns\n\n%matplotlib inline",
   "execution_count": null,
   "outputs": []
  },
  {
   "cell_type": "markdown",
   "source": "### Network representation\n\nNetworks are most naturally visualized as a set of points (nodes) connected by lines (edges).\n\n<img src=\"./Figures/graph_random_circle.png\" width=200/>\n\nThis data is typically stored as a list of edges, for the figure above we would have G = {A,B}, {B,A}, {B,C}. Another equivalent form is the adjacency matrix, which is less intuitive, but mathematically appealing (color code: black=1; white=0).\n\n<img src=\"./Figures/matrix_example.png\" width=400/>\n\n",
   "metadata": {
    "cell_id": "0e11760908b4435c8a0c3a571685ded0",
    "tags": [],
    "deepnote_cell_type": "markdown",
    "deepnote_cell_height": 691.859375
   }
  },
  {
   "cell_type": "markdown",
   "source": "### Network construction\n\nFrom scratch. Let's construct the matrix (numpy array), A representing the following graph. \n\n<img src=\"./Figures/ex0_1.png\" width=200/>\n\nWe will write the connection from row to column (e.g. the link from 1 to 3 should be at the 1st row and 3rd column). Note this convention is not always consistent.",
   "metadata": {
    "cell_id": "a901aed0d7444d5da4b1947144d66d60",
    "tags": [],
    "deepnote_cell_type": "markdown",
    "deepnote_cell_height": 390.953125
   }
  },
  {
   "cell_type": "code",
   "metadata": {
    "cell_id": "326115de9a08432ba123216aff7c258e",
    "tags": [],
    "deepnote_to_be_reexecuted": false,
    "source_hash": "dde9e596",
    "execution_start": 1658225783859,
    "execution_millis": 14,
    "deepnote_cell_type": "code",
    "deepnote_cell_height": 320.96875,
    "deepnote_output_heights": [
     97.96875
    ]
   },
   "source": "A = np.array([\n       [0., 0., 1., 0., 0.],\n       [1., 0., 0., 0., 0.],\n       [0., 0., 0., 1., 0.],\n       [1., 0., 0., 0., 0.],\n       [0., 0., 0., 1., 0.]])\n       \nA",
   "execution_count": null,
   "outputs": [
    {
     "output_type": "execute_result",
     "execution_count": 3,
     "data": {
      "text/plain": "array([[0., 0., 1., 0., 0.],\n       [1., 0., 0., 0., 0.],\n       [0., 0., 0., 1., 0.],\n       [1., 0., 0., 0., 0.],\n       [0., 0., 0., 1., 0.]])"
     },
     "metadata": {}
    }
   ]
  },
  {
   "cell_type": "markdown",
   "source": "NetworkX is a python library specialized for working with graphs. They provide a class networkx.Graph which stores a network as a list of edges. We can convert freely between the different representations using networkx.",
   "metadata": {
    "cell_id": "75c61bd9f5e94c06b32b9efe84476f93",
    "tags": [],
    "deepnote_cell_type": "markdown",
    "deepnote_cell_height": 74.796875
   }
  },
  {
   "cell_type": "code",
   "metadata": {
    "cell_id": "210af4300a0147e1bacc939f9e2b39e9",
    "tags": [],
    "deepnote_to_be_reexecuted": false,
    "source_hash": "12a60cfd",
    "execution_start": 1658225831620,
    "execution_millis": 1400,
    "deepnote_cell_type": "code",
    "deepnote_cell_height": 437,
    "deepnote_output_heights": [
     304
    ]
   },
   "source": "import networkx as nx\nG = nx.from_numpy_array(A)\nnx.draw(G)",
   "execution_count": null,
   "outputs": [
    {
     "data": {
      "text/plain": "<Figure size 432x288 with 1 Axes>",
      "image/png": "[encoded data removed]"
     },
     "metadata": {
      "image/png": {
       "width": 446,
       "height": 302
      }
     },
     "output_type": "display_data"
    }
   ]
  },
  {
   "cell_type": "markdown",
   "source": "**Directedness and weightedness**\n\nWe have two questions of network properties to consider when making a model:\n- is the edges directed or undirected?\n- are the edges continuous or binary?\n\nWe can use the nx.DiGraph class to force it to create a directed graph.",
   "metadata": {
    "cell_id": "00fbfce69f25483b9fc687c5422330a2",
    "tags": [],
    "deepnote_cell_type": "markdown",
    "deepnote_cell_height": 186.984375
   }
  },
  {
   "cell_type": "code",
   "metadata": {
    "cell_id": "60f0b615d72a436bbb10207ddee7ea79",
    "tags": [],
    "deepnote_to_be_reexecuted": false,
    "source_hash": "be949f97",
    "execution_start": 1658225932372,
    "execution_millis": 162,
    "deepnote_cell_type": "code",
    "deepnote_cell_height": 419,
    "deepnote_output_heights": [
     304
    ]
   },
   "source": "G_dir = nx.from_numpy_array(A, create_using=nx.DiGraph)\nnx.draw(G_dir)",
   "execution_count": null,
   "outputs": [
    {
     "data": {
      "text/plain": "<Figure size 432x288 with 1 Axes>",
      "image/png": "[encoded data removed]"
     },
     "metadata": {
      "image/png": {
       "width": 446,
       "height": 302
      }
     },
     "output_type": "display_data"
    }
   ]
  },
  {
   "cell_type": "markdown",
   "source": "**Number of nodes and edges**",
   "metadata": {
    "cell_id": "134cb33f273c44f69d171fba78c564e3",
    "tags": [],
    "deepnote_cell_type": "markdown",
    "deepnote_cell_height": 52.390625
   }
  },
  {
   "cell_type": "code",
   "metadata": {
    "cell_id": "00b4c690107a451d9c9c75a958749f5d",
    "tags": [],
    "deepnote_to_be_reexecuted": false,
    "source_hash": "a422efcc",
    "execution_start": 1658226098611,
    "execution_millis": 9,
    "deepnote_cell_type": "code",
    "deepnote_cell_height": 149.390625
   },
   "source": "print(\"number of nodes: \",  G.number_of_nodes())\nprint(\"number of edges: \", G.number_of_edges())",
   "execution_count": null,
   "outputs": [
    {
     "name": "stdout",
     "text": "number of nodes:  5\nnumber of edges:  5\n",
     "output_type": "stream"
    }
   ]
  },
  {
   "cell_type": "markdown",
   "source": "How to compute the total number of possible edges?\n\nLet’s assume an undirected graph with N vertices. Further, we’re also assuming that the graph has a maximum number of edges. In such a case, from the starting vertex, we can draw (N-1) edges in the graph. Continuing this way, from the next vertex we can draw (N-2) edges, etc.\n\n*(N-1) + (N-2) + ... + 2 + 1 = (N*(N-1))/2*\n\n\nWe can convert an undirected graph into a directed graph by replacing each edge with two directed edges. Hence the revised formula for the maximum number of edges in a directed graph: is *N*(N-1)*\n",
   "metadata": {
    "cell_id": "6247836451da406b88023ac3c69a7771",
    "tags": [],
    "deepnote_cell_type": "markdown",
    "deepnote_cell_height": 228.78125
   }
  },
  {
   "cell_type": "markdown",
   "source": "**Node names**",
   "metadata": {
    "cell_id": "e110feecc92b4da59c79679ef581af79",
    "tags": [],
    "deepnote_cell_type": "markdown",
    "deepnote_cell_height": 52.390625
   }
  },
  {
   "cell_type": "code",
   "metadata": {
    "cell_id": "03f5e29172b2479286fbb798c482ad72",
    "tags": [],
    "deepnote_to_be_reexecuted": false,
    "source_hash": "7ca5707b",
    "execution_start": 1658226182921,
    "execution_millis": 159,
    "deepnote_cell_type": "code",
    "deepnote_cell_height": 187.078125
   },
   "source": "print(G.nodes)\nprint(1 in G.nodes())\nprint(5 in G.nodes())",
   "execution_count": null,
   "outputs": [
    {
     "name": "stdout",
     "text": "[0, 1, 2, 3, 4]\nTrue\nFalse\n",
     "output_type": "stream"
    }
   ]
  },
  {
   "cell_type": "markdown",
   "source": "**Drawing the network**",
   "metadata": {
    "cell_id": "398945a90a6749a2a04433204187730a",
    "tags": [],
    "deepnote_cell_type": "markdown",
    "deepnote_cell_height": 52.390625
   }
  },
  {
   "cell_type": "code",
   "metadata": {
    "cell_id": "81d1f418da19416f8f524c564b8a265a",
    "tags": [],
    "deepnote_to_be_reexecuted": false,
    "source_hash": "70ce4670",
    "execution_start": 1658226347388,
    "execution_millis": 752,
    "deepnote_cell_type": "code",
    "deepnote_cell_height": 401,
    "deepnote_output_heights": [
     304
    ]
   },
   "source": "nx.draw(G, with_labels=True, node_color='orange')",
   "execution_count": null,
   "outputs": [
    {
     "data": {
      "text/plain": "<Figure size 432x288 with 1 Axes>",
      "image/png": "[encoded data removed]"
     },
     "metadata": {
      "image/png": {
       "width": 446,
       "height": 302
      }
     },
     "output_type": "display_data"
    }
   ]
  },
  {
   "cell_type": "markdown",
   "source": "**Let us try creating a small protein protein interaction network from STRINGdb.**\n\nThe simpliest way to create anetwork is to supply a list of edges.\n",
   "metadata": {
    "cell_id": "d36b6318da1a4e0298f6ab9ebc29f4b7",
    "tags": [],
    "deepnote_cell_type": "markdown",
    "deepnote_cell_height": 88.796875
   }
  },
  {
   "cell_type": "code",
   "metadata": {
    "cell_id": "1f03c1cc8e4b4dba8b13f625eae2e4ff",
    "tags": [],
    "deepnote_to_be_reexecuted": false,
    "source_hash": "168e4c69",
    "execution_start": 1658285745158,
    "execution_millis": 49,
    "deepnote_cell_type": "code",
    "deepnote_cell_height": 449
   },
   "source": "# Reading the edgelist from STRING\nimport pandas as pd\nedge_list = pd.read_table(\"Data/1_STRING_network.tsv\")\nedge_list.head()",
   "execution_count": null,
   "outputs": [
    {
     "output_type": "execute_result",
     "execution_count": 5,
     "data": {
      "application/vnd.deepnote.dataframe.v3+json": {
       "column_count": 9,
       "row_count": 5,
       "columns": [
        {
         "name": "node1",
         "dtype": "object",
         "stats": {
          "unique_count": 1,
          "nan_count": 0,
          "categories": [
           {
            "name": "AR",
            "count": 5
           }
          ]
         }
        },
        {
         "name": "node2",
         "dtype": "object",
         "stats": {
          "unique_count": 5,
          "nan_count": 0,
          "categories": [
           {
            "name": "FOXA1",
            "count": 1
           },
           {
            "name": "HSP90AA1",
            "count": 1
           },
           {
            "name": "3 others",
            "count": 3
           }
          ]
         }
        },
        {
         "name": "node1_string_id",
         "dtype": "object",
         "stats": {
          "unique_count": 1,
          "nan_count": 0,
          "categories": [
           {
            "name": "9606.ENSP00000363822",
            "count": 5
           }
          ]
         }
        },
        {
         "name": "node2_string_id",
         "dtype": "object",
         "stats": {
          "unique_count": 5,
          "nan_count": 0,
          "categories": [
           {
            "name": "9606.ENSP00000250448",
            "count": 1
           },
           {
            "name": "9606.ENSP00000335153",
            "count": 1
           },
           {
            "name": "3 others",
            "count": 3
           }
          ]
         }
        },
        {
         "name": "homology",
         "dtype": "int64",
         "stats": {
          "unique_count": 1,
          "nan_count": 0,
          "min": "0",
          "max": "0",
          "histogram": [
           {
            "bin_start": -0.5,
            "bin_end": -0.4,
            "count": 0
           },
           {
            "bin_start": -0.4,
            "bin_end": -0.3,
            "count": 0
           },
           {
            "bin_start": -0.3,
            "bin_end": -0.19999999999999996,
            "count": 0
           },
           {
            "bin_start": -0.19999999999999996,
            "bin_end": -0.09999999999999998,
            "count": 0
           },
           {
            "bin_start": -0.09999999999999998,
            "bin_end": 0,
            "count": 0
           },
           {
            "bin_start": 0,
            "bin_end": 0.10000000000000009,
            "count": 5
           },
           {
            "bin_start": 0.10000000000000009,
            "bin_end": 0.20000000000000007,
            "count": 0
           },
           {
            "bin_start": 0.20000000000000007,
            "bin_end": 0.30000000000000004,
            "count": 0
           },
           {
            "bin_start": 0.30000000000000004,
            "bin_end": 0.4,
            "count": 0
           },
           {
            "bin_start": 0.4,
            "bin_end": 0.5,
            "count": 0
           }
          ]
         }
        },
        {
         "name": "experimentally_determined_interaction",
         "dtype": "float64",
         "stats": {
          "unique_count": 4,
          "nan_count": 0,
          "min": "0.483",
          "max": "0.945",
          "histogram": [
           {
            "bin_start": 0.483,
            "bin_end": 0.5292,
            "count": 3
           },
           {
            "bin_start": 0.5292,
            "bin_end": 0.5754,
            "count": 0
           },
           {
            "bin_start": 0.5754,
            "bin_end": 0.6215999999999999,
            "count": 0
           },
           {
            "bin_start": 0.6215999999999999,
            "bin_end": 0.6678,
            "count": 0
           },
           {
            "bin_start": 0.6678,
            "bin_end": 0.714,
            "count": 0
           },
           {
            "bin_start": 0.714,
            "bin_end": 0.7602,
            "count": 0
           },
           {
            "bin_start": 0.7602,
            "bin_end": 0.8064,
            "count": 0
           },
           {
            "bin_start": 0.8064,
            "bin_end": 0.8526,
            "count": 0
           },
           {
            "bin_start": 0.8526,
            "bin_end": 0.8988,
            "count": 0
           },
           {
            "bin_start": 0.8988,
            "bin_end": 0.945,
            "count": 2
           }
          ]
         }
        },
        {
         "name": "database_annotated",
         "dtype": "float64",
         "stats": {
          "unique_count": 2,
          "nan_count": 0,
          "min": "0.0",
          "max": "0.9",
          "histogram": [
           {
            "bin_start": 0,
            "bin_end": 0.09,
            "count": 1
           },
           {
            "bin_start": 0.09,
            "bin_end": 0.18,
            "count": 0
           },
           {
            "bin_start": 0.18,
            "bin_end": 0.27,
            "count": 0
           },
           {
            "bin_start": 0.27,
            "bin_end": 0.36,
            "count": 0
           },
           {
            "bin_start": 0.36,
            "bin_end": 0.44999999999999996,
            "count": 0
           },
           {
            "bin_start": 0.44999999999999996,
            "bin_end": 0.54,
            "count": 0
           },
           {
            "bin_start": 0.54,
            "bin_end": 0.63,
            "count": 0
           },
           {
            "bin_start": 0.63,
            "bin_end": 0.72,
            "count": 0
           },
           {
            "bin_start": 0.72,
            "bin_end": 0.8099999999999999,
            "count": 0
           },
           {
            "bin_start": 0.8099999999999999,
            "bin_end": 0.9,
            "count": 4
           }
          ]
         }
        },
        {
         "name": "automated_textmining",
         "dtype": "float64",
         "stats": {
          "unique_count": 5,
          "nan_count": 0,
          "min": "0.119",
          "max": "0.898",
          "histogram": [
           {
            "bin_start": 0.119,
            "bin_end": 0.1969,
            "count": 1
           },
           {
            "bin_start": 0.1969,
            "bin_end": 0.2748,
            "count": 0
           },
           {
            "bin_start": 0.2748,
            "bin_end": 0.3527,
            "count": 0
           },
           {
            "bin_start": 0.3527,
            "bin_end": 0.4306,
            "count": 0
           },
           {
            "bin_start": 0.4306,
            "bin_end": 0.5085,
            "count": 0
           },
           {
            "bin_start": 0.5085,
            "bin_end": 0.5864,
            "count": 0
           },
           {
            "bin_start": 0.5864,
            "bin_end": 0.6643,
            "count": 0
           },
           {
            "bin_start": 0.6643,
            "bin_end": 0.7422,
            "count": 0
           },
           {
            "bin_start": 0.7422,
            "bin_end": 0.8200999999999999,
            "count": 1
           },
           {
            "bin_start": 0.8200999999999999,
            "bin_end": 0.898,
            "count": 3
           }
          ]
         }
        },
        {
         "name": "combined_score",
         "dtype": "float64",
         "stats": {
          "unique_count": 4,
          "nan_count": 0,
          "min": "0.525",
          "max": "0.999",
          "histogram": [
           {
            "bin_start": 0.525,
            "bin_end": 0.5724,
            "count": 1
           },
           {
            "bin_start": 0.5724,
            "bin_end": 0.6198,
            "count": 0
           },
           {
            "bin_start": 0.6198,
            "bin_end": 0.6672,
            "count": 0
           },
           {
            "bin_start": 0.6672,
            "bin_end": 0.7146,
            "count": 0
           },
           {
            "bin_start": 0.7146,
            "bin_end": 0.762,
            "count": 0
           },
           {
            "bin_start": 0.762,
            "bin_end": 0.8094,
            "count": 0
           },
           {
            "bin_start": 0.8094,
            "bin_end": 0.8568,
            "count": 0
           },
           {
            "bin_start": 0.8568,
            "bin_end": 0.9042,
            "count": 0
           },
           {
            "bin_start": 0.9042,
            "bin_end": 0.9516,
            "count": 0
           },
           {
            "bin_start": 0.9516,
            "bin_end": 0.999,
            "count": 4
           }
          ]
         }
        },
        {
         "name": "_deepnote_index_column",
         "dtype": "int64"
        }
       ],
       "rows": [
        {
         "node1": "AR",
         "node2": "FOXA1",
         "node1_string_id": "9606.ENSP00000363822",
         "node2_string_id": "9606.ENSP00000250448",
         "homology": 0,
         "experimentally_determined_interaction": 0.494,
         "database_annotated": 0.9,
         "automated_textmining": 0.892,
         "combined_score": 0.994,
         "_deepnote_index_column": 0
        },
        {
         "node1": "AR",
         "node2": "HSP90AA1",
         "node1_string_id": "9606.ENSP00000363822",
         "node2_string_id": "9606.ENSP00000335153",
         "homology": 0,
         "experimentally_determined_interaction": 0.494,
         "database_annotated": 0.9,
         "automated_textmining": 0.898,
         "combined_score": 0.994,
         "_deepnote_index_column": 1
        },
        {
         "node1": "AR",
         "node2": "TMPRSS2",
         "node1_string_id": "9606.ENSP00000363822",
         "node2_string_id": "9606.ENSP00000381588",
         "homology": 0,
         "experimentally_determined_interaction": 0.483,
         "database_annotated": 0,
         "automated_textmining": 0.119,
         "combined_score": 0.525,
         "_deepnote_index_column": 2
        },
        {
         "node1": "AR",
         "node2": "NCOA2",
         "node1_string_id": "9606.ENSP00000363822",
         "node2_string_id": "9606.ENSP00000399968",
         "homology": 0,
         "experimentally_determined_interaction": 0.945,
         "database_annotated": 0.9,
         "automated_textmining": 0.793,
         "combined_score": 0.998,
         "_deepnote_index_column": 3
        },
        {
         "node1": "AR",
         "node2": "NCOA4",
         "node1_string_id": "9606.ENSP00000363822",
         "node2_string_id": "9606.ENSP00000463027",
         "homology": 0,
         "experimentally_determined_interaction": 0.933,
         "database_annotated": 0.9,
         "automated_textmining": 0.871,
         "combined_score": 0.999,
         "_deepnote_index_column": 4
        }
       ]
      },
      "text/plain": "  node1     node2       node1_string_id       node2_string_id  homology  \\\n0    AR     FOXA1  9606.ENSP00000363822  9606.ENSP00000250448         0   \n1    AR  HSP90AA1  9606.ENSP00000363822  9606.ENSP00000335153         0   \n2    AR   TMPRSS2  9606.ENSP00000363822  9606.ENSP00000381588         0   \n3    AR     NCOA2  9606.ENSP00000363822  9606.ENSP00000399968         0   \n4    AR     NCOA4  9606.ENSP00000363822  9606.ENSP00000463027         0   \n\n   experimentally_determined_interaction  database_annotated  \\\n0                                  0.494                 0.9   \n1                                  0.494                 0.9   \n2                                  0.483                 0.0   \n3                                  0.945                 0.9   \n4                                  0.933                 0.9   \n\n   automated_textmining  combined_score  \n0                 0.892           0.994  \n1                 0.898           0.994  \n2                 0.119           0.525  \n3                 0.793           0.998  \n4                 0.871           0.999  ",
      "text/html": "<div>\n<style scoped>\n    .dataframe tbody tr th:only-of-type {\n        vertical-align: middle;\n    }\n\n    .dataframe tbody tr th {\n        vertical-align: top;\n    }\n\n    .dataframe thead th {\n        text-align: right;\n    }\n</style>\n<table border=\"1\" class=\"dataframe\">\n  <thead>\n    <tr style=\"text-align: right;\">\n      <th></th>\n      <th>node1</th>\n      <th>node2</th>\n      <th>node1_string_id</th>\n      <th>node2_string_id</th>\n      <th>homology</th>\n      <th>experimentally_determined_interaction</th>\n      <th>database_annotated</th>\n      <th>automated_textmining</th>\n      <th>combined_score</th>\n    </tr>\n  </thead>\n  <tbody>\n    <tr>\n      <th>0</th>\n      <td>AR</td>\n      <td>FOXA1</td>\n      <td>9606.ENSP00000363822</td>\n      <td>9606.ENSP00000250448</td>\n      <td>0</td>\n      <td>0.494</td>\n      <td>0.9</td>\n      <td>0.892</td>\n      <td>0.994</td>\n    </tr>\n    <tr>\n      <th>1</th>\n      <td>AR</td>\n      <td>HSP90AA1</td>\n      <td>9606.ENSP00000363822</td>\n      <td>9606.ENSP00000335153</td>\n      <td>0</td>\n      <td>0.494</td>\n      <td>0.9</td>\n      <td>0.898</td>\n      <td>0.994</td>\n    </tr>\n    <tr>\n      <th>2</th>\n      <td>AR</td>\n      <td>TMPRSS2</td>\n      <td>9606.ENSP00000363822</td>\n      <td>9606.ENSP00000381588</td>\n      <td>0</td>\n      <td>0.483</td>\n      <td>0.0</td>\n      <td>0.119</td>\n      <td>0.525</td>\n    </tr>\n    <tr>\n      <th>3</th>\n      <td>AR</td>\n      <td>NCOA2</td>\n      <td>9606.ENSP00000363822</td>\n      <td>9606.ENSP00000399968</td>\n      <td>0</td>\n      <td>0.945</td>\n      <td>0.9</td>\n      <td>0.793</td>\n      <td>0.998</td>\n    </tr>\n    <tr>\n      <th>4</th>\n      <td>AR</td>\n      <td>NCOA4</td>\n      <td>9606.ENSP00000363822</td>\n      <td>9606.ENSP00000463027</td>\n      <td>0</td>\n      <td>0.933</td>\n      <td>0.9</td>\n      <td>0.871</td>\n      <td>0.999</td>\n    </tr>\n  </tbody>\n</table>\n</div>"
     },
     "metadata": {}
    }
   ]
  },
  {
   "cell_type": "code",
   "metadata": {
    "cell_id": "d2a75f5fbdcd456097bf72fa677d55af",
    "tags": [],
    "deepnote_to_be_reexecuted": false,
    "source_hash": "85ac0c29",
    "execution_start": 1658285747234,
    "execution_millis": 1831,
    "deepnote_cell_type": "code",
    "deepnote_cell_height": 527,
    "deepnote_output_heights": [
     304
    ]
   },
   "source": "# Creating network from edge list \nimport networkx as nx\nG = nx.from_pandas_edgelist(df = edge_list,\n                            source = \"node1\", \n                            target = \"node2\",\n                            edge_attr = \"combined_score\")\npos = nx.spring_layout(G)\nnx.draw(G, with_labels = True, pos = pos, node_size = 1000, node_color = \"#1BB3F5\")",
   "execution_count": null,
   "outputs": [
    {
     "data": {
      "text/plain": "<Figure size 432x288 with 1 Axes>",
      "image/png": "[encoded data removed]"
     },
     "metadata": {
      "image/png": {
       "width": 446,
       "height": 302
      }
     },
     "output_type": "display_data"
    }
   ]
  },
  {
   "cell_type": "markdown",
   "source": "### Network properties\nA primary task after creating a network is to explore its properties, and particularly topological properties, which can help us identify relevant sub-structures within a network.\n\n*Properties derived from element-level analysis:*\n\n<b>Centrality</b>\n\n*Properties derived from group-level analysis*: \n\n- **Connected components**\n- **Communities**\n- **Cliques**\n\n*Properties derived from network-level analysis*: \n\n- **Density**\n- **Network diameter**\n- **Network radius**\n- **Scale-free networks**\n- **Clustering coefficient**\n- **Network modularity**",
   "metadata": {
    "cell_id": "c2c2d31d6bc443f89bb5380884e510ab",
    "tags": [],
    "deepnote_cell_type": "markdown",
    "deepnote_cell_height": 532.96875
   }
  },
  {
   "cell_type": "code",
   "metadata": {
    "cell_id": "fd61f7ea922e4855a0ade075456b83b5",
    "tags": [],
    "deepnote_to_be_reexecuted": false,
    "source_hash": "b12c4dd",
    "execution_start": 1658288084317,
    "execution_millis": 3,
    "deepnote_cell_type": "code",
    "deepnote_cell_height": 468.953125
   },
   "source": "# Get basic properties of the network\nprint(\"Number of nodes:\", G.number_of_nodes())\nprint(\"Number of edges:\", G.number_of_edges())\nprint(\"Number of connected components:\", nx.number_connected_components(G))\nprint(\"Number of isolated nodes:\", nx.number_of_isolates(G))\nprint(\"Number of self loops:\", nx.number_of_selfloops(G))\nprint(\"Diameter of network:\", nx.diameter(G))\nprint(\"Radius of network:\", nx.radius(G))\nprint(\"Average clustering coefficient:\", nx.average_clustering(G))\nprint(\"Average shortest path length:\", nx.average_shortest_path_length(G))\nprint(\"Network density:\", nx.density(G))",
   "execution_count": null,
   "outputs": [
    {
     "name": "stdout",
     "text": "Number of nodes: 14\nNumber of edges: 21\nNumber of connected components: 1\nNumber of isolated nodes: 0\nNumber of self loops: 0\nDiameter of network: 4\nRadius of network: 2\nAverage clustering coefficient: 0.38809523809523805\nAverage shortest path length: 2.4725274725274726\nNetwork density: 0.23076923076923078\n",
     "output_type": "stream"
    }
   ]
  },
  {
   "cell_type": "markdown",
   "source": "#### Quantifying the importance of a node within a network\n\nA bunch of graph metrics exist that quantify importance of a node within a network.\nThese are collectively termed \"centrality\", but all quantify slightly different things.\n\n- degree centrality\n- betweenness centrality\n- closeness centrality\n\n<img src=\"./Figures/Basic-concept-of-network-centralities.png\" width=600/>\n\nFrom \nApplication of Graph Theory for Identifying Connectivity Patterns in Human Brain Networks: A Systematic Review. Figure 5. \n\n*FIGURE 5 | Basic concept of network centralities. (A) Hubs (connector or provincial) refer to nodes with a high nodal centrality, which can be identified using different measures. (B) The degree centrality is defined as the number of node's neighbors. The betweenness centrality measures the node's role in acting as a bridge between separate clusters by computing the ratio of all shortest paths in the network that contain a given node. The closeness centrality quantifies how fast a given node in a connected graph can access all other nodes, hence the more central a node is, the closer it is to all other nodes. The eigenvector centrality is a self-referential measure of centrality that considers the quality of a link, so that being connected to a central node increases one's centrality in turn; the red colored node is more central than the gray colored node, although their degrees are equal. The participation coefficient of a node represents the distribution of its connections among separate modules. PageRank is a variant of eigenvector centrality, used by Google Search to determine a page's importance; the PageRank of an undirected graph is statistically similar to the degree centrality, but they are generally distinct. Note that the size of the nodes in all cases is proportional to the node degree, and the red nodes (except in the eigenvalue centrality) are the most central with respect to the corresponding definition of centrality, even though their degree are low.*\n",
   "metadata": {
    "cell_id": "8feab1bac769402da4f2077d2659bef3",
    "tags": [],
    "deepnote_cell_type": "markdown",
    "deepnote_cell_height": 744.34375
   }
  },
  {
   "cell_type": "code",
   "metadata": {
    "cell_id": "a30fbca67ea44a6c964bac68694d0f48",
    "tags": [],
    "deepnote_to_be_reexecuted": false,
    "source_hash": "c58b519e",
    "execution_start": 1657287160632,
    "execution_millis": 149,
    "deepnote_cell_type": "code",
    "deepnote_cell_height": 437,
    "deepnote_output_heights": [
     304
    ]
   },
   "source": "# Calculating degree for each node of the network\nnode_degree = dict(G.degree())\nnx.draw(G, labels = node_degree, pos = pos, node_size = 1000, node_color = \"#1BB3F5\")",
   "execution_count": null,
   "outputs": [
    {
     "data": {
      "text/plain": "<Figure size 432x288 with 1 Axes>",
      "image/png": "[encoded data removed]"
     },
     "metadata": {
      "image/png": {
       "width": 446,
       "height": 302
      }
     },
     "output_type": "display_data"
    }
   ]
  },
  {
   "cell_type": "markdown",
   "source": "##### Degree centrality\n\n[brief explanation]",
   "metadata": {
    "cell_id": "f494c511e08f434e8db8b3b3ae69a140",
    "tags": [],
    "deepnote_cell_type": "markdown",
    "deepnote_cell_height": 88.390625
   }
  },
  {
   "cell_type": "code",
   "metadata": {
    "cell_id": "8d86505d959c4e2387cbcdc2b61e183c",
    "tags": [],
    "deepnote_to_be_reexecuted": false,
    "source_hash": "30b296c3",
    "execution_start": 1657287160789,
    "execution_millis": 173,
    "deepnote_cell_type": "code",
    "deepnote_cell_height": 437,
    "deepnote_output_heights": [
     304
    ]
   },
   "source": "degree_centrality = nx.degree_centrality(G)\ndegree_centrality = {key : round(degree_centrality[key], 2) for key in degree_centrality}\nnx.draw(G, labels = degree_centrality, pos = pos, node_size = 1000, node_color = \"#1BB3F5\")",
   "execution_count": null,
   "outputs": [
    {
     "data": {
      "text/plain": "<Figure size 432x288 with 1 Axes>",
      "image/png": "[encoded data removed]"
     },
     "metadata": {
      "image/png": {
       "width": 446,
       "height": 302
      }
     },
     "output_type": "display_data"
    }
   ]
  },
  {
   "cell_type": "markdown",
   "source": "##### Betweenness centrality\n\n[brief explanation]",
   "metadata": {
    "cell_id": "af60fcdb53c8411388fde4054df8a937",
    "tags": [],
    "deepnote_cell_type": "markdown",
    "deepnote_cell_height": 88.390625
   }
  },
  {
   "cell_type": "code",
   "metadata": {
    "cell_id": "1c46c2f0d8434e58a11441104f1bf674",
    "tags": [],
    "deepnote_to_be_reexecuted": false,
    "source_hash": "6dec389e",
    "execution_start": 1657287160975,
    "execution_millis": 167,
    "deepnote_cell_type": "code",
    "deepnote_cell_height": 437,
    "deepnote_output_heights": [
     304
    ]
   },
   "source": "betweenness_centrality = nx.betweenness_centrality(G)\nbetweenness_centrality = {key : round(betweenness_centrality[key], 2) for key in betweenness_centrality}\nnx.draw(G, labels = betweenness_centrality, pos = pos, node_size = 1000, node_color = \"#1BB3F5\")",
   "execution_count": null,
   "outputs": [
    {
     "data": {
      "text/plain": "<Figure size 432x288 with 1 Axes>",
      "image/png": "[encoded data removed]"
     },
     "metadata": {
      "image/png": {
       "width": 446,
       "height": 302
      }
     },
     "output_type": "display_data"
    }
   ]
  },
  {
   "cell_type": "markdown",
   "source": "##### Closeness centrality\n\n[explanation]",
   "metadata": {
    "cell_id": "07ec88ea71dc4aca890fc321b35e6d69",
    "tags": [],
    "deepnote_cell_type": "markdown",
    "deepnote_cell_height": 88.390625
   }
  },
  {
   "cell_type": "code",
   "metadata": {
    "cell_id": "ece3bfde7b1149d2bd2db1a3527fdaf8",
    "tags": [],
    "deepnote_to_be_reexecuted": false,
    "source_hash": "a52ecdce",
    "execution_start": 1657287161179,
    "execution_millis": 162,
    "deepnote_cell_type": "code",
    "deepnote_cell_height": 437,
    "deepnote_output_heights": [
     304
    ]
   },
   "source": "closeness_centrality = nx.closeness_centrality(G)\ncloseness_centrality = {key : round(closeness_centrality[key], 2) for key in closeness_centrality}\nnx.draw(G, labels = closeness_centrality, pos = pos, node_size = 1000, node_color = \"#1BB3F5\")",
   "execution_count": null,
   "outputs": [
    {
     "data": {
      "text/plain": "<Figure size 432x288 with 1 Axes>",
      "image/png": "[encoded data removed]"
     },
     "metadata": {
      "image/png": {
       "width": 446,
       "height": 302
      }
     },
     "output_type": "display_data"
    }
   ]
  },
  {
   "cell_type": "code",
   "metadata": {
    "cell_id": "bf72b00e1b084f28bb95eb988453289e",
    "tags": [],
    "deepnote_to_be_reexecuted": false,
    "source_hash": "210eeccb",
    "execution_start": 1657287161363,
    "execution_millis": 23,
    "deepnote_table_state": {
     "pageSize": 50,
     "pageIndex": 0,
     "filters": [],
     "sortBy": [
      {
       "id": "Closeness centrality",
       "type": "desc"
      }
     ]
    },
    "deepnote_table_loading": false,
    "deepnote_cell_type": "code",
    "deepnote_cell_height": 850
   },
   "source": "centrality_table = pd.DataFrame({\"Degree centrality\" : pd.Series(degree_centrality),\n                                    \"Betweenness\" : pd.Series(betweenness_centrality),\n                                    \"Closeness centrality\" : pd.Series(closeness_centrality)})\ncentrality_table",
   "execution_count": null,
   "outputs": [
    {
     "output_type": "execute_result",
     "execution_count": 9,
     "data": {
      "application/vnd.deepnote.dataframe.v3+json": {
       "column_count": 3,
       "row_count": 14,
       "columns": [
        {
         "name": "Degree centrality",
         "dtype": "float64",
         "stats": {
          "unique_count": 6,
          "nan_count": 0,
          "min": "0.08",
          "max": "0.46",
          "histogram": [
           {
            "bin_start": 0.08,
            "bin_end": 0.118,
            "count": 5
           },
           {
            "bin_start": 0.118,
            "bin_end": 0.156,
            "count": 2
           },
           {
            "bin_start": 0.156,
            "bin_end": 0.194,
            "count": 0
           },
           {
            "bin_start": 0.194,
            "bin_end": 0.23199999999999998,
            "count": 2
           },
           {
            "bin_start": 0.23199999999999998,
            "bin_end": 0.27,
            "count": 0
           },
           {
            "bin_start": 0.27,
            "bin_end": 0.308,
            "count": 0
           },
           {
            "bin_start": 0.308,
            "bin_end": 0.34600000000000003,
            "count": 1
           },
           {
            "bin_start": 0.34600000000000003,
            "bin_end": 0.384,
            "count": 1
           },
           {
            "bin_start": 0.384,
            "bin_end": 0.422,
            "count": 0
           },
           {
            "bin_start": 0.422,
            "bin_end": 0.46,
            "count": 3
           }
          ]
         }
        },
        {
         "name": "Betweenness",
         "dtype": "float64",
         "stats": {
          "unique_count": 6,
          "nan_count": 0,
          "min": "0.0",
          "max": "0.54",
          "histogram": [
           {
            "bin_start": 0,
            "bin_end": 0.054000000000000006,
            "count": 9
           },
           {
            "bin_start": 0.054000000000000006,
            "bin_end": 0.10800000000000001,
            "count": 1
           },
           {
            "bin_start": 0.10800000000000001,
            "bin_end": 0.16200000000000003,
            "count": 0
           },
           {
            "bin_start": 0.16200000000000003,
            "bin_end": 0.21600000000000003,
            "count": 0
           },
           {
            "bin_start": 0.21600000000000003,
            "bin_end": 0.27,
            "count": 0
           },
           {
            "bin_start": 0.27,
            "bin_end": 0.32400000000000007,
            "count": 2
           },
           {
            "bin_start": 0.32400000000000007,
            "bin_end": 0.37800000000000006,
            "count": 0
           },
           {
            "bin_start": 0.37800000000000006,
            "bin_end": 0.43200000000000005,
            "count": 0
           },
           {
            "bin_start": 0.43200000000000005,
            "bin_end": 0.48600000000000004,
            "count": 0
           },
           {
            "bin_start": 0.48600000000000004,
            "bin_end": 0.54,
            "count": 2
           }
          ]
         }
        },
        {
         "name": "Closeness centrality",
         "dtype": "float64",
         "stats": {
          "unique_count": 9,
          "nan_count": 0,
          "min": "0.33",
          "max": "0.57",
          "histogram": [
           {
            "bin_start": 0.33,
            "bin_end": 0.354,
            "count": 4
           },
           {
            "bin_start": 0.354,
            "bin_end": 0.378,
            "count": 1
           },
           {
            "bin_start": 0.378,
            "bin_end": 0.402,
            "count": 2
           },
           {
            "bin_start": 0.402,
            "bin_end": 0.426,
            "count": 2
           },
           {
            "bin_start": 0.426,
            "bin_end": 0.44999999999999996,
            "count": 0
           },
           {
            "bin_start": 0.44999999999999996,
            "bin_end": 0.474,
            "count": 1
           },
           {
            "bin_start": 0.474,
            "bin_end": 0.498,
            "count": 1
           },
           {
            "bin_start": 0.498,
            "bin_end": 0.522,
            "count": 0
           },
           {
            "bin_start": 0.522,
            "bin_end": 0.5459999999999999,
            "count": 2
           },
           {
            "bin_start": 0.5459999999999999,
            "bin_end": 0.57,
            "count": 1
           }
          ]
         }
        },
        {
         "name": "_deepnote_index_column",
         "dtype": "object"
        }
       ],
       "rows": [
        {
         "Degree centrality": 0.23,
         "Betweenness": 0.51,
         "Closeness centrality": 0.57,
         "_deepnote_index_column": "HSP90AA1"
        },
        {
         "Degree centrality": 0.46,
         "Betweenness": 0.28,
         "Closeness centrality": 0.54,
         "_deepnote_index_column": "JAK2"
        },
        {
         "Degree centrality": 0.46,
         "Betweenness": 0.31,
         "Closeness centrality": 0.54,
         "_deepnote_index_column": "JAK1"
        },
        {
         "Degree centrality": 0.38,
         "Betweenness": 0.54,
         "Closeness centrality": 0.48,
         "_deepnote_index_column": "AR"
        },
        {
         "Degree centrality": 0.46,
         "Betweenness": 0.07,
         "Closeness centrality": 0.45,
         "_deepnote_index_column": "SOCS3"
        },
        {
         "Degree centrality": 0.31,
         "Betweenness": 0,
         "Closeness centrality": 0.42,
         "_deepnote_index_column": "SOCS1"
        },
        {
         "Degree centrality": 0.23,
         "Betweenness": 0,
         "Closeness centrality": 0.41,
         "_deepnote_index_column": "IFNAR2"
        },
        {
         "Degree centrality": 0.15,
         "Betweenness": 0,
         "Closeness centrality": 0.38,
         "_deepnote_index_column": "EPOR"
        },
        {
         "Degree centrality": 0.15,
         "Betweenness": 0,
         "Closeness centrality": 0.38,
         "_deepnote_index_column": "LEPR"
        },
        {
         "Degree centrality": 0.08,
         "Betweenness": 0,
         "Closeness centrality": 0.36,
         "_deepnote_index_column": "IL10RA"
        },
        {
         "Degree centrality": 0.08,
         "Betweenness": 0,
         "Closeness centrality": 0.33,
         "_deepnote_index_column": "FOXA1"
        },
        {
         "Degree centrality": 0.08,
         "Betweenness": 0,
         "Closeness centrality": 0.33,
         "_deepnote_index_column": "TMPRSS2"
        },
        {
         "Degree centrality": 0.08,
         "Betweenness": 0,
         "Closeness centrality": 0.33,
         "_deepnote_index_column": "NCOA2"
        },
        {
         "Degree centrality": 0.08,
         "Betweenness": 0,
         "Closeness centrality": 0.33,
         "_deepnote_index_column": "NCOA4"
        }
       ]
      },
      "text/plain": "          Degree centrality  Betweenness  Closeness centrality\nAR                     0.38         0.54                  0.48\nFOXA1                  0.08         0.00                  0.33\nHSP90AA1               0.23         0.51                  0.57\nTMPRSS2                0.08         0.00                  0.33\nNCOA2                  0.08         0.00                  0.33\nNCOA4                  0.08         0.00                  0.33\nEPOR                   0.15         0.00                  0.38\nSOCS3                  0.46         0.07                  0.45\nJAK2                   0.46         0.28                  0.54\nJAK1                   0.46         0.31                  0.54\nIFNAR2                 0.23         0.00                  0.41\nSOCS1                  0.31         0.00                  0.42\nIL10RA                 0.08         0.00                  0.36\nLEPR                   0.15         0.00                  0.38",
      "text/html": "<div>\n<style scoped>\n    .dataframe tbody tr th:only-of-type {\n        vertical-align: middle;\n    }\n\n    .dataframe tbody tr th {\n        vertical-align: top;\n    }\n\n    .dataframe thead th {\n        text-align: right;\n    }\n</style>\n<table border=\"1\" class=\"dataframe\">\n  <thead>\n    <tr style=\"text-align: right;\">\n      <th></th>\n      <th>Degree centrality</th>\n      <th>Betweenness</th>\n      <th>Closeness centrality</th>\n    </tr>\n  </thead>\n  <tbody>\n    <tr>\n      <th>AR</th>\n      <td>0.38</td>\n      <td>0.54</td>\n      <td>0.48</td>\n    </tr>\n    <tr>\n      <th>FOXA1</th>\n      <td>0.08</td>\n      <td>0.00</td>\n      <td>0.33</td>\n    </tr>\n    <tr>\n      <th>HSP90AA1</th>\n      <td>0.23</td>\n      <td>0.51</td>\n      <td>0.57</td>\n    </tr>\n    <tr>\n      <th>TMPRSS2</th>\n      <td>0.08</td>\n      <td>0.00</td>\n      <td>0.33</td>\n    </tr>\n    <tr>\n      <th>NCOA2</th>\n      <td>0.08</td>\n      <td>0.00</td>\n      <td>0.33</td>\n    </tr>\n    <tr>\n      <th>NCOA4</th>\n      <td>0.08</td>\n      <td>0.00</td>\n      <td>0.33</td>\n    </tr>\n    <tr>\n      <th>EPOR</th>\n      <td>0.15</td>\n      <td>0.00</td>\n      <td>0.38</td>\n    </tr>\n    <tr>\n      <th>SOCS3</th>\n      <td>0.46</td>\n      <td>0.07</td>\n      <td>0.45</td>\n    </tr>\n    <tr>\n      <th>JAK2</th>\n      <td>0.46</td>\n      <td>0.28</td>\n      <td>0.54</td>\n    </tr>\n    <tr>\n      <th>JAK1</th>\n      <td>0.46</td>\n      <td>0.31</td>\n      <td>0.54</td>\n    </tr>\n    <tr>\n      <th>IFNAR2</th>\n      <td>0.23</td>\n      <td>0.00</td>\n      <td>0.41</td>\n    </tr>\n    <tr>\n      <th>SOCS1</th>\n      <td>0.31</td>\n      <td>0.00</td>\n      <td>0.42</td>\n    </tr>\n    <tr>\n      <th>IL10RA</th>\n      <td>0.08</td>\n      <td>0.00</td>\n      <td>0.36</td>\n    </tr>\n    <tr>\n      <th>LEPR</th>\n      <td>0.15</td>\n      <td>0.00</td>\n      <td>0.38</td>\n    </tr>\n  </tbody>\n</table>\n</div>"
     },
     "metadata": {}
    }
   ]
  },
  {
   "cell_type": "markdown",
   "source": "#### Group-level analysis\n\nMolecular networks are often made up of subsets of biological entities (or molecular features) that interact more intensely among each other than they do with the rest of the network, and it is often very important in research and analysis to identify or approximate these subsets as best as possible so that they can be studied more closely. In complex networks, this is not an easy task. Most of the computational methods we have available to us for finding densely connected subsets of vertices (usually called communities).\n\n##### Connected components\n\nAn important concept within methods for community detection is \"connected component\".\n\nA connected component of a graph is a connected subset of vertices, none of which are connected to any other vertex in the graph.\n\n*Strongly Connected Components*\n*Weakly Connected Components*\n\nConnected components can help finding connected clusters.\n\n",
   "metadata": {
    "cell_id": "d30d8f5b4f334896916a371bdb299aca",
    "tags": [],
    "deepnote_cell_type": "markdown",
    "deepnote_cell_height": 381.984375
   }
  },
  {
   "cell_type": "code",
   "metadata": {
    "cell_id": "055adf54d915443f9b1b0ea6caacc20b",
    "tags": [],
    "deepnote_to_be_reexecuted": false,
    "source_hash": "a2253fa8",
    "execution_start": 1658300892585,
    "execution_millis": 494,
    "deepnote_cell_type": "code",
    "deepnote_cell_height": 561.1875,
    "deepnote_output_heights": [
     21.1875,
     304
    ]
   },
   "source": "Gc = nx.path_graph(4) # return the Path graph of n nodes linearly connected by n-1 edges. Node labels are the integers 0 to n - 1\nnx.add_path(Gc, [10, 11, 12]) # add a second component of three nodes\n\nnx.draw(Gc, with_labels=True)\n\n[len(c) for c in sorted(nx.connected_components(G), key=len, reverse=True)]\n[4, 3]",
   "execution_count": null,
   "outputs": [
    {
     "output_type": "execute_result",
     "execution_count": 12,
     "data": {
      "text/plain": "[4, 3]"
     },
     "metadata": {}
    },
    {
     "data": {
      "text/plain": "<Figure size 432x288 with 1 Axes>",
      "image/png": "[encoded data removed]"
     },
     "metadata": {
      "image/png": {
       "width": 446,
       "height": 302
      }
     },
     "output_type": "display_data"
    }
   ]
  },
  {
   "cell_type": "markdown",
   "source": "##### Cliques\n\nA clique is a subset of vertices of an undirected graph G such that every two distinct vertices in the clique are adjacent; that is, its induced subgraph is complete. In more practical terms, a set of nodes forms a clique (equivalently, a complete subgraph) if all possible connections between nodes exist. A two-node clique is simply two connected nodes. A three node clique is also known as a triangle.\nA maximal clique is a clique that cannot be extended by including one more adjacent vertex, that is, a clique which does not exist exclusively within the vertex set of a larger clique.\nA maximum clique of a graph, G, is a clique, such that there is no clique with more vertices. Moreover, the clique number ω(G) of a graph G is the number of vertices in a maximum clique in G.\n\nExample\n\n<img src=\"./Figures/clique_web.png\" alt=\"alt text\" title=\"Image from \" width=\"450\" height=\"450\"/>\n\nImage from https://math.stackexchange.com/questions/758263/whats-maximal-clique\n\n\n*Can you indicate the maximal and maximum clique?*\n\n\nMaximal clique enumeration is NP-hard problem.",
   "metadata": {
    "cell_id": "8b43af7a9a8447efb130547244347787",
    "tags": [],
    "deepnote_cell_type": "markdown",
    "deepnote_cell_height": 531.390625
   }
  },
  {
   "cell_type": "code",
   "metadata": {
    "cell_id": "30b5d13350424b9596a37e86924605f6",
    "tags": [],
    "deepnote_to_be_reexecuted": false,
    "source_hash": "2c612234",
    "execution_start": 1658300742917,
    "execution_millis": 105,
    "deepnote_cell_type": "code",
    "deepnote_cell_height": 671,
    "deepnote_output_heights": [
     448,
     448
    ]
   },
   "source": "# Let's now generate a random graph with several partitions\nGc = nx.planted_partition_graph(4, 3, 0.5, 0.1, seed=42)\n#visualize the graph\npos = nx.spring_layout(Gc, seed=123)\nplt.figure(figsize=(10,6))\nnx.draw(Gc, pos=pos, node_size=1200, node_color='green',\n        font_size=10, font_weight='bold', with_labels=True)\n",
   "execution_count": null,
   "outputs": [
    {
     "data": {
      "text/plain": "<Figure size 720x432 with 1 Axes>",
      "image/png": "[encoded data removed]"
     },
     "metadata": {
      "image/png": {
       "width": 734,
       "height": 446
      }
     },
     "output_type": "display_data"
    }
   ]
  },
  {
   "cell_type": "markdown",
   "source": "This algorithm is not suitable for directed graphs. This algorithm ignores self-loops and parallel edges as clique is not conventionally defined with such edges. There are often many cliques in graphs. This algorithm can run out of memory for large graphs.",
   "metadata": {
    "cell_id": "4aa3c2d9fe9741dd8f8a134dce12d886",
    "tags": [],
    "deepnote_cell_type": "markdown",
    "deepnote_cell_height": 97.1875
   }
  },
  {
   "cell_type": "markdown",
   "source": "#### Network-level analysis\n\n\n##### Density\n\nThe density of a network is the ratio of the number of edges present in the network to the total numbe rof possible edges. The density of a network can range from 0 for empty or disconnected network to 1 for completely connected network.\n\nThe density d(G) of a graph is a measure of how many links between nodes exist compared to how many links between nodes are possible, given the graph size (number of nodes) and the graph order (number of links).\n\nThe density of a network property is important to consider for two reasons. First, it can help us understand how connected the network is compared to how connected it might be. Second, when comparing two networks with the same number of nodes and the same type of relationships, it can tell us how the networks are different.\n\nFor example, let us imagine that there are two gene networks representing two different stages of the same disease. Is a major density linked to a stage where the disease is more resistant to drug treatments? \n\n",
   "metadata": {
    "cell_id": "d73ea475cfb846518e927e0c64c8d476",
    "tags": [],
    "deepnote_cell_type": "markdown",
    "deepnote_cell_height": 345.578125
   }
  },
  {
   "cell_type": "code",
   "metadata": {
    "cell_id": "806ad7aa00c7470c9b84e6c28ed202da",
    "tags": [],
    "deepnote_cell_type": "code",
    "deepnote_cell_height": 66
   },
   "source": "# code",
   "execution_count": null,
   "outputs": []
  },
  {
   "cell_type": "markdown",
   "source": "##### Network diameter and radius\n\n\n... ",
   "metadata": {
    "cell_id": "81557e5f49d74c68ba6e7e266ba46f92",
    "tags": [],
    "deepnote_cell_type": "markdown",
    "deepnote_cell_height": 88.390625
   }
  },
  {
   "cell_type": "markdown",
   "source": "##### Scale-free topology\n\nA scale-free network is a network whose degree distribution follows a power law, at least asymptotically. \n\nA network is deemed scale free if the fraction of nodes with degree $k$ follows a power-law distribution $k^{-α}$, where $alpha>1$.\n\nIn more practic al terms, in scale-free networks most of the nodes are connected to a low number of neighbours and there are a small number of high-degree nodes (hubs) that provide high connectivity to the network. ",
   "metadata": {
    "cell_id": "1543aa68ddd84d51937d6d53b438405a",
    "tags": [],
    "deepnote_cell_type": "markdown",
    "deepnote_cell_height": 183.59375
   }
  },
  {
   "cell_type": "code",
   "metadata": {
    "cell_id": "6ffcfeb87aaf438ca9976fc996ebc3f0",
    "tags": [],
    "deepnote_to_be_reexecuted": false,
    "source_hash": "54ccd80c",
    "execution_start": 1658304061688,
    "execution_millis": 325,
    "deepnote_cell_type": "code",
    "deepnote_cell_height": 757,
    "deepnote_output_heights": [
     282,
     280,
     254,
     363
    ]
   },
   "source": "# Let's create an example of \nG = nx.scale_free_graph(100, seed=10374196)\n\n# Then, let's visualize how the node degree variate across the network\n\ndegree_sequence = sorted((d for n, d in G.degree()), reverse=True)\ndmax = max(degree_sequence)\n\nfig, (ax1, ax2) = plt.subplots(1, 2, figsize=(12, 4))\n\nax1.plot(degree_sequence, \"b-\", marker=\"o\")\nax1.set_title(\"Degree Rank Plot\")\nax1.set_ylabel(\"Degree\")\nax1.set_xlabel(\"Rank\")\n\nax2.bar(*np.unique(degree_sequence, return_counts=True))\nax2.set_title(\"Degree histogram\")\nax2.set_xlabel(\"Degree\")\nax2.set_ylabel(\"# of Nodes\")\n\nfig.tight_layout()\nplt.show()",
   "execution_count": null,
   "outputs": [
    {
     "data": {
      "text/plain": "<Figure size 864x288 with 2 Axes>",
      "image/png": "[encoded data removed]"
     },
     "metadata": {
      "needs_background": "light",
      "image/png": {
       "width": 856,
       "height": 280
      }
     },
     "output_type": "display_data"
    }
   ]
  },
  {
   "cell_type": "markdown",
   "source": "Let's now see how to verify whether the given network follows a power law. ",
   "metadata": {
    "cell_id": "466a996fa3504ee78f5c37caa868f75d",
    "tags": [],
    "deepnote_cell_type": "markdown",
    "deepnote_cell_height": 52.390625
   }
  },
  {
   "cell_type": "code",
   "metadata": {
    "cell_id": "b0103d2418c84fa186f32a010e7bddb8",
    "tags": [],
    "deepnote_to_be_reexecuted": false,
    "source_hash": "26606cae",
    "execution_start": 1658304065755,
    "execution_millis": 571,
    "deepnote_cell_type": "code",
    "deepnote_cell_height": 583.1875,
    "deepnote_output_heights": [
     21.1875,
     254
    ]
   },
   "source": "# First, create a degree distribution variable from our network\ndegree_sequence = sorted([d for n, d in G.degree()], reverse=True) # used for degree distribution and powerlaw test\n\n# Then fit the data to powerlaw distributions:\n# Power laws are probability distributions with the form:p(x)∝x−α\nfit = powerlaw.Fit(degree_sequence, xmin=1) \n\n# Then you can plot:\nfig2 = fit.plot_pdf(color='b', linewidth=2)\nfit.power_law.plot_pdf(color='g', linestyle='--', ax=fig2)\n",
   "execution_count": null,
   "outputs": [
    {
     "output_type": "execute_result",
     "execution_count": 47,
     "data": {
      "text/plain": "<AxesSubplot:>"
     },
     "metadata": {}
    },
    {
     "data": {
      "text/plain": "<Figure size 432x288 with 1 Axes>",
      "image/png": "[encoded data removed]"
     },
     "metadata": {
      "needs_background": "light",
      "image/png": {
       "width": 380,
       "height": 252
      }
     },
     "output_type": "display_data"
    }
   ]
  },
  {
   "cell_type": "markdown",
   "source": "##### Clustering coefficient\n\n\n... ",
   "metadata": {
    "cell_id": "b9f65dba8ef948848645b98ae330e1a3",
    "tags": [],
    "deepnote_cell_type": "markdown",
    "deepnote_cell_height": 88.390625
   }
  },
  {
   "cell_type": "markdown",
   "source": "##### Network modularity\n\nModularity is a measure of the structure of networks or graphs which measures the strength of division of a network into modules (also called groups, clusters or communities). Networks with high modularity have dense connections between the nodes within modules but sparse connections between nodes in different modules.",
   "metadata": {
    "cell_id": "39482b832f1f4254a9dbbadd48506edb",
    "tags": [],
    "owner_user_id": "f7ca5644-8a15-47aa-b939-64cefdde8fd2",
    "deepnote_cell_type": "markdown",
    "deepnote_cell_height": 275.1875
   }
  },
  {
   "cell_type": "code",
   "source": "Gm = nx.Graph()\n# add the nodes\nnodelist = ['A','B','C','D','E','F']\nGm.add_nodes_from(nodelist)\n# add the edges\nedgeList = [('A','B'),('B','C'),('A','C'),('A','D'),('D','E'),('D','F')] #list of tuples\nGm.add_edges_from(edgeList) \nnx.draw(Gm, with_labels =True, node_color = 'pink', node_size = 900)",
   "metadata": {
    "cell_id": "ca3bcd795d494d90988c2e85ed66c161",
    "tags": [],
    "deepnote_to_be_reexecuted": false,
    "source_hash": "46edcd82",
    "execution_start": 1658480223108,
    "execution_millis": 90,
    "deepnote_cell_type": "code",
    "deepnote_cell_height": 527,
    "deepnote_output_heights": [
     304
    ]
   },
   "outputs": [
    {
     "data": {
      "text/plain": "<Figure size 432x288 with 1 Axes>",
      "image/png": "[encoded data removed]"
     },
     "metadata": {
      "image/png": {
       "width": 446,
       "height": 302
      }
     },
     "output_type": "display_data"
    }
   ],
   "execution_count": 9
  },
  {
   "cell_type": "code",
   "source": "#import networkx.algorithms.community as nx_comm\nnx.algorithms.community.modularity(Gm, [{'A', 'B', 'C'}, {'E','D','F'}])",
   "metadata": {
    "cell_id": "f96a331b310d4defbe64fac74d5c936b",
    "tags": [],
    "deepnote_to_be_reexecuted": false,
    "source_hash": "cae68096",
    "execution_start": 1658480367734,
    "execution_millis": 81,
    "deepnote_cell_type": "code",
    "deepnote_cell_height": 136.1875,
    "deepnote_output_heights": [
     21.1875
    ]
   },
   "outputs": [
    {
     "output_type": "execute_result",
     "execution_count": 11,
     "data": {
      "text/plain": "0.3194444444444445"
     },
     "metadata": {}
    }
   ],
   "execution_count": 11
  },
  {
   "cell_type": "code",
   "source": "Gm.add_edge('E','C')\nnx.algorithms.community.modularity(Gm, [{'A', 'B', 'C'}, {'E','D','F'}])",
   "metadata": {
    "cell_id": "0243d14a2bc24fa3b1fada79bee9d38e",
    "tags": [],
    "deepnote_to_be_reexecuted": false,
    "source_hash": "beb4547",
    "execution_start": 1658480447148,
    "execution_millis": 543,
    "deepnote_cell_type": "code",
    "deepnote_cell_height": 136.1875,
    "deepnote_output_heights": [
     21.1875
    ]
   },
   "outputs": [
    {
     "output_type": "execute_result",
     "execution_count": 12,
     "data": {
      "text/plain": "0.20408163265306123"
     },
     "metadata": {}
    }
   ],
   "execution_count": 12
  },
  {
   "cell_type": "code",
   "source": "Gm.remove_edge('E','C')\nGm.add_edge('E','F')\nnx.algorithms.community.modularity(Gm, [{'A', 'B', 'C'}, {'E','D','F'}])",
   "metadata": {
    "cell_id": "ced25877c5704f83b07b82421aa0d281",
    "tags": [],
    "deepnote_to_be_reexecuted": false,
    "source_hash": "a934f7cb",
    "execution_start": 1658480515146,
    "execution_millis": 648,
    "deepnote_cell_type": "code",
    "deepnote_cell_height": 154.1875,
    "deepnote_output_heights": [
     21.1875
    ]
   },
   "outputs": [
    {
     "output_type": "execute_result",
     "execution_count": 13,
     "data": {
      "text/plain": "0.35714285714285715"
     },
     "metadata": {}
    }
   ],
   "execution_count": 13
  },
  {
   "cell_type": "markdown",
   "source": "### Exercise session",
   "metadata": {
    "cell_id": "ba41014b47024d8ea77a48a218547746",
    "tags": [],
    "deepnote_cell_type": "markdown",
    "deepnote_cell_height": 62
   }
  },
  {
   "cell_type": "code",
   "metadata": {
    "cell_id": "17f10b7c888048fab32b8ca9f202f672",
    "tags": [],
    "deepnote_cell_type": "code",
    "deepnote_cell_height": 66
   },
   "source": "## ",
   "execution_count": null,
   "outputs": []
  },
  {
   "cell_type": "markdown",
   "source": "### Self-study material:\n\nhttps://ona-book.org/\n\nhttp://olizardo.bol.ucla.edu/classes/soc-111/lessons-winter-2022/4-lesson-graph-metrics.html\n\n#### Articles:\n\nhttps://biodatamining.biomedcentral.com/articles/10.1186/1756-0381-4-10",
   "metadata": {
    "cell_id": "f5d310178a524c74b8b9d8678d3c634e",
    "tags": [],
    "deepnote_cell_type": "markdown",
    "deepnote_cell_height": 209.1875
   }
  },
  {
   "cell_type": "markdown",
   "source": "",
   "metadata": {
    "cell_id": "cd7a368735ff49069f3ed3cab17dfa0b",
    "tags": [],
    "deepnote_cell_type": "markdown",
    "deepnote_cell_height": 46
   }
  },
  {
   "cell_type": "markdown",
   "source": "<a style='text-decoration:none;line-height:16px;display:flex;color:#5B5B62;padding:10px;justify-content:end;' href='https://deepnote.com?utm_source=created-in-deepnote-cell&projectId=d6f9e27d-71eb-4664-8c0d-e7e02cc44214' target=\"_blank\">\n<img alt='Created in deepnote.com' style='display:inline;max-height:16px;margin:0px;margin-right:7.5px;' src='data:image/svg+xml;base64,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' > </img>\nCreated in <span style='font-weight:600;margin-left:4px;'>Deepnote</span></a>",
   "metadata": {
    "tags": [],
    "created_in_deepnote_cell": true,
    "deepnote_cell_type": "markdown"
   }
  }
 ],
 "nbformat": 4,
 "nbformat_minor": 2,
 "metadata": {
  "orig_nbformat": 2,
  "deepnote": {},
  "deepnote_notebook_id": "6eb3351b-18d2-4cde-98fc-11c8ac2acbd4",
  "deepnote_execution_queue": []
 }
}