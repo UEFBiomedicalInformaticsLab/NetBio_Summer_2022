{
 "cells": [
  {
   "cell_type": "markdown",
   "source": "## Introduction to network-based analysis in biomedicine with python (Part 3)\n\n<b> This session is based on a recent study implemented by Barabasi-LAB </b>\n\nNetwork-driven Drug Repurposing for COVID-19 (from https://github.com/Barabasi-Lab/COVID-19/blob/main/01_Separation.ipynb)\n\nAzad, A. K. M., et al. \"Integrative resource for network-based investigation of COVID-19 combinatorial drug repositioning and mechanism of action.\" Patterns 2.9 (2021): 100325.\n\nMorselli Gysi, Deisy, et al. \"Network medicine framework for identifying drug-repurposing opportunities for COVID-19.\" Proceedings of the National Academy of Sciences 118.19 (2021): e2025581118.\n",
   "metadata": {
    "cell_id": "54eeedb5248845579d5cc49248360985",
    "tags": [],
    "deepnote_cell_type": "markdown",
    "deepnote_cell_height": 324.734375
   }
  },
  {
   "cell_type": "markdown",
   "source": "The source code 'seperation.py' computes the network-based distance and separation for two given sets of nodes on given network as described in \n\n*Uncovering Disease-Disease Relationships Through The Human Interactome*\n\nby Joerg Menche, Amitabh Sharma, Maksim Kitsak, Susan Dina, Ghiassian, Marc Vidal, Joseph Loscalzo & Albert-Laszlo Barabasi",
   "metadata": {
    "cell_id": "410a2041d1b44f15a26516a5d64ef2b2",
    "tags": [],
    "deepnote_cell_type": "markdown",
    "deepnote_cell_height": 147.5625
   }
  },
  {
   "cell_type": "code",
   "metadata": {
    "tags": [],
    "cell_id": "8e4b8c3a-2f9e-4c9c-a49b-9bfebed4b74a",
    "deepnote_to_be_reexecuted": false,
    "source_hash": "93dd8f68",
    "execution_start": 1659087874656,
    "execution_millis": 111,
    "deepnote_cell_type": "code",
    "deepnote_cell_height": 166
   },
   "source": "# Import python modules\nimport networkx as nx\nimport numpy as np\nimport pandas as pd\nimport separation # from Barabasi-lab\nimport Barabasi_proximities as prox",
   "execution_count": 1,
   "outputs": []
  },
  {
   "cell_type": "code",
   "metadata": {
    "cell_id": "aa8585debc2c404d9449f5f5ff0d3b65",
    "tags": [],
    "deepnote_to_be_reexecuted": false,
    "source_hash": "7e1c2726",
    "execution_start": 1659087874767,
    "execution_millis": 1508,
    "deepnote_cell_type": "code",
    "deepnote_cell_height": 184
   },
   "source": "# Import python modules for visualizations\nimport tqdm\nimport matplotlib.pylab as plt\nimport seaborn as sns\nsns.set_style('whitegrid')\n\n%matplotlib inline",
   "execution_count": 2,
   "outputs": []
  },
  {
   "cell_type": "markdown",
   "source": "**1. We upload the PPI network, SARS-CoV2-targets and knonw disease-gene associations**\n\nFirst, we upload knonw PPIs from different annotation databases and then build a network with *NetworkX*",
   "metadata": {
    "cell_id": "3a2fc723a02c47f7b0f451a935367425",
    "tags": [],
    "deepnote_cell_type": "markdown",
    "deepnote_cell_height": 88.78125
   }
  },
  {
   "cell_type": "code",
   "metadata": {
    "cell_id": "f9e5db7c1ba242fda47d264fc43d6f52",
    "tags": [],
    "deepnote_to_be_reexecuted": false,
    "source_hash": "9dfadd47",
    "execution_start": 1659087876279,
    "execution_millis": 169,
    "deepnote_cell_type": "code",
    "deepnote_cell_height": 408
   },
   "source": "ppi = pd.read_csv('./Data/Barabasi_CoV2_PPI.csv')\nppi.head()",
   "execution_count": 3,
   "outputs": [
    {
     "output_type": "execute_result",
     "execution_count": 3,
     "data": {
      "application/vnd.deepnote.dataframe.v3+json": {
       "column_count": 3,
       "row_count": 5,
       "columns": [
        {
         "name": "proteinA_entrezid",
         "dtype": "int64",
         "stats": {
          "unique_count": 5,
          "nan_count": 0,
          "min": "4899",
          "max": "9796",
          "histogram": [
           {
            "bin_start": 4899,
            "bin_end": 5388.7,
            "count": 2
           },
           {
            "bin_start": 5388.7,
            "bin_end": 5878.4,
            "count": 0
           },
           {
            "bin_start": 5878.4,
            "bin_end": 6368.1,
            "count": 0
           },
           {
            "bin_start": 6368.1,
            "bin_end": 6857.8,
            "count": 0
           },
           {
            "bin_start": 6857.8,
            "bin_end": 7347.5,
            "count": 0
           },
           {
            "bin_start": 7347.5,
            "bin_end": 7837.2,
            "count": 0
           },
           {
            "bin_start": 7837.2,
            "bin_end": 8326.9,
            "count": 2
           },
           {
            "bin_start": 8326.9,
            "bin_end": 8816.6,
            "count": 0
           },
           {
            "bin_start": 8816.6,
            "bin_end": 9306.3,
            "count": 0
           },
           {
            "bin_start": 9306.3,
            "bin_end": 9796,
            "count": 1
           }
          ]
         }
        },
        {
         "name": "proteinB_entrezid",
         "dtype": "int64",
         "stats": {
          "unique_count": 5,
          "nan_count": 0,
          "min": "8601",
          "max": "56992",
          "histogram": [
           {
            "bin_start": 8601,
            "bin_end": 13440.1,
            "count": 3
           },
           {
            "bin_start": 13440.1,
            "bin_end": 18279.2,
            "count": 0
           },
           {
            "bin_start": 18279.2,
            "bin_end": 23118.300000000003,
            "count": 0
           },
           {
            "bin_start": 23118.300000000003,
            "bin_end": 27957.4,
            "count": 1
           },
           {
            "bin_start": 27957.4,
            "bin_end": 32796.5,
            "count": 0
           },
           {
            "bin_start": 32796.5,
            "bin_end": 37635.600000000006,
            "count": 0
           },
           {
            "bin_start": 37635.600000000006,
            "bin_end": 42474.700000000004,
            "count": 0
           },
           {
            "bin_start": 42474.700000000004,
            "bin_end": 47313.8,
            "count": 0
           },
           {
            "bin_start": 47313.8,
            "bin_end": 52152.9,
            "count": 0
           },
           {
            "bin_start": 52152.9,
            "bin_end": 56992,
            "count": 1
           }
          ]
         }
        },
        {
         "name": "databases",
         "dtype": "object",
         "stats": {
          "unique_count": 4,
          "nan_count": 0,
          "categories": [
           {
            "name": "bioplex|HIPPIE",
            "count": 2
           },
           {
            "name": "instruct|hiunion|APID|biogrid|HINT-binary|intact",
            "count": 1
           },
           {
            "name": "2 others",
            "count": 2
           }
          ]
         }
        },
        {
         "name": "_deepnote_index_column",
         "dtype": "int64"
        }
       ],
       "rows": [
        {
         "proteinA_entrezid": 9796,
         "proteinB_entrezid": 56992,
         "databases": "bioplex|HIPPIE",
         "_deepnote_index_column": 0
        },
        {
         "proteinA_entrezid": 7918,
         "proteinB_entrezid": 9240,
         "databases": "instruct|hiunion|APID|biogrid|HINT-binary|intact",
         "_deepnote_index_column": 1
        },
        {
         "proteinA_entrezid": 8233,
         "proteinB_entrezid": 23548,
         "databases": "bioplex|HIPPIE",
         "_deepnote_index_column": 2
        },
        {
         "proteinA_entrezid": 4899,
         "proteinB_entrezid": 11253,
         "databases": "encode",
         "_deepnote_index_column": 3
        },
        {
         "proteinA_entrezid": 5297,
         "proteinB_entrezid": 8601,
         "databases": "bioplex",
         "_deepnote_index_column": 4
        }
       ]
      },
      "text/plain": "   proteinA_entrezid  proteinB_entrezid  \\\n0               9796              56992   \n1               7918               9240   \n2               8233              23548   \n3               4899              11253   \n4               5297               8601   \n\n                                          databases  \n0                                    bioplex|HIPPIE  \n1  instruct|hiunion|APID|biogrid|HINT-binary|intact  \n2                                    bioplex|HIPPIE  \n3                                            encode  \n4                                           bioplex  ",
      "text/html": "<div>\n<style scoped>\n    .dataframe tbody tr th:only-of-type {\n        vertical-align: middle;\n    }\n\n    .dataframe tbody tr th {\n        vertical-align: top;\n    }\n\n    .dataframe thead th {\n        text-align: right;\n    }\n</style>\n<table border=\"1\" class=\"dataframe\">\n  <thead>\n    <tr style=\"text-align: right;\">\n      <th></th>\n      <th>proteinA_entrezid</th>\n      <th>proteinB_entrezid</th>\n      <th>databases</th>\n    </tr>\n  </thead>\n  <tbody>\n    <tr>\n      <th>0</th>\n      <td>9796</td>\n      <td>56992</td>\n      <td>bioplex|HIPPIE</td>\n    </tr>\n    <tr>\n      <th>1</th>\n      <td>7918</td>\n      <td>9240</td>\n      <td>instruct|hiunion|APID|biogrid|HINT-binary|intact</td>\n    </tr>\n    <tr>\n      <th>2</th>\n      <td>8233</td>\n      <td>23548</td>\n      <td>bioplex|HIPPIE</td>\n    </tr>\n    <tr>\n      <th>3</th>\n      <td>4899</td>\n      <td>11253</td>\n      <td>encode</td>\n    </tr>\n    <tr>\n      <th>4</th>\n      <td>5297</td>\n      <td>8601</td>\n      <td>bioplex</td>\n    </tr>\n  </tbody>\n</table>\n</div>"
     },
     "metadata": {}
    }
   ]
  },
  {
   "cell_type": "code",
   "metadata": {
    "cell_id": "54a408147a634601a89d875fc6375b32",
    "tags": [],
    "deepnote_to_be_reexecuted": false,
    "source_hash": "c4146e",
    "execution_start": 1659087876539,
    "execution_millis": 7,
    "deepnote_cell_type": "code",
    "deepnote_cell_height": 145.375
   },
   "source": "print(ppi.shape) # how many interactions?\nprint(len(set(ppi['proteinA_entrezid']).union(set(ppi['proteinB_entrezid'])))) # how many proteins?",
   "execution_count": 4,
   "outputs": [
    {
     "name": "stdout",
     "text": "(327924, 3)\n18505\n",
     "output_type": "stream"
    }
   ]
  },
  {
   "cell_type": "code",
   "metadata": {
    "cell_id": "c4b618fb80da40df81a7d6fb3b983106",
    "tags": [],
    "deepnote_to_be_reexecuted": false,
    "source_hash": "1db0d521",
    "execution_start": 1659087876569,
    "execution_millis": 284,
    "deepnote_cell_type": "code",
    "deepnote_cell_height": 546.1875,
    "deepnote_output_heights": [
     21.1875,
     366
    ]
   },
   "source": "count_dbs = ppi['databases'].value_counts()\nfig, ax = plt.subplots(1, 1, figsize=(10, 5))\ncount_dbs.loc[count_dbs > 10000].plot(ax=ax, kind='bar')",
   "execution_count": 5,
   "outputs": [
    {
     "output_type": "execute_result",
     "execution_count": 5,
     "data": {
      "text/plain": "<AxesSubplot:>"
     },
     "metadata": {}
    },
    {
     "data": {
      "text/plain": "<Figure size 720x360 with 1 Axes>",
      "image/png": "[encoded data removed]"
     },
     "metadata": {
      "needs_background": "light",
      "image/png": {
       "width": 610,
       "height": 364
      }
     },
     "output_type": "display_data"
    }
   ]
  },
  {
   "cell_type": "code",
   "metadata": {
    "cell_id": "34cfdb0b8a384321b743ead97142e573",
    "tags": [],
    "deepnote_to_be_reexecuted": false,
    "source_hash": "6daa9723",
    "execution_start": 1659087876874,
    "execution_millis": 767,
    "deepnote_cell_type": "code",
    "deepnote_cell_height": 130
   },
   "source": "# now we create a graph object by using the python module networkx\nedges = zip(ppi.proteinA_entrezid, ppi.proteinB_entrezid)\nppi = nx.Graph()\nppi.add_edges_from(edges)",
   "execution_count": 6,
   "outputs": []
  },
  {
   "cell_type": "code",
   "metadata": {
    "cell_id": "65acfade90064f82ab49ed1b0a05890b",
    "tags": [],
    "deepnote_to_be_reexecuted": false,
    "source_hash": "3b868a12",
    "execution_start": 1659087877671,
    "execution_millis": 2702,
    "deepnote_cell_type": "code",
    "deepnote_cell_height": 491
   },
   "source": "# extract the connected components \ngraphs = (ppi.subgraph(c).copy() for c in nx.connected_components(ppi))\n# let's check the number of edges and node of each connected component (THIS can be an exercise)\nfor g in graphs:\n    if g.number_of_nodes() == 1: # skip the iteration if the connected component contains only one node\n        continue\n    else:\n        print(\"--------------\")\n        print(g.number_of_nodes())\n        print(g.number_of_edges())",
   "execution_count": 7,
   "outputs": [
    {
     "name": "stdout",
     "text": "--------------\n18446\n327868\n--------------\n3\n2\n--------------\n2\n1\n--------------\n2\n1\n",
     "output_type": "stream"
    }
   ]
  },
  {
   "cell_type": "code",
   "metadata": {
    "cell_id": "a925ff75ba404e7a8174bb3bf2101ead",
    "tags": [],
    "deepnote_to_be_reexecuted": false,
    "source_hash": "debfb960",
    "execution_start": 1659087880374,
    "execution_millis": 2963,
    "owner_user_id": "cf8a377c-b6c9-4da5-a3ce-517478c9d31d",
    "deepnote_cell_type": "code",
    "deepnote_cell_height": 143.1875
   },
   "source": "# select the largest connected component\nG = list(ppi.subgraph(c).copy() for c in nx.connected_components(ppi))[0]\nprint(len(G.nodes()), len(G.edges()))",
   "execution_count": 8,
   "outputs": [
    {
     "name": "stdout",
     "text": "18446 327868\n",
     "output_type": "stream"
    }
   ]
  },
  {
   "cell_type": "code",
   "metadata": {
    "cell_id": "ff183b8339574f4d8e041080d0de51c2",
    "tags": [],
    "deepnote_to_be_reexecuted": false,
    "source_hash": "2257d31e",
    "execution_start": 1659087883356,
    "execution_millis": 13,
    "deepnote_cell_type": "code",
    "deepnote_cell_height": 94
   },
   "source": "# remove self-loops\nG.remove_edges_from(nx.selfloop_edges(G))",
   "execution_count": 9,
   "outputs": []
  },
  {
   "cell_type": "markdown",
   "source": "Let's upload known associations between SARS-CoV-2 and targets/genes. ",
   "metadata": {
    "cell_id": "55efbec2bf094fbb9687fbdf2309dde2",
    "tags": [],
    "deepnote_cell_type": "markdown",
    "deepnote_cell_height": 52.390625
   }
  },
  {
   "cell_type": "code",
   "metadata": {
    "cell_id": "3dcecd38b5d946f6bcf242a299540d3a",
    "tags": [],
    "deepnote_to_be_reexecuted": false,
    "source_hash": "4d588db3",
    "execution_start": 1659087883415,
    "execution_millis": 4,
    "deepnote_cell_type": "code",
    "deepnote_cell_height": 408
   },
   "source": "dt = pd.read_csv('./Data/SARSCoV2_Targets.csv')\ndt.head()",
   "execution_count": 10,
   "outputs": [
    {
     "output_type": "execute_result",
     "execution_count": 10,
     "data": {
      "application/vnd.deepnote.dataframe.v3+json": {
       "column_count": 3,
       "row_count": 5,
       "columns": [
        {
         "name": "SARS",
         "dtype": "object",
         "stats": {
          "unique_count": 1,
          "nan_count": 0,
          "categories": [
           {
            "name": "sars-cov2e",
            "count": 5
           }
          ]
         }
        },
        {
         "name": "EntrezID",
         "dtype": "int64",
         "stats": {
          "unique_count": 5,
          "nan_count": 0,
          "min": "6046",
          "max": "124245",
          "histogram": [
           {
            "bin_start": 6046,
            "bin_end": 17865.9,
            "count": 3
           },
           {
            "bin_start": 17865.9,
            "bin_end": 29685.8,
            "count": 1
           },
           {
            "bin_start": 29685.8,
            "bin_end": 41505.7,
            "count": 0
           },
           {
            "bin_start": 41505.7,
            "bin_end": 53325.6,
            "count": 0
           },
           {
            "bin_start": 53325.6,
            "bin_end": 65145.5,
            "count": 0
           },
           {
            "bin_start": 65145.5,
            "bin_end": 76965.4,
            "count": 0
           },
           {
            "bin_start": 76965.4,
            "bin_end": 88785.3,
            "count": 0
           },
           {
            "bin_start": 88785.3,
            "bin_end": 100605.2,
            "count": 0
           },
           {
            "bin_start": 100605.2,
            "bin_end": 112425.09999999999,
            "count": 0
           },
           {
            "bin_start": 112425.09999999999,
            "bin_end": 124245,
            "count": 1
           }
          ]
         }
        },
        {
         "name": "Symbol",
         "dtype": "object",
         "stats": {
          "unique_count": 5,
          "nan_count": 0,
          "categories": [
           {
            "name": "AP3B1",
            "count": 1
           },
           {
            "name": "BRD4",
            "count": 1
           },
           {
            "name": "3 others",
            "count": 3
           }
          ]
         }
        },
        {
         "name": "_deepnote_index_column",
         "dtype": "int64"
        }
       ],
       "rows": [
        {
         "SARS": "sars-cov2e",
         "EntrezID": 8546,
         "Symbol": "AP3B1",
         "_deepnote_index_column": 0
        },
        {
         "SARS": "sars-cov2e",
         "EntrezID": 23476,
         "Symbol": "BRD4",
         "_deepnote_index_column": 1
        },
        {
         "SARS": "sars-cov2e",
         "EntrezID": 6046,
         "Symbol": "BRD2",
         "_deepnote_index_column": 2
        },
        {
         "SARS": "sars-cov2e",
         "EntrezID": 10283,
         "Symbol": "CWC27",
         "_deepnote_index_column": 3
        },
        {
         "SARS": "sars-cov2e",
         "EntrezID": 124245,
         "Symbol": "ZC3H18",
         "_deepnote_index_column": 4
        }
       ]
      },
      "text/plain": "         SARS  EntrezID  Symbol\n0  sars-cov2e      8546   AP3B1\n1  sars-cov2e     23476    BRD4\n2  sars-cov2e      6046    BRD2\n3  sars-cov2e     10283   CWC27\n4  sars-cov2e    124245  ZC3H18",
      "text/html": "<div>\n<style scoped>\n    .dataframe tbody tr th:only-of-type {\n        vertical-align: middle;\n    }\n\n    .dataframe tbody tr th {\n        vertical-align: top;\n    }\n\n    .dataframe thead th {\n        text-align: right;\n    }\n</style>\n<table border=\"1\" class=\"dataframe\">\n  <thead>\n    <tr style=\"text-align: right;\">\n      <th></th>\n      <th>SARS</th>\n      <th>EntrezID</th>\n      <th>Symbol</th>\n    </tr>\n  </thead>\n  <tbody>\n    <tr>\n      <th>0</th>\n      <td>sars-cov2e</td>\n      <td>8546</td>\n      <td>AP3B1</td>\n    </tr>\n    <tr>\n      <th>1</th>\n      <td>sars-cov2e</td>\n      <td>23476</td>\n      <td>BRD4</td>\n    </tr>\n    <tr>\n      <th>2</th>\n      <td>sars-cov2e</td>\n      <td>6046</td>\n      <td>BRD2</td>\n    </tr>\n    <tr>\n      <th>3</th>\n      <td>sars-cov2e</td>\n      <td>10283</td>\n      <td>CWC27</td>\n    </tr>\n    <tr>\n      <th>4</th>\n      <td>sars-cov2e</td>\n      <td>124245</td>\n      <td>ZC3H18</td>\n    </tr>\n  </tbody>\n</table>\n</div>"
     },
     "metadata": {}
    }
   ]
  },
  {
   "cell_type": "markdown",
   "source": "We will now check if the PPI covers known SARS-CoV-2 targets. Moreover, we will try to extract a subgraph including only the SARS-CoV-2 targets having higher degree centrality within the PPI network. ",
   "metadata": {
    "cell_id": "ec253af573ef4560b34865b3bf86b34c",
    "tags": [],
    "deepnote_cell_type": "markdown",
    "deepnote_cell_height": 74.78125
   }
  },
  {
   "cell_type": "code",
   "metadata": {
    "cell_id": "f9b03042160c484da13d50e3b5c1f3c5",
    "tags": [],
    "deepnote_to_be_reexecuted": false,
    "source_hash": "8e4d4925",
    "execution_start": 1659087883461,
    "execution_millis": 809,
    "deepnote_cell_type": "code",
    "deepnote_cell_height": 1049.3125,
    "deepnote_output_heights": [
     null,
     304
    ]
   },
   "source": "# check if the PPI includes all knonw SARS-CoV-2 targets\nprint(dt.shape)\nprint(len(set(G.nodes()).intersection(set(dt['EntrezID']))))\n\n# extract a subgraph by selecting SARSCoV2 targets and all the edges between them\nH = nx.Graph(G.subgraph(list(dt['EntrezID'])))\nprint(len(H.edges()))\n\n# sort the nodes based (descending order) based on degree centrality \ndegCent_sorted = [item[0] for item in sorted(H.degree, key=lambda x: x[1], reverse=True)]\n\n# extract a subgraph of the top 10 central nodes\nH2 = nx.Graph(H.subgraph(degCent_sorted[0:10]))\nprint(len(H2.edges()))\n\n# find isolated nodes\nisolated_nodes = list(nx.isolates(H2))\nprint(isolated_nodes)\n\n# remove isolated nodes\nH2.remove_nodes_from(isolated_nodes)\n\n# print out remaining node names\nprint(H2.nodes())\n\n#plt.subplot(111)\nprint(\"The Subgraph:\")\nnx.draw_circular(H2, node_color='orange', with_labels = True)",
   "execution_count": 11,
   "outputs": [
    {
     "name": "stdout",
     "text": "(332, 3)\n332\n382\n16\n[10956]\n[166, 5318, 5576, 7879, 55755, 11116, 2801, 10142, 5566]\nThe Subgraph:\n",
     "output_type": "stream"
    },
    {
     "data": {
      "text/plain": "<Figure size 432x288 with 1 Axes>",
      "image/png": "[encoded data removed]"
     },
     "metadata": {
      "image/png": {
       "width": 446,
       "height": 302
      }
     },
     "output_type": "display_data"
    }
   ]
  },
  {
   "cell_type": "markdown",
   "source": "Let's show an example on how to detect communities (Girvan-Newman Algorithm)...since it is to understand\n\nThis algorithm detects communities by keeping edges that are most likely between communities and progressively removing the other edges from the original graph.\n\nhttps://memgraph.com/blog/community-detection-algorithms-with-python-networkx\n\nhttps://www.geeksforgeeks.org/detecting-communities-in-social-networks-using-girvan-newman-algorithm-in-python/\n\nLet's explain quality metrics such as coverage, performance and modularity.\n\n",
   "metadata": {
    "cell_id": "25ac3eefe13f43f9b44b2b6356ab3760",
    "tags": [],
    "deepnote_cell_type": "markdown",
    "deepnote_cell_height": 220.34375
   }
  },
  {
   "cell_type": "code",
   "metadata": {
    "cell_id": "eb83200d5b134244bc101a67805b9e98",
    "tags": [],
    "deepnote_to_be_reexecuted": false,
    "source_hash": "de939d4",
    "execution_start": 1659087883586,
    "execution_millis": 721,
    "deepnote_cell_type": "code",
    "deepnote_cell_height": 418
   },
   "source": "from networkx.algorithms.community.centrality import girvan_newman\nfrom networkx.algorithms import community\n\n# find and remove isolated nodes\nisolated_nodes = list(nx.isolates(H))\nH.remove_nodes_from(isolated_nodes)\n\ncommunities = girvan_newman(H)\n \nnode_groups = []\nfor com in next(communities):\n    node_groups.append(list(com))\n\nprint(community.coverage(H, node_groups))\nprint(community.performance(H, node_groups))\nprint(community.modularity(H, node_groups))",
   "execution_count": 12,
   "outputs": [
    {
     "name": "stdout",
     "text": "0.9921465968586387\n0.3631728842164481\n0.19453619692442634\n",
     "output_type": "stream"
    }
   ]
  },
  {
   "cell_type": "code",
   "metadata": {
    "cell_id": "d52fdef282bd4fa89e21a7fadf08b8c9",
    "tags": [],
    "deepnote_to_be_reexecuted": false,
    "source_hash": "8771d45c",
    "execution_start": 1659087884226,
    "execution_millis": 227,
    "deepnote_cell_type": "code",
    "deepnote_cell_height": 789,
    "deepnote_output_heights": [
     null,
     304
    ]
   },
   "source": "# check how many communities were detected and how big they are\nprint(len(node_groups))\nprint([len(com) for com in node_groups])\n\n# select the communities with at least twenty five nodes\nnode_groups = [com for com in node_groups if len(com) > 25]\nprint(len(node_groups))\n\n# define the color map\ncolor_map = []\nfor node in H:\n    if node in node_groups[0]:\n        color_map.append('blue')\n    else:\n        color_map.append('green')\n        \nnx.draw(H, node_color=color_map, with_labels=False,  node_size = 30)\nplt.show()",
   "execution_count": 13,
   "outputs": [
    {
     "name": "stdout",
     "text": "14\n[192, 2, 16, 5, 2, 2, 2, 2, 2, 2, 5, 2, 2, 3]\n1\n",
     "output_type": "stream"
    },
    {
     "data": {
      "text/plain": "<Figure size 432x288 with 1 Axes>",
      "image/png": "[encoded data removed]"
     },
     "metadata": {
      "image/png": {
       "width": 446,
       "height": 302
      }
     },
     "output_type": "display_data"
    }
   ]
  },
  {
   "cell_type": "markdown",
   "source": "**The first objective of this NDM application is to study the association between COVID-19 and other diseases.**\n\nTo this end we need to upload knonw disease-gene associations ",
   "metadata": {
    "cell_id": "99bee2ca02dc4307ae91b56389fa8dc8",
    "tags": [],
    "deepnote_cell_type": "markdown",
    "deepnote_cell_height": 88.78125
   }
  },
  {
   "cell_type": "code",
   "metadata": {
    "cell_id": "d541eb4453474908abdf1902ef62494e",
    "tags": [],
    "deepnote_to_be_reexecuted": false,
    "source_hash": "996cb3a0",
    "execution_start": 1659087884452,
    "execution_millis": 25,
    "deepnote_cell_type": "code",
    "deepnote_cell_height": 202
   },
   "source": "# Disease-gene associations were retrieved from OMIM and GWAS catalog using UniProtKB and PheGenI \ndisease2genes = {}\nfor i in open('./Data/Guney2016_GenesDisease.tsv').readlines():\n    v = i.rstrip().split('\\t')\n    disease = v[1]\n    genes = v[2:]\n    if len(genes) > 19:\n        disease2genes[disease] = [int(i) for i in genes]",
   "execution_count": 14,
   "outputs": []
  },
  {
   "cell_type": "code",
   "metadata": {
    "cell_id": "46d016846d5545bdaee06f02766ff48c",
    "tags": [],
    "deepnote_to_be_reexecuted": false,
    "source_hash": "c80d5597",
    "execution_start": 1659087884480,
    "execution_millis": 79,
    "deepnote_cell_type": "code",
    "deepnote_cell_height": 167.1875,
    "deepnote_output_heights": [
     21.1875
    ]
   },
   "source": "diseasegenes = list(disease2genes.values())\ndiseasegenes = sum(diseasegenes, [])\ndiseasegenes = list(set(diseasegenes))\nlen(diseasegenes)",
   "execution_count": 15,
   "outputs": [
    {
     "output_type": "execute_result",
     "execution_count": 15,
     "data": {
      "text/plain": "3173"
     },
     "metadata": {}
    }
   ]
  },
  {
   "cell_type": "markdown",
   "source": "<b> Network separation between the SARSCov2 targets and known targets of other diseases </b>\n\n**Network-based localization measures**\n\nNetwork-based proximity is based on network-based localization measures. The figure below (Supplementary Figure S4-a from www.sciencemag.org/content/347/6224/1257601/suppl/DC1) an example of disease genes (red) that form one connected cluster of six genes, one cluster of two genes and one gene without connection to other disease genes. The size of the observable module is therefore given by S = 6. For three genes, A,B and C, the respective shortest distance to the next closest other disease gene is shown. \n\n<img src=\"./Figures/FigureS1.png\" alt=\"drawing\" width=\"500\"/>\n\n**Network separation**\n\nWe quantify the network-based separation $S_{AB}$ between their proteins: of two diseases A and B by comparing the mean shortest distances $\\langle d_{AA} \\rangle$ and $\\langle d_{BB} \\rangle$ within the respective diseases, to the mean shortest distance $\\langle d_{AB} \\rangle$ between their proteins:\n\n<img src=\"./Figures/SeparationMeasure.png\" alt=\"drawing\" width=\"300\"/>\n\nThe figure below shows the network-based separation measure for two diseases A (blue) and B (red) with one shared protein (“c”). The tables on the right give the values of the mean shortest distances within the diseases, $\\langle d_{AA} \\rangle$ and $\\langle d_{BB} \\rangle$, as well as the distances for all protein pairs between them, $\\langle d_{AB} \\rangle$.\n\n<img src=\"./Figures/FigureS5.png\" alt=\"drawing\" width=\"700\"/>",
   "metadata": {
    "cell_id": "2c4ac6c336a947748caced9e09f8ccda",
    "tags": [],
    "deepnote_cell_type": "markdown",
    "deepnote_cell_height": 1343.140625
   }
  },
  {
   "cell_type": "markdown",
   "source": "Supplementary Figure S5 www.sciencemag.org/content/347/6224/1257601/suppl/DC1",
   "metadata": {
    "cell_id": "b01063bf7cad4caa91925408312311df",
    "tags": [],
    "deepnote_cell_type": "markdown",
    "deepnote_cell_height": 52.390625
   }
  },
  {
   "cell_type": "code",
   "metadata": {
    "cell_id": "e876606c151145e5a5b20021c579e2ad",
    "tags": [],
    "deepnote_to_be_reexecuted": false,
    "source_hash": "f97e0300",
    "execution_start": 1659087884559,
    "execution_millis": 1355522,
    "deepnote_cell_type": "code",
    "deepnote_cell_height": 341.1875
   },
   "source": "sab = {}\nfor disease in tqdm.tqdm(disease2genes.keys()):\n\n    genes_A = set(dt.EntrezID) & set(G.nodes())\n    genes_B = set(disease2genes[disease]) & set(G.nodes())\n    d_A = separation.calc_single_set_distance(G,genes_A)\n    d_B = separation.calc_single_set_distance(G,genes_B)\n\n    # distances BETWEEN the two gene sets:\n    d_AB = separation.calc_set_pair_distances(G,genes_A,genes_B)\n\n    # calculate separation\n    s_AB = d_AB - (d_A + d_B)/2.\n    sab[disease] = s_AB",
   "outputs": [
    {
     "name": "stderr",
     "text": "  0%|          | 0/299 [00:00<?, ?it/s]",
     "output_type": "stream"
    }
   ],
   "execution_count": null
  },
  {
   "cell_type": "code",
   "metadata": {
    "cell_id": "cb3b3bfbe8944c86979425f6ab257725",
    "tags": [],
    "deepnote_to_be_reexecuted": true,
    "source_hash": "255a3f6b",
    "execution_start": 1659076568977,
    "execution_millis": 383,
    "deepnote_table_state": {
     "pageSize": 10,
     "pageIndex": 0,
     "filters": [],
     "sortBy": [
      {
       "id": "sab",
       "type": "asc"
      }
     ]
    },
    "deepnote_table_loading": false,
    "deepnote_cell_type": "code",
    "deepnote_cell_height": 476
   },
   "source": "dx = pd.DataFrame.from_dict(sab, orient='index')\ndx = dx.reset_index()\ndx.columns = ['disease', 'sab']\ndx.head()",
   "outputs": [
    {
     "output_type": "execute_result",
     "execution_count": 17,
     "data": {
      "application/vnd.deepnote.dataframe.v3+json": {
       "column_count": 2,
       "row_count": 5,
       "columns": [
        {
         "name": "disease",
         "dtype": "object",
         "stats": {
          "unique_count": 5,
          "nan_count": 0,
          "categories": [
           {
            "name": "kidney diseases",
            "count": 1
           },
           {
            "name": "diabetes mellitus, type 1",
            "count": 1
           },
           {
            "name": "3 others",
            "count": 3
           }
          ]
         }
        },
        {
         "name": "sab",
         "dtype": "float64",
         "stats": {
          "unique_count": 5,
          "nan_count": 0,
          "min": "0.15080888636807566",
          "max": "0.47087328907466586",
          "histogram": [
           {
            "bin_start": 0.15080888636807566,
            "bin_end": 0.18281532663873468,
            "count": 1
           },
           {
            "bin_start": 0.18281532663873468,
            "bin_end": 0.2148217669093937,
            "count": 0
           },
           {
            "bin_start": 0.2148217669093937,
            "bin_end": 0.24682820718005272,
            "count": 1
           },
           {
            "bin_start": 0.24682820718005272,
            "bin_end": 0.27883464745071174,
            "count": 0
           },
           {
            "bin_start": 0.27883464745071174,
            "bin_end": 0.31084108772137076,
            "count": 0
           },
           {
            "bin_start": 0.31084108772137076,
            "bin_end": 0.3428475279920298,
            "count": 1
           },
           {
            "bin_start": 0.3428475279920298,
            "bin_end": 0.3748539682626888,
            "count": 0
           },
           {
            "bin_start": 0.3748539682626888,
            "bin_end": 0.4068604085333478,
            "count": 1
           },
           {
            "bin_start": 0.4068604085333478,
            "bin_end": 0.43886684880400684,
            "count": 0
           },
           {
            "bin_start": 0.43886684880400684,
            "bin_end": 0.47087328907466586,
            "count": 1
           }
          ]
         }
        },
        {
         "name": "_deepnote_index_column",
         "dtype": "int64"
        }
       ],
       "rows": [
        {
         "disease": "kidney diseases",
         "sab": 0.15080888636807566,
         "_deepnote_index_column": 0
        },
        {
         "disease": "diabetes mellitus, type 1",
         "sab": 0.21914993306559571,
         "_deepnote_index_column": 2
        },
        {
         "disease": "chromosome disorders",
         "sab": 0.34053086567940505,
         "_deepnote_index_column": 1
        },
        {
         "disease": "cardiomegaly",
         "sab": 0.377553599890315,
         "_deepnote_index_column": 3
        },
        {
         "disease": "anemia",
         "sab": 0.47087328907466586,
         "_deepnote_index_column": 4
        }
       ]
      },
      "text/plain": "                     disease       sab\n0            kidney diseases  0.150809\n1       chromosome disorders  0.340531\n2  diabetes mellitus, type 1  0.219150\n3               cardiomegaly  0.377554\n4                     anemia  0.470873",
      "text/html": "<div>\n<style scoped>\n    .dataframe tbody tr th:only-of-type {\n        vertical-align: middle;\n    }\n\n    .dataframe tbody tr th {\n        vertical-align: top;\n    }\n\n    .dataframe thead th {\n        text-align: right;\n    }\n</style>\n<table border=\"1\" class=\"dataframe\">\n  <thead>\n    <tr style=\"text-align: right;\">\n      <th></th>\n      <th>disease</th>\n      <th>sab</th>\n    </tr>\n  </thead>\n  <tbody>\n    <tr>\n      <th>0</th>\n      <td>kidney diseases</td>\n      <td>0.150809</td>\n    </tr>\n    <tr>\n      <th>1</th>\n      <td>chromosome disorders</td>\n      <td>0.340531</td>\n    </tr>\n    <tr>\n      <th>2</th>\n      <td>diabetes mellitus, type 1</td>\n      <td>0.219150</td>\n    </tr>\n    <tr>\n      <th>3</th>\n      <td>cardiomegaly</td>\n      <td>0.377554</td>\n    </tr>\n    <tr>\n      <th>4</th>\n      <td>anemia</td>\n      <td>0.470873</td>\n    </tr>\n  </tbody>\n</table>\n</div>"
     },
     "metadata": {}
    }
   ],
   "execution_count": null
  },
  {
   "cell_type": "code",
   "metadata": {
    "cell_id": "2b7b199f85704ad1b85061147a8c85d7",
    "tags": [],
    "deepnote_to_be_reexecuted": true,
    "source_hash": "f657b3ee",
    "execution_start": 1659076568986,
    "execution_millis": 13,
    "deepnote_cell_type": "code",
    "deepnote_cell_height": 76
   },
   "source": "dx.to_csv('.//sab_virustargets.csv')",
   "outputs": [],
   "execution_count": null
  },
  {
   "cell_type": "code",
   "metadata": {
    "cell_id": "f06a136953db48bd9e18c0c7e4b2e71c",
    "tags": [],
    "deepnote_to_be_reexecuted": true,
    "source_hash": "d776801a",
    "execution_start": 1659076569008,
    "execution_millis": 640,
    "deepnote_cell_type": "code",
    "deepnote_cell_height": 502.375,
    "deepnote_output_heights": [
     null,
     268
    ]
   },
   "source": "fig, ax = plt.subplots(1,1)\nsns.distplot(dx['sab'],ax=ax)\nax.set_xlabel('$S_{ab}$')\nax.set_ylabel('Density')\nfig.savefig('./Outputs/sab_virus_dist.png', dpi = 300)",
   "outputs": [
    {
     "name": "stderr",
     "text": "/shared-libs/python3.9/py/lib/python3.9/site-packages/seaborn/distributions.py:2619: FutureWarning: `distplot` is a deprecated function and will be removed in a future version. Please adapt your code to use either `displot` (a figure-level function with similar flexibility) or `histplot` (an axes-level function for histograms).\n  warnings.warn(msg, FutureWarning)\n",
     "output_type": "stream"
    },
    {
     "data": {
      "text/plain": "<Figure size 432x288 with 1 Axes>",
      "image/png": "[encoded data removed]"
     },
     "metadata": {
      "needs_background": "light",
      "image/png": {
       "width": 391,
       "height": 266
      }
     },
     "output_type": "display_data"
    }
   ],
   "execution_count": null
  },
  {
   "cell_type": "markdown",
   "source": "**Drug repurposing opportunities by crossing known SARS-CoV2 target (genes) with knonw drug-target associations**\n\nWe measure the network proximity between drug–targets (A) and  SARS-CoV2-targets (B), using the recently introduced separation measure. \n\n<img src=\"./Figures/SeparationMeasure.png\" alt=\"drawing\" width=\"300\"/>\n\nFor $S_{AB}$ < 0, the targets of the two drugs are located in the same network neighborhood, while for $S_{AB}$ ≥ 0, the two target sets are topologically separated. ",
   "metadata": {
    "cell_id": "3ae7540ba2c7416799b8c04cd899a411",
    "tags": [],
    "deepnote_cell_type": "markdown",
    "deepnote_cell_height": 265.09375
   }
  },
  {
   "cell_type": "code",
   "metadata": {
    "cell_id": "522af9c97e124d2daaad8194d0f9feaf",
    "tags": [],
    "deepnote_to_be_reexecuted": true,
    "source_hash": "b080508d",
    "execution_start": 1659076569649,
    "execution_millis": 185,
    "deepnote_cell_type": "code",
    "deepnote_cell_height": 425
   },
   "source": "d2g = pd.read_csv('./Data/drug2targets.csv')\nd2g.head()",
   "outputs": [
    {
     "output_type": "execute_result",
     "execution_count": 20,
     "data": {
      "application/vnd.deepnote.dataframe.v3+json": {
       "column_count": 14,
       "row_count": 5,
       "columns": [
        {
         "name": "Unnamed: 0",
         "dtype": "int64",
         "stats": {
          "unique_count": 5,
          "nan_count": 0,
          "min": "0",
          "max": "4",
          "histogram": [
           {
            "bin_start": 0,
            "bin_end": 0.4,
            "count": 1
           },
           {
            "bin_start": 0.4,
            "bin_end": 0.8,
            "count": 0
           },
           {
            "bin_start": 0.8,
            "bin_end": 1.2000000000000002,
            "count": 1
           },
           {
            "bin_start": 1.2000000000000002,
            "bin_end": 1.6,
            "count": 0
           },
           {
            "bin_start": 1.6,
            "bin_end": 2,
            "count": 0
           },
           {
            "bin_start": 2,
            "bin_end": 2.4000000000000004,
            "count": 1
           },
           {
            "bin_start": 2.4000000000000004,
            "bin_end": 2.8000000000000003,
            "count": 0
           },
           {
            "bin_start": 2.8000000000000003,
            "bin_end": 3.2,
            "count": 1
           },
           {
            "bin_start": 3.2,
            "bin_end": 3.6,
            "count": 0
           },
           {
            "bin_start": 3.6,
            "bin_end": 4,
            "count": 1
           }
          ]
         }
        },
        {
         "name": "type",
         "dtype": "object",
         "stats": {
          "unique_count": 1,
          "nan_count": 0,
          "categories": [
           {
            "name": "biotech",
            "count": 5
           }
          ]
         }
        },
        {
         "name": "ID",
         "dtype": "object",
         "stats": {
          "unique_count": 2,
          "nan_count": 0,
          "categories": [
           {
            "name": "DB00002",
            "count": 4
           },
           {
            "name": "DB00001",
            "count": 1
           }
          ]
         }
        },
        {
         "name": "Name",
         "dtype": "object",
         "stats": {
          "unique_count": 2,
          "nan_count": 0,
          "categories": [
           {
            "name": "Cetuximab",
            "count": 4
           },
           {
            "name": "Lepirudin",
            "count": 1
           }
          ]
         }
        },
        {
         "name": "State",
         "dtype": "object",
         "stats": {
          "unique_count": 1,
          "nan_count": 0,
          "categories": [
           {
            "name": "liquid",
            "count": 5
           }
          ]
         }
        },
        {
         "name": "Approved",
         "dtype": "object",
         "stats": {
          "unique_count": 1,
          "nan_count": 0,
          "categories": [
           {
            "name": "approved",
            "count": 5
           }
          ]
         }
        },
        {
         "name": "Indication",
         "dtype": "object",
         "stats": {
          "unique_count": 2,
          "nan_count": 0,
          "categories": [
           {
            "name": "Cetuximab, used in combination with irinotecan, is indicated for the treatment of EGFR-expressing, metastatic colorectal carcinoma in patients who are refractory to irinotecan-based chemotherapy. Cetuximab administered as a single agent is indicated for the treatment of EGFR-expressing, metastatic colorectal carcinoma in patients who are intolerant to irinotecan-based chemotherapy.",
            "count": 4
           },
           {
            "name": "For the treatment of heparin-induced thrombocytopenia",
            "count": 1
           }
          ]
         }
        },
        {
         "name": "Gene_Target",
         "dtype": "object",
         "stats": {
          "unique_count": 5,
          "nan_count": 0,
          "categories": [
           {
            "name": "F2",
            "count": 1
           },
           {
            "name": "EGFR",
            "count": 1
           },
           {
            "name": "3 others",
            "count": 3
           }
          ]
         }
        },
        {
         "name": "DB_id",
         "dtype": "object",
         "stats": {
          "unique_count": 2,
          "nan_count": 0,
          "categories": [
           {
            "name": "BE0002100",
            "count": 4
           },
           {
            "name": "BE0000048",
            "count": 1
           }
          ]
         }
        },
        {
         "name": "name",
         "dtype": "object",
         "stats": {
          "unique_count": 2,
          "nan_count": 0,
          "categories": [
           {
            "name": "Low affinity immunoglobulin gamma Fc region receptor II-c",
            "count": 4
           },
           {
            "name": "Prothrombin",
            "count": 1
           }
          ]
         }
        },
        {
         "name": "organism",
         "dtype": "object",
         "stats": {
          "unique_count": 1,
          "nan_count": 0,
          "categories": [
           {
            "name": "Humans",
            "count": 5
           }
          ]
         }
        },
        {
         "name": "Type",
         "dtype": "object",
         "stats": {
          "unique_count": 1,
          "nan_count": 0,
          "categories": [
           {
            "name": "Polypeptide",
            "count": 5
           }
          ]
         }
        },
        {
         "name": "entrez_id",
         "dtype": "float64",
         "stats": {
          "unique_count": 5,
          "nan_count": 0,
          "min": "712.0",
          "max": "2215.0",
          "histogram": [
           {
            "bin_start": 712,
            "bin_end": 862.3,
            "count": 2
           },
           {
            "bin_start": 862.3,
            "bin_end": 1012.6,
            "count": 0
           },
           {
            "bin_start": 1012.6,
            "bin_end": 1162.9,
            "count": 0
           },
           {
            "bin_start": 1162.9,
            "bin_end": 1313.2,
            "count": 0
           },
           {
            "bin_start": 1313.2,
            "bin_end": 1463.5,
            "count": 0
           },
           {
            "bin_start": 1463.5,
            "bin_end": 1613.8000000000002,
            "count": 0
           },
           {
            "bin_start": 1613.8000000000002,
            "bin_end": 1764.1000000000001,
            "count": 0
           },
           {
            "bin_start": 1764.1000000000001,
            "bin_end": 1914.4,
            "count": 0
           },
           {
            "bin_start": 1914.4,
            "bin_end": 2064.7,
            "count": 1
           },
           {
            "bin_start": 2064.7,
            "bin_end": 2215,
            "count": 2
           }
          ]
         }
        },
        {
         "name": "ATC_code",
         "dtype": "object",
         "stats": {
          "unique_count": 2,
          "nan_count": 0,
          "categories": [
           {
            "name": "L01XC06",
            "count": 4
           },
           {
            "name": "B01AE02",
            "count": 1
           }
          ]
         }
        },
        {
         "name": "_deepnote_index_column",
         "dtype": "int64"
        }
       ],
       "rows": [
        {
         "Unnamed: 0": 0,
         "type": "biotech",
         "ID": "DB00001",
         "Name": "Lepirudin",
         "State": "liquid",
         "Approved": "approved",
         "Indication": "For the treatment of heparin-induced thrombocytopenia",
         "Gene_Target": "F2",
         "DB_id": "BE0000048",
         "name": "Prothrombin",
         "organism": "Humans",
         "Type": "Polypeptide",
         "entrez_id": 2147,
         "ATC_code": "B01AE02",
         "_deepnote_index_column": 0
        },
        {
         "Unnamed: 0": 1,
         "type": "biotech",
         "ID": "DB00002",
         "Name": "Cetuximab",
         "State": "liquid",
         "Approved": "approved",
         "Indication": "Cetuximab, used in combination with irinotecan, is indicated for the treatment of EGFR-expressing, metastatic colorectal carcinoma in patients who are refractory to irinotecan-based chemotherapy. Cetuximab administered as a single agent is indicated for the treatment of EGFR-expressing, metastatic colorectal carcinoma in patients who are intolerant to irinotecan-based chemotherapy.",
         "Gene_Target": "EGFR",
         "DB_id": "BE0002100",
         "name": "Low affinity immunoglobulin gamma Fc region receptor II-c",
         "organism": "Humans",
         "Type": "Polypeptide",
         "entrez_id": 1956,
         "ATC_code": "L01XC06",
         "_deepnote_index_column": 1
        },
        {
         "Unnamed: 0": 2,
         "type": "biotech",
         "ID": "DB00002",
         "Name": "Cetuximab",
         "State": "liquid",
         "Approved": "approved",
         "Indication": "Cetuximab, used in combination with irinotecan, is indicated for the treatment of EGFR-expressing, metastatic colorectal carcinoma in patients who are refractory to irinotecan-based chemotherapy. Cetuximab administered as a single agent is indicated for the treatment of EGFR-expressing, metastatic colorectal carcinoma in patients who are intolerant to irinotecan-based chemotherapy.",
         "Gene_Target": "FCGR3B",
         "DB_id": "BE0002100",
         "name": "Low affinity immunoglobulin gamma Fc region receptor II-c",
         "organism": "Humans",
         "Type": "Polypeptide",
         "entrez_id": 2215,
         "ATC_code": "L01XC06",
         "_deepnote_index_column": 2
        },
        {
         "Unnamed: 0": 3,
         "type": "biotech",
         "ID": "DB00002",
         "Name": "Cetuximab",
         "State": "liquid",
         "Approved": "approved",
         "Indication": "Cetuximab, used in combination with irinotecan, is indicated for the treatment of EGFR-expressing, metastatic colorectal carcinoma in patients who are refractory to irinotecan-based chemotherapy. Cetuximab administered as a single agent is indicated for the treatment of EGFR-expressing, metastatic colorectal carcinoma in patients who are intolerant to irinotecan-based chemotherapy.",
         "Gene_Target": "C1R",
         "DB_id": "BE0002100",
         "name": "Low affinity immunoglobulin gamma Fc region receptor II-c",
         "organism": "Humans",
         "Type": "Polypeptide",
         "entrez_id": 715,
         "ATC_code": "L01XC06",
         "_deepnote_index_column": 3
        },
        {
         "Unnamed: 0": 4,
         "type": "biotech",
         "ID": "DB00002",
         "Name": "Cetuximab",
         "State": "liquid",
         "Approved": "approved",
         "Indication": "Cetuximab, used in combination with irinotecan, is indicated for the treatment of EGFR-expressing, metastatic colorectal carcinoma in patients who are refractory to irinotecan-based chemotherapy. Cetuximab administered as a single agent is indicated for the treatment of EGFR-expressing, metastatic colorectal carcinoma in patients who are intolerant to irinotecan-based chemotherapy.",
         "Gene_Target": "C1QA",
         "DB_id": "BE0002100",
         "name": "Low affinity immunoglobulin gamma Fc region receptor II-c",
         "organism": "Humans",
         "Type": "Polypeptide",
         "entrez_id": 712,
         "ATC_code": "L01XC06",
         "_deepnote_index_column": 4
        }
       ]
      },
      "text/plain": "   Unnamed: 0     type       ID       Name   State  Approved  \\\n0           0  biotech  DB00001  Lepirudin  liquid  approved   \n1           1  biotech  DB00002  Cetuximab  liquid  approved   \n2           2  biotech  DB00002  Cetuximab  liquid  approved   \n3           3  biotech  DB00002  Cetuximab  liquid  approved   \n4           4  biotech  DB00002  Cetuximab  liquid  approved   \n\n                                          Indication Gene_Target      DB_id  \\\n0  For the treatment of heparin-induced thrombocy...          F2  BE0000048   \n1  Cetuximab, used in combination with irinotecan...        EGFR  BE0002100   \n2  Cetuximab, used in combination with irinotecan...      FCGR3B  BE0002100   \n3  Cetuximab, used in combination with irinotecan...         C1R  BE0002100   \n4  Cetuximab, used in combination with irinotecan...        C1QA  BE0002100   \n\n                                                name organism         Type  \\\n0                                        Prothrombin   Humans  Polypeptide   \n1  Low affinity immunoglobulin gamma Fc region re...   Humans  Polypeptide   \n2  Low affinity immunoglobulin gamma Fc region re...   Humans  Polypeptide   \n3  Low affinity immunoglobulin gamma Fc region re...   Humans  Polypeptide   \n4  Low affinity immunoglobulin gamma Fc region re...   Humans  Polypeptide   \n\n   entrez_id ATC_code  \n0     2147.0  B01AE02  \n1     1956.0  L01XC06  \n2     2215.0  L01XC06  \n3      715.0  L01XC06  \n4      712.0  L01XC06  ",
      "text/html": "<div>\n<style scoped>\n    .dataframe tbody tr th:only-of-type {\n        vertical-align: middle;\n    }\n\n    .dataframe tbody tr th {\n        vertical-align: top;\n    }\n\n    .dataframe thead th {\n        text-align: right;\n    }\n</style>\n<table border=\"1\" class=\"dataframe\">\n  <thead>\n    <tr style=\"text-align: right;\">\n      <th></th>\n      <th>Unnamed: 0</th>\n      <th>type</th>\n      <th>ID</th>\n      <th>Name</th>\n      <th>State</th>\n      <th>Approved</th>\n      <th>Indication</th>\n      <th>Gene_Target</th>\n      <th>DB_id</th>\n      <th>name</th>\n      <th>organism</th>\n      <th>Type</th>\n      <th>entrez_id</th>\n      <th>ATC_code</th>\n    </tr>\n  </thead>\n  <tbody>\n    <tr>\n      <th>0</th>\n      <td>0</td>\n      <td>biotech</td>\n      <td>DB00001</td>\n      <td>Lepirudin</td>\n      <td>liquid</td>\n      <td>approved</td>\n      <td>For the treatment of heparin-induced thrombocy...</td>\n      <td>F2</td>\n      <td>BE0000048</td>\n      <td>Prothrombin</td>\n      <td>Humans</td>\n      <td>Polypeptide</td>\n      <td>2147.0</td>\n      <td>B01AE02</td>\n    </tr>\n    <tr>\n      <th>1</th>\n      <td>1</td>\n      <td>biotech</td>\n      <td>DB00002</td>\n      <td>Cetuximab</td>\n      <td>liquid</td>\n      <td>approved</td>\n      <td>Cetuximab, used in combination with irinotecan...</td>\n      <td>EGFR</td>\n      <td>BE0002100</td>\n      <td>Low affinity immunoglobulin gamma Fc region re...</td>\n      <td>Humans</td>\n      <td>Polypeptide</td>\n      <td>1956.0</td>\n      <td>L01XC06</td>\n    </tr>\n    <tr>\n      <th>2</th>\n      <td>2</td>\n      <td>biotech</td>\n      <td>DB00002</td>\n      <td>Cetuximab</td>\n      <td>liquid</td>\n      <td>approved</td>\n      <td>Cetuximab, used in combination with irinotecan...</td>\n      <td>FCGR3B</td>\n      <td>BE0002100</td>\n      <td>Low affinity immunoglobulin gamma Fc region re...</td>\n      <td>Humans</td>\n      <td>Polypeptide</td>\n      <td>2215.0</td>\n      <td>L01XC06</td>\n    </tr>\n    <tr>\n      <th>3</th>\n      <td>3</td>\n      <td>biotech</td>\n      <td>DB00002</td>\n      <td>Cetuximab</td>\n      <td>liquid</td>\n      <td>approved</td>\n      <td>Cetuximab, used in combination with irinotecan...</td>\n      <td>C1R</td>\n      <td>BE0002100</td>\n      <td>Low affinity immunoglobulin gamma Fc region re...</td>\n      <td>Humans</td>\n      <td>Polypeptide</td>\n      <td>715.0</td>\n      <td>L01XC06</td>\n    </tr>\n    <tr>\n      <th>4</th>\n      <td>4</td>\n      <td>biotech</td>\n      <td>DB00002</td>\n      <td>Cetuximab</td>\n      <td>liquid</td>\n      <td>approved</td>\n      <td>Cetuximab, used in combination with irinotecan...</td>\n      <td>C1QA</td>\n      <td>BE0002100</td>\n      <td>Low affinity immunoglobulin gamma Fc region re...</td>\n      <td>Humans</td>\n      <td>Polypeptide</td>\n      <td>712.0</td>\n      <td>L01XC06</td>\n    </tr>\n  </tbody>\n</table>\n</div>"
     },
     "metadata": {}
    }
   ],
   "execution_count": null
  },
  {
   "cell_type": "code",
   "metadata": {
    "cell_id": "2265b9f8f0bc4a809f6a301fcd658897",
    "tags": [],
    "deepnote_to_be_reexecuted": true,
    "source_hash": "106b0452",
    "execution_start": 1659076569843,
    "execution_millis": 5,
    "deepnote_cell_type": "code",
    "deepnote_cell_height": 242
   },
   "source": "print(d2g.shape)\nprint(len(d2g['Name'].unique())) # how many different drugs we have?\nprint(d2g['State'].unique())     # drug state\nprint(d2g['Approved'].unique())  # what is the current status of these drugs",
   "outputs": [
    {
     "name": "stdout",
     "text": "(24648, 14)\n6137\n['liquid' 'solid' nan 'gas']\n['approved' 'experimental' 'investigational' 'nutraceutical' 'withdrawn'\n 'illicit' 'vet_approved' nan]\n",
     "output_type": "stream"
    }
   ],
   "execution_count": null
  },
  {
   "cell_type": "code",
   "metadata": {
    "cell_id": "d111dafe3fdc41d5a5e4ae141a24d373",
    "tags": [],
    "deepnote_to_be_reexecuted": true,
    "source_hash": "eeba89c8",
    "execution_start": 1659076569895,
    "execution_millis": 5,
    "deepnote_cell_type": "code",
    "deepnote_cell_height": 125.1875
   },
   "source": "d2g = d2g.loc[d2g['Approved'].isin(['approved', 'experimental', 'investigational', 'vet_approved'])]\nprint(len(d2g['Name'].unique()))",
   "outputs": [
    {
     "name": "stdout",
     "text": "6089\n",
     "output_type": "stream"
    }
   ],
   "execution_count": null
  },
  {
   "cell_type": "markdown",
   "source": "<img src=\"./Figures/Table1.png\" alt=\"drawing\" width=\"600\"/>",
   "metadata": {
    "cell_id": "213e01bde9fc4341abd2658a7b91b76f",
    "tags": [],
    "deepnote_cell_type": "markdown",
    "deepnote_cell_height": 960.734375
   }
  },
  {
   "cell_type": "code",
   "metadata": {
    "cell_id": "4b04f8cf99ac41ce87e9a5259da56db8",
    "tags": [],
    "deepnote_to_be_reexecuted": true,
    "source_hash": "18a98ddb",
    "execution_start": 1659076569896,
    "execution_millis": 4,
    "deepnote_cell_type": "code",
    "deepnote_cell_height": 145.375
   },
   "source": "print('Sofosbuvir' in set(d2g['Name']))\nprint('Ivermectin' in set(d2g['Name']))",
   "outputs": [
    {
     "name": "stdout",
     "text": "True\nTrue\n",
     "output_type": "stream"
    }
   ],
   "execution_count": null
  },
  {
   "cell_type": "code",
   "metadata": {
    "cell_id": "bfd13ec72408427486cc3e83400f44a2",
    "tags": [],
    "deepnote_to_be_reexecuted": true,
    "source_hash": "695210b9",
    "execution_start": 1659076569896,
    "execution_millis": 1,
    "deepnote_cell_type": "code",
    "deepnote_cell_height": 148
   },
   "source": "# prepare known drug-target associations \ndrug2targets = {}\nlist_drugs_to_inv = ['Vincristine','Doxazosin', 'Promazine', 'Ivermectin','Ulipristal']\nfor d in list_drugs_to_inv: \n    drug2targets[d] = [int(e) for e in d2g.loc[d2g['Name'] == d, 'entrez_id']]",
   "outputs": [],
   "execution_count": null
  },
  {
   "cell_type": "code",
   "metadata": {
    "cell_id": "96cb5a6c268d465a8a00bcbc20b86d77",
    "tags": [],
    "deepnote_to_be_reexecuted": true,
    "source_hash": "8f95fab6",
    "execution_start": 1659076569903,
    "execution_millis": 11897,
    "deepnote_cell_type": "code",
    "deepnote_cell_height": 660
   },
   "source": "for drug in list_drugs_to_inv:\n    print(drug)\n    genes_A = set(dt.EntrezID) & set(G.nodes())\n    genes_B = set(drug2targets[drug]) & set(G.nodes())\n    print(len(genes_B))\n\n    d_A = separation.calc_single_set_distance(G,genes_A)\n    d_B = separation.calc_single_set_distance(G,genes_B)\n\n    # distances BETWEEN the two gene sets:\n    d_AB = separation.calc_set_pair_distances(G,genes_A,genes_B)\n\n    # calculate separation\n    s_AB = d_AB - (d_A + d_B)/2\n\n    print(s_AB)",
   "outputs": [
    {
     "name": "stdout",
     "text": "Vincristine\n15\n0.4383878453294445\nDoxazosin\n12\n0.6001447651069394\nPromazine\n19\n0.6841131959235951\nIvermectin\n8\n0.4208982990786676\nUlipristal\n7\n0.39948986844977896\n",
     "output_type": "stream"
    }
   ],
   "execution_count": null
  },
  {
   "cell_type": "markdown",
   "source": "**The same network can be used to test other network data mining algorithms**\n\nFor instance compute centrality scores for SARSCOV2 targets (which can be also an exercise)\n\nUse community detection to identify SARSCOV2-related modules withih the assigned PPI\n\nUse RWR to study the overlap between SARSCOV2 targets and known drug-target associations\n\n**Network-based proximity between drugs and diseases**\n\nThe proximity between a disease and a drug was evaluated using various distance measures that take into account the path lengths between drug targets and disease proteins. Given S, the set of disease proteins, T, the set of drug targets and d(s,t), the shortest path length between nodes s and t in the network, we define:\n\nClosest\nShortest\nKernel\n\n(https://www.nature.com/articles/ncomms10331#Sec12)\n\nThETA-based approach\n\n* weighted average of shortest paths between SARS-CoV-targets and drug targets\n* the weight indicate how central is a node (discretize node centrality scores with the bin technique and associate) ",
   "metadata": {
    "cell_id": "6c31e02a4932469eaf22eb9c07b93cc5",
    "tags": [],
    "deepnote_cell_type": "markdown",
    "deepnote_cell_height": 508.859375
   }
  },
  {
   "cell_type": "markdown",
   "source": "http://vafaeelab.com/COVID19_repositioning.html",
   "metadata": {
    "cell_id": "ad75880697de49a1a2a1110d3e8e4bce",
    "tags": [],
    "deepnote_cell_type": "markdown",
    "deepnote_cell_height": 52.390625
   }
  },
  {
   "cell_type": "code",
   "metadata": {
    "cell_id": "8f22933a302f4528a371aca9e6777fba",
    "tags": [],
    "deepnote_to_be_reexecuted": true,
    "source_hash": "84794224",
    "execution_start": 1659076581802,
    "execution_millis": 8,
    "deepnote_cell_type": "code",
    "deepnote_cell_height": 148
   },
   "source": "# prepare known drug-target associations \ndrug2targets = {}\nlist_drugs_to_inv = ['Vincristine','Doxazosin', ]\nfor d in list_drugs_to_inv: \n    drug2targets[d] = [int(e) for e in d2g.loc[d2g['Name'] == d, 'entrez_id']]",
   "outputs": [],
   "execution_count": null
  },
  {
   "cell_type": "code",
   "source": "Drug_proximities = pd.DataFrame()\n\nfor drug in list_drugs_to_inv:\n    print(drug)\n    genes_A = set(dt.EntrezID) & set(G.nodes())\n\n    genes_B = set(drug2targets[drug]) & set(G.nodes())\n    print(len(genes_B))\n\n    proximity_closest = prox.proximity_closest(G, genes_A, genes_B)\n    proximity_shortest = prox.proximity_shortest(G, genes_A, genes_B)\n    proximity_kernel = prox.proximity_kernel(STRING_PPI, geneSet1, geneSet2)\n    \n    topological_centre = prox.get_topological_centre(G, genes_A)\n    proximity_centre = prox.proximity_centre(G, topological_centre, genes_B)\n\n    tmp = pd.DataFrame({\"Drug\" : drug, \n                            \"proximity_closest\" : proximity_closest,\n                            \"proximity_shortest\" : proximity_shortest,\n                            \"proximity_kernel\" : proximity_kernel,\n                            \"proximity_centre\" : proximity_centre}, index = [0])\n    Drug_proximities = pd.concat([Drug_proximities, tmp]).reset_index(drop = True)\n",
   "metadata": {
    "cell_id": "66fe478128a64e42ba812ce4c3eaaeb3",
    "tags": [],
    "deepnote_to_be_reexecuted": true,
    "source_hash": "b87f5f3d",
    "execution_start": 1659076581818,
    "execution_millis": 124888,
    "deepnote_cell_type": "code",
    "deepnote_cell_height": 564
   },
   "execution_count": null,
   "outputs": [
    {
     "name": "stdout",
     "text": "Vincristine\n15\nDoxazosin\n12\n",
     "output_type": "stream"
    }
   ]
  },
  {
   "cell_type": "code",
   "metadata": {
    "cell_id": "9cd06d475bf54a4e8247735ab9215151",
    "tags": [],
    "deepnote_to_be_reexecuted": true,
    "source_hash": "85d8cdb2",
    "execution_start": 1659022517034,
    "execution_millis": 19,
    "deepnote_cell_type": "code",
    "deepnote_cell_height": 267
   },
   "source": "Drug_proximities",
   "execution_count": null,
   "outputs": [
    {
     "output_type": "execute_result",
     "execution_count": 28,
     "data": {
      "application/vnd.deepnote.dataframe.v3+json": {
       "column_count": 4,
       "row_count": 2,
       "columns": [
        {
         "name": "Drug",
         "dtype": "object",
         "stats": {
          "unique_count": 2,
          "nan_count": 0,
          "categories": [
           {
            "name": "Vincristine",
            "count": 1
           },
           {
            "name": "Doxazosin",
            "count": 1
           }
          ]
         }
        },
        {
         "name": "proximity_closest",
         "dtype": "float64",
         "stats": {
          "unique_count": 2,
          "nan_count": 0,
          "min": "1.9789156626506024",
          "max": "2.183734939759036",
          "histogram": [
           {
            "bin_start": 1.9789156626506024,
            "bin_end": 1.9993975903614458,
            "count": 1
           },
           {
            "bin_start": 1.9993975903614458,
            "bin_end": 2.019879518072289,
            "count": 0
           },
           {
            "bin_start": 2.019879518072289,
            "bin_end": 2.0403614457831325,
            "count": 0
           },
           {
            "bin_start": 2.0403614457831325,
            "bin_end": 2.060843373493976,
            "count": 0
           },
           {
            "bin_start": 2.060843373493976,
            "bin_end": 2.0813253012048194,
            "count": 0
           },
           {
            "bin_start": 2.0813253012048194,
            "bin_end": 2.101807228915663,
            "count": 0
           },
           {
            "bin_start": 2.101807228915663,
            "bin_end": 2.122289156626506,
            "count": 0
           },
           {
            "bin_start": 2.122289156626506,
            "bin_end": 2.1427710843373493,
            "count": 0
           },
           {
            "bin_start": 2.1427710843373493,
            "bin_end": 2.1632530120481928,
            "count": 0
           },
           {
            "bin_start": 2.1632530120481928,
            "bin_end": 2.183734939759036,
            "count": 1
           }
          ]
         }
        },
        {
         "name": "proximity_shortest",
         "dtype": "float64",
         "stats": {
          "unique_count": 2,
          "nan_count": 0,
          "min": "2.590045897877223",
          "max": "2.8714859437751006",
          "histogram": [
           {
            "bin_start": 2.590045897877223,
            "bin_end": 2.618189902467011,
            "count": 1
           },
           {
            "bin_start": 2.618189902467011,
            "bin_end": 2.646333907056799,
            "count": 0
           },
           {
            "bin_start": 2.646333907056799,
            "bin_end": 2.674477911646586,
            "count": 0
           },
           {
            "bin_start": 2.674477911646586,
            "bin_end": 2.702621916236374,
            "count": 0
           },
           {
            "bin_start": 2.702621916236374,
            "bin_end": 2.730765920826162,
            "count": 0
           },
           {
            "bin_start": 2.730765920826162,
            "bin_end": 2.7589099254159497,
            "count": 0
           },
           {
            "bin_start": 2.7589099254159497,
            "bin_end": 2.7870539300057375,
            "count": 0
           },
           {
            "bin_start": 2.7870539300057375,
            "bin_end": 2.815197934595525,
            "count": 0
           },
           {
            "bin_start": 2.815197934595525,
            "bin_end": 2.8433419391853128,
            "count": 0
           },
           {
            "bin_start": 2.8433419391853128,
            "bin_end": 2.8714859437751006,
            "count": 1
           }
          ]
         }
        },
        {
         "name": "proximity_centre",
         "dtype": "float64",
         "stats": {
          "unique_count": 2,
          "nan_count": 0,
          "min": "2.0",
          "max": "2.3333333333333335",
          "histogram": [
           {
            "bin_start": 2,
            "bin_end": 2.033333333333333,
            "count": 1
           },
           {
            "bin_start": 2.033333333333333,
            "bin_end": 2.066666666666667,
            "count": 0
           },
           {
            "bin_start": 2.066666666666667,
            "bin_end": 2.1,
            "count": 0
           },
           {
            "bin_start": 2.1,
            "bin_end": 2.1333333333333333,
            "count": 0
           },
           {
            "bin_start": 2.1333333333333333,
            "bin_end": 2.166666666666667,
            "count": 0
           },
           {
            "bin_start": 2.166666666666667,
            "bin_end": 2.2,
            "count": 0
           },
           {
            "bin_start": 2.2,
            "bin_end": 2.2333333333333334,
            "count": 0
           },
           {
            "bin_start": 2.2333333333333334,
            "bin_end": 2.2666666666666666,
            "count": 0
           },
           {
            "bin_start": 2.2666666666666666,
            "bin_end": 2.3000000000000003,
            "count": 0
           },
           {
            "bin_start": 2.3000000000000003,
            "bin_end": 2.3333333333333335,
            "count": 1
           }
          ]
         }
        },
        {
         "name": "_deepnote_index_column",
         "dtype": "int64"
        }
       ],
       "rows": [
        {
         "Drug": "Vincristine",
         "proximity_closest": 1.9789156626506024,
         "proximity_shortest": 2.590045897877223,
         "proximity_centre": 2,
         "_deepnote_index_column": 0
        },
        {
         "Drug": "Doxazosin",
         "proximity_closest": 2.183734939759036,
         "proximity_shortest": 2.8714859437751006,
         "proximity_centre": 2.3333333333333335,
         "_deepnote_index_column": 1
        }
       ]
      },
      "text/plain": "          Drug  proximity_closest  proximity_shortest  proximity_centre\n0  Vincristine           1.978916            2.590046          2.000000\n1    Doxazosin           2.183735            2.871486          2.333333",
      "text/html": "<div>\n<style scoped>\n    .dataframe tbody tr th:only-of-type {\n        vertical-align: middle;\n    }\n\n    .dataframe tbody tr th {\n        vertical-align: top;\n    }\n\n    .dataframe thead th {\n        text-align: right;\n    }\n</style>\n<table border=\"1\" class=\"dataframe\">\n  <thead>\n    <tr style=\"text-align: right;\">\n      <th></th>\n      <th>Drug</th>\n      <th>proximity_closest</th>\n      <th>proximity_shortest</th>\n      <th>proximity_centre</th>\n    </tr>\n  </thead>\n  <tbody>\n    <tr>\n      <th>0</th>\n      <td>Vincristine</td>\n      <td>1.978916</td>\n      <td>2.590046</td>\n      <td>2.000000</td>\n    </tr>\n    <tr>\n      <th>1</th>\n      <td>Doxazosin</td>\n      <td>2.183735</td>\n      <td>2.871486</td>\n      <td>2.333333</td>\n    </tr>\n  </tbody>\n</table>\n</div>"
     },
     "metadata": {}
    }
   ]
  },
  {
   "cell_type": "markdown",
   "source": "<a style='text-decoration:none;line-height:16px;display:flex;color:#5B5B62;padding:10px;justify-content:end;' href='https://deepnote.com?utm_source=created-in-deepnote-cell&projectId=d6f9e27d-71eb-4664-8c0d-e7e02cc44214' target=\"_blank\">\n<img alt='Created in deepnote.com' style='display:inline;max-height:16px;margin:0px;margin-right:7.5px;' src='data:image/svg+xml;base64,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' > </img>\nCreated in <span style='font-weight:600;margin-left:4px;'>Deepnote</span></a>",
   "metadata": {
    "tags": [],
    "created_in_deepnote_cell": true,
    "deepnote_cell_type": "markdown"
   }
  }
 ],
 "nbformat": 4,
 "nbformat_minor": 2,
 "metadata": {
  "orig_nbformat": 2,
  "deepnote": {},
  "deepnote_notebook_id": "1a7f2abb-eb86-40b6-aa1c-fc40f96c30a1",
  "deepnote_execution_queue": [
   {
    "cellId": "e876606c151145e5a5b20021c579e2ad",
    "sessionId": "1e3181f8-688b-4812-a5ef-ddd5971207f2",
    "msgId": "28e87dc7-dd84-436f-b5e4-11f19f13ac77"
   },
   {
    "cellId": "cb3b3bfbe8944c86979425f6ab257725",
    "sessionId": "1e3181f8-688b-4812-a5ef-ddd5971207f2",
    "msgId": "618c0772-4a8c-4197-bc81-236453e33f1f"
   },
   {
    "cellId": "2b7b199f85704ad1b85061147a8c85d7",
    "sessionId": "1e3181f8-688b-4812-a5ef-ddd5971207f2",
    "msgId": "77780833-c199-41c4-b252-c4015c0b2d1a"
   },
   {
    "cellId": "f06a136953db48bd9e18c0c7e4b2e71c",
    "sessionId": "1e3181f8-688b-4812-a5ef-ddd5971207f2",
    "msgId": "de2a44d5-72f1-4d94-a559-7d2a52b26165"
   },
   {
    "cellId": "522af9c97e124d2daaad8194d0f9feaf",
    "sessionId": "1e3181f8-688b-4812-a5ef-ddd5971207f2",
    "msgId": "5597355a-81c6-421a-8603-f2192c4051c1"
   },
   {
    "cellId": "2265b9f8f0bc4a809f6a301fcd658897",
    "sessionId": "1e3181f8-688b-4812-a5ef-ddd5971207f2",
    "msgId": "846aae8f-45f6-4f36-8224-acaa58222d14"
   },
   {
    "cellId": "d111dafe3fdc41d5a5e4ae141a24d373",
    "sessionId": "1e3181f8-688b-4812-a5ef-ddd5971207f2",
    "msgId": "73058d1e-e7d9-4b6b-88d8-07f06ef55a18"
   },
   {
    "cellId": "4b04f8cf99ac41ce87e9a5259da56db8",
    "sessionId": "1e3181f8-688b-4812-a5ef-ddd5971207f2",
    "msgId": "78a71d00-8f2c-4cdd-8ce7-4ef22f7a4955"
   },
   {
    "cellId": "bfd13ec72408427486cc3e83400f44a2",
    "sessionId": "1e3181f8-688b-4812-a5ef-ddd5971207f2",
    "msgId": "9741830d-4dd5-479a-9dc0-c96957567344"
   },
   {
    "cellId": "96cb5a6c268d465a8a00bcbc20b86d77",
    "sessionId": "1e3181f8-688b-4812-a5ef-ddd5971207f2",
    "msgId": "3295cd96-f41c-4a69-807d-ca8cd1a0e8b7"
   },
   {
    "cellId": "8f22933a302f4528a371aca9e6777fba",
    "sessionId": "1e3181f8-688b-4812-a5ef-ddd5971207f2",
    "msgId": "a83acc0b-4700-4734-aadf-d7729e5597fc"
   },
   {
    "cellId": "66fe478128a64e42ba812ce4c3eaaeb3",
    "sessionId": "1e3181f8-688b-4812-a5ef-ddd5971207f2",
    "msgId": "c81e0514-c151-4c02-a084-8a61f0dff065"
   },
   {
    "cellId": "9cd06d475bf54a4e8247735ab9215151",
    "sessionId": "1e3181f8-688b-4812-a5ef-ddd5971207f2",
    "msgId": "dc2722aa-355d-4948-beb6-d46102256dd0"
   }
  ]
 }
}