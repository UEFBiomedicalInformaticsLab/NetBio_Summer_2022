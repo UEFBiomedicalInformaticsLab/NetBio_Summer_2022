{
 "cells": [
  {
   "cell_type": "code",
   "metadata": {
    "tags": [],
    "cell_id": "03beae19-ac94-4bcb-9434-e68d2d596df2",
    "deepnote_to_be_reexecuted": false,
    "source_hash": "4b418169",
    "execution_start": 1659961752671,
    "execution_millis": 4323,
    "deepnote_cell_type": "code",
    "deepnote_cell_height": 292
   },
   "source": "# Upload python modules\nimport numpy as np\nimport networkx as nx\nimport pandas as pd\n\n# Import python modules for visualizations\nimport matplotlib.pylab as plt\nimport seaborn as sns\n\n%matplotlib inline\n\nimport separation # from Barabasi-lab\nimport Barabasi_proximities as prox",
   "outputs": [],
   "execution_count": null
  },
  {
   "cell_type": "code",
   "metadata": {
    "cell_id": "d4cff42f751041849e5f301a1b277ed7",
    "tags": [],
    "deepnote_to_be_reexecuted": false,
    "source_hash": "81d53230",
    "execution_start": 1659961757372,
    "execution_millis": 72,
    "deepnote_cell_type": "code",
    "deepnote_cell_height": 238
   },
   "source": "# Reading the edgelist from STRING\nedge_list = pd.read_table(\"Data/1_STRING_network.tsv\")\nedge_list.head()\n\n# Creating network from edge list \nSTRING_PPI = nx.from_pandas_edgelist(df = edge_list,\n                            source = \"node1\", \n                            target = \"node2\",\n                            edge_attr = \"combined_score\")\nSTRING_PPI_pos = nx.spring_layout(STRING_PPI, seed = 20)",
   "outputs": [],
   "execution_count": null
  },
  {
   "cell_type": "code",
   "metadata": {
    "cell_id": "dd1d651fce52479493dbebb7aeb17f5c",
    "tags": [],
    "deepnote_to_be_reexecuted": false,
    "source_hash": "8de991c8",
    "execution_start": 1659961757459,
    "execution_millis": 14,
    "deepnote_cell_type": "code",
    "deepnote_cell_height": 112
   },
   "source": "geneSet1 = {\"JAK1\", \"FOXA1\"} # Diesease S\ngeneSet2 = {\"AR\", \"JAK2\"} # Drug T\nnetwork = STRING_PPI",
   "outputs": [],
   "execution_count": null
  },
  {
   "cell_type": "code",
   "metadata": {
    "cell_id": "461310201edf497f925e35cfb6eabe43",
    "tags": [],
    "deepnote_to_be_reexecuted": false,
    "source_hash": "6939295b",
    "execution_start": 1659961757497,
    "execution_millis": 702,
    "deepnote_cell_type": "code",
    "deepnote_cell_height": 113.1875,
    "deepnote_output_heights": [
     21.1875
    ]
   },
   "source": "prox.proximity_closest(STRING_PPI, geneSet1, geneSet2)",
   "outputs": [
    {
     "output_type": "execute_result",
     "execution_count": 4,
     "data": {
      "text/plain": "1.0"
     },
     "metadata": {}
    }
   ],
   "execution_count": null
  },
  {
   "cell_type": "code",
   "metadata": {
    "cell_id": "1f16c32ae06649eb95f7c9c3db23deb0",
    "tags": [],
    "deepnote_to_be_reexecuted": false,
    "source_hash": "18a15ade",
    "execution_start": 1659961757591,
    "execution_millis": 609,
    "deepnote_cell_type": "code",
    "deepnote_cell_height": 113.1875,
    "deepnote_output_heights": [
     21.1875
    ]
   },
   "source": "prox.proximity_shortest(STRING_PPI, geneSet1, geneSet2)",
   "outputs": [
    {
     "output_type": "execute_result",
     "execution_count": 5,
     "data": {
      "text/plain": "1.75"
     },
     "metadata": {}
    }
   ],
   "execution_count": null
  },
  {
   "cell_type": "code",
   "metadata": {
    "cell_id": "c20804ad220e45e1bf0ecd54a93493f0",
    "tags": [],
    "deepnote_to_be_reexecuted": false,
    "source_hash": "8117f9fe",
    "execution_start": 1659961757592,
    "execution_millis": 609,
    "deepnote_cell_type": "code",
    "deepnote_cell_height": 131.1875,
    "deepnote_output_heights": [
     21.1875
    ]
   },
   "source": "topological_centre = prox.get_topological_centre(STRING_PPI, geneSet1)\nprox.proximity_centre(STRING_PPI, topological_centre, geneSet2)",
   "outputs": [
    {
     "output_type": "execute_result",
     "execution_count": 6,
     "data": {
      "text/plain": "1.75"
     },
     "metadata": {}
    }
   ],
   "execution_count": null
  },
  {
   "cell_type": "code",
   "metadata": {
    "cell_id": "4e55f716b757453ea40888939187ddf6",
    "tags": [],
    "deepnote_to_be_reexecuted": false,
    "source_hash": "dd239114",
    "execution_start": 1659961757719,
    "execution_millis": 0,
    "deepnote_cell_type": "code",
    "deepnote_cell_height": 113.1875,
    "deepnote_output_heights": [
     21.1875
    ]
   },
   "source": "topological_centre",
   "outputs": [
    {
     "output_type": "execute_result",
     "execution_count": 7,
     "data": {
      "text/plain": "{'FOXA1', 'JAK1'}"
     },
     "metadata": {}
    }
   ],
   "execution_count": null
  },
  {
   "cell_type": "code",
   "metadata": {
    "cell_id": "c62f74b55b3c4d779bd5bc8e90b83896",
    "tags": [],
    "deepnote_to_be_reexecuted": false,
    "source_hash": "b0a3f1b9",
    "execution_start": 1659961757763,
    "execution_millis": 440,
    "deepnote_cell_type": "code",
    "deepnote_cell_height": 113.1875,
    "deepnote_output_heights": [
     21.1875
    ]
   },
   "source": "prox.proximity_kernel(STRING_PPI, geneSet1, geneSet2)",
   "outputs": [
    {
     "output_type": "execute_result",
     "execution_count": 8,
     "data": {
      "text/plain": "2.4730523312793475"
     },
     "metadata": {}
    }
   ],
   "execution_count": null
  },
  {
   "cell_type": "code",
   "metadata": {
    "cell_id": "25c9b66bf6724ab0b1d2c7e08814fd71",
    "tags": [],
    "deepnote_to_be_reexecuted": false,
    "source_hash": "b623e53d",
    "execution_start": 1659961757789,
    "execution_millis": 874040232,
    "deepnote_cell_type": "code",
    "deepnote_cell_height": 76
   },
   "source": "",
   "outputs": [],
   "execution_count": null
  },
  {
   "cell_type": "markdown",
   "source": "<a style='text-decoration:none;line-height:16px;display:flex;color:#5B5B62;padding:10px;justify-content:end;' href='https://deepnote.com?utm_source=created-in-deepnote-cell&projectId=d6f9e27d-71eb-4664-8c0d-e7e02cc44214' target=\"_blank\">\n<img alt='Created in deepnote.com' style='display:inline;max-height:16px;margin:0px;margin-right:7.5px;' src='data:image/svg+xml;base64,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' > </img>\nCreated in <span style='font-weight:600;margin-left:4px;'>Deepnote</span></a>",
   "metadata": {
    "tags": [],
    "created_in_deepnote_cell": true,
    "deepnote_cell_type": "markdown"
   }
  }
 ],
 "nbformat": 4,
 "nbformat_minor": 2,
 "metadata": {
  "orig_nbformat": 2,
  "deepnote": {},
  "deepnote_notebook_id": "8f51d3e5-574e-4ee2-ab23-41cdf703a81c",
  "deepnote_execution_queue": []
 }
}