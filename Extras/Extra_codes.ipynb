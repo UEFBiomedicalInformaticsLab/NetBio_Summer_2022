{
 "cells": [
  {
   "cell_type": "code",
   "metadata": {
    "tags": [],
    "cell_id": "03beae19-ac94-4bcb-9434-e68d2d596df2",
    "deepnote_to_be_reexecuted": false,
    "source_hash": "4b418169",
    "execution_start": 1659961752671,
    "execution_millis": 4323,
    "deepnote_cell_type": "code",
    "deepnote_cell_height": 292
   },
   "source": "# Upload python modules\nimport numpy as np\nimport networkx as nx\nimport pandas as pd\n\n# Import python modules for visualizations\nimport matplotlib.pylab as plt\nimport seaborn as sns\n\n%matplotlib inline\n\nimport separation # from Barabasi-lab\nimport Barabasi_proximities as prox",
   "execution_count": null,
   "outputs": []
  },
  {
   "cell_type": "code",
   "metadata": {
    "cell_id": "d4cff42f751041849e5f301a1b277ed7",
    "tags": [],
    "deepnote_to_be_reexecuted": false,
    "source_hash": "81d53230",
    "execution_start": 1659961757372,
    "execution_millis": 72,
    "deepnote_cell_type": "code",
    "deepnote_cell_height": 238
   },
   "source": "# Reading the edgelist from STRING\nedge_list = pd.read_table(\"Data/1_STRING_network.tsv\")\nedge_list.head()\n\n# Creating network from edge list \nSTRING_PPI = nx.from_pandas_edgelist(df = edge_list,\n                            source = \"node1\", \n                            target = \"node2\",\n                            edge_attr = \"combined_score\")\nSTRING_PPI_pos = nx.spring_layout(STRING_PPI, seed = 20)",
   "execution_count": null,
   "outputs": []
  },
  {
   "cell_type": "code",
   "metadata": {
    "cell_id": "dd1d651fce52479493dbebb7aeb17f5c",
    "tags": [],
    "deepnote_to_be_reexecuted": false,
    "source_hash": "8de991c8",
    "execution_start": 1659961757459,
    "execution_millis": 14,
    "deepnote_cell_type": "code",
    "deepnote_cell_height": 112
   },
   "source": "geneSet1 = {\"JAK1\", \"FOXA1\"} # Diesease S\ngeneSet2 = {\"AR\", \"JAK2\"} # Drug T\nnetwork = STRING_PPI",
   "execution_count": null,
   "outputs": []
  },
  {
   "cell_type": "code",
   "metadata": {
    "cell_id": "461310201edf497f925e35cfb6eabe43",
    "tags": [],
    "deepnote_to_be_reexecuted": false,
    "source_hash": "6939295b",
    "execution_start": 1659961757497,
    "execution_millis": 702,
    "deepnote_cell_type": "code",
    "deepnote_cell_height": 113,
    "deepnote_output_heights": [
     21
    ]
   },
   "source": "prox.proximity_closest(STRING_PPI, geneSet1, geneSet2)",
   "execution_count": null,
   "outputs": [
    {
     "output_type": "execute_result",
     "execution_count": 4,
     "data": {
      "text/plain": "1.0"
     },
     "metadata": {}
    }
   ]
  },
  {
   "cell_type": "code",
   "metadata": {
    "cell_id": "1f16c32ae06649eb95f7c9c3db23deb0",
    "tags": [],
    "deepnote_to_be_reexecuted": false,
    "source_hash": "18a15ade",
    "execution_start": 1659961757591,
    "execution_millis": 609,
    "deepnote_cell_type": "code",
    "deepnote_cell_height": 113,
    "deepnote_output_heights": [
     21
    ]
   },
   "source": "prox.proximity_shortest(STRING_PPI, geneSet1, geneSet2)",
   "execution_count": null,
   "outputs": [
    {
     "output_type": "execute_result",
     "execution_count": 5,
     "data": {
      "text/plain": "1.75"
     },
     "metadata": {}
    }
   ]
  },
  {
   "cell_type": "code",
   "metadata": {
    "cell_id": "c20804ad220e45e1bf0ecd54a93493f0",
    "tags": [],
    "deepnote_to_be_reexecuted": false,
    "source_hash": "8117f9fe",
    "execution_start": 1659961757592,
    "execution_millis": 609,
    "deepnote_cell_type": "code",
    "deepnote_cell_height": 131,
    "deepnote_output_heights": [
     21
    ]
   },
   "source": "topological_centre = prox.get_topological_centre(STRING_PPI, geneSet1)\nprox.proximity_centre(STRING_PPI, topological_centre, geneSet2)",
   "execution_count": null,
   "outputs": [
    {
     "output_type": "execute_result",
     "execution_count": 6,
     "data": {
      "text/plain": "1.75"
     },
     "metadata": {}
    }
   ]
  },
  {
   "cell_type": "code",
   "metadata": {
    "cell_id": "4e55f716b757453ea40888939187ddf6",
    "tags": [],
    "deepnote_to_be_reexecuted": false,
    "source_hash": "dd239114",
    "execution_start": 1659961757719,
    "execution_millis": 0,
    "deepnote_cell_type": "code",
    "deepnote_cell_height": 113,
    "deepnote_output_heights": [
     21
    ]
   },
   "source": "topological_centre",
   "execution_count": null,
   "outputs": [
    {
     "output_type": "execute_result",
     "execution_count": 7,
     "data": {
      "text/plain": "{'FOXA1', 'JAK1'}"
     },
     "metadata": {}
    }
   ]
  },
  {
   "cell_type": "code",
   "metadata": {
    "cell_id": "c62f74b55b3c4d779bd5bc8e90b83896",
    "tags": [],
    "deepnote_to_be_reexecuted": false,
    "source_hash": "b0a3f1b9",
    "execution_start": 1659961757763,
    "execution_millis": 440,
    "deepnote_cell_type": "code",
    "deepnote_cell_height": 113,
    "deepnote_output_heights": [
     21
    ]
   },
   "source": "prox.proximity_kernel(STRING_PPI, geneSet1, geneSet2)",
   "execution_count": null,
   "outputs": [
    {
     "output_type": "execute_result",
     "execution_count": 8,
     "data": {
      "text/plain": "2.4730523312793475"
     },
     "metadata": {}
    }
   ]
  },
  {
   "cell_type": "code",
   "metadata": {
    "cell_id": "25c9b66bf6724ab0b1d2c7e08814fd71",
    "tags": [],
    "deepnote_to_be_reexecuted": false,
    "source_hash": "b623e53d",
    "execution_start": 1659961757789,
    "execution_millis": 874040232,
    "deepnote_cell_type": "code",
    "deepnote_cell_height": 76
   },
   "source": "",
   "execution_count": null,
   "outputs": []
  },
  {
   "cell_type": "markdown",
   "source": "http://vafaeelab.com/COVID19_repositioning.html",
   "metadata": {
    "cell_id": "58c417e1a0ca4254bcd912e4f038bc54",
    "tags": [],
    "deepnote_cell_type": "markdown",
    "deepnote_cell_height": 52.390625
   }
  },
  {
   "cell_type": "markdown",
   "source": "**Network-based proximity between drugs and diseases**\n\nNetwork based proximities have been extensively explored for identifying effective drugs for a disease and for drug repurposing. However, there exists several ways how these proximities between drug targets and disease genes are evaluated. Here, we show four such methods. Given ${S}$, the set of disease proteins, ${T}$, the set of drug targets and ${d(s,t)}$, the shortest path length between nodes ${s}$ and ${t}$ in the network, we define:\n\n**Closest:** mean of the minimum distances of genes in ${T}$ to the genes in ${S}$.\n\n$$\n\\text{d}_{c}{(S,T)} =  \\frac{1}{||T||}\\sum_{t \\in T}\\min_{s \\in S}\\text{d(s,t)}\n$$\n\n**Shortest:** mean of the mean distances of genes in ${T}$ to all the genes in ${S}$.\n\n$$\n\\text{d}_{s}{(S,T)} = \\frac{1}{||T||}\\sum_{t \\in T}\\frac{1}{||S||}\\sum_{s \\in S}\\text{d(s,t)}\n$$\n\n**Kernel:**\n\n$$\n\\text{d}_{k}{(S,T)} = \\frac{-1}{||T||}\\sum_{t \\in T}\\ln\\sum_{s \\in S}\\frac{e^{-(d(s,t)+1)}}{|S|}\n$$\n\n**Centre:** mean of the distances of genes in ${T}$ to the topological centre of the genes in ${S}$.\n\n$$\n\\text{d}_{cc}{(S,T)} = \\frac{1}{||T||}\\text{d(centre}_{s}{,t)}\n$$\n\nwhere ${centre}_{S}$, the topological centre of ${S}$ was defined as:\n\n$$\n\\text{centre}_{S} = {argmin}_{u \\in S}\\sum_{s \\in S} {d(s, u)}\n$$\n\nin case the ${centre}_{S}$ is not unique, all the nodes are used to define the centre and the shortest path lengths to these nodes are averages.\n\n(From:  https://www.nature.com/articles/ncomms10331#Sec12)\n",
   "metadata": {
    "cell_id": "7fc23b9cd8e24e3a8f772d47199c4124",
    "tags": [],
    "deepnote_cell_type": "markdown",
    "deepnote_cell_height": 719.90625
   }
  },
  {
   "cell_type": "code",
   "metadata": {
    "cell_id": "1a3764b75888411ab3e3bf1ab8ddb878",
    "tags": [],
    "deepnote_cell_type": "code",
    "deepnote_cell_height": 133
   },
   "source": "# prepare known drug-target associations \ndrug2targets = {}\nlist_drugs_to_inv = ['Vincristine','Doxazosin']\nfor d in list_drugs_to_inv: \n    drug2targets[d] = [int(e) for e in d2g.loc[d2g['Name'] == d, 'entrez_id']]",
   "execution_count": null,
   "outputs": []
  },
  {
   "cell_type": "code",
   "metadata": {
    "cell_id": "2e16a10fdc5c4ac296bf0201b51355d8",
    "tags": [],
    "deepnote_cell_type": "code",
    "deepnote_cell_height": 457
   },
   "source": "Drug_proximities = pd.DataFrame()\n\nfor drug in list_drugs_to_inv:\n    # print(drug)\n    genes_A = set(dt.EntrezID) & set(G.nodes())\n\n    genes_B = set(drug2targets[drug]) & set(G.nodes())\n    # print(len(genes_B))\n\n    proximity_closest = prox.proximity_closest(G, genes_A, genes_B)\n    proximity_shortest = prox.proximity_shortest(G, genes_A, genes_B)\n    proximity_kernel = prox.proximity_kernel(G, genes_A, genes_B)\n    \n    topological_centre = prox.get_topological_centre(G, genes_A)\n    proximity_centre = prox.proximity_centre(G, topological_centre, genes_B)\n\n    tmp = pd.DataFrame({\"Drug\" : drug, \n                            \"proximity_closest\" : proximity_closest,\n                            \"proximity_shortest\" : proximity_shortest,\n                            \"proximity_kernel\" : proximity_kernel,\n                            \"proximity_centre\" : proximity_centre}, index = [0])\n    Drug_proximities = pd.concat([Drug_proximities, tmp]).reset_index(drop = True)\n",
   "execution_count": null,
   "outputs": []
  },
  {
   "cell_type": "code",
   "metadata": {
    "cell_id": "ce9ae8e5d77c403392ddc6af36284c6f",
    "tags": [],
    "deepnote_cell_type": "code",
    "deepnote_cell_height": 61
   },
   "source": "Drug_proximities",
   "execution_count": null,
   "outputs": []
  },
  {
   "cell_type": "markdown",
   "source": "<a style='text-decoration:none;line-height:16px;display:flex;color:#5B5B62;padding:10px;justify-content:end;' href='https://deepnote.com?utm_source=created-in-deepnote-cell&projectId=d6f9e27d-71eb-4664-8c0d-e7e02cc44214' target=\"_blank\">\n<img alt='Created in deepnote.com' style='display:inline;max-height:16px;margin:0px;margin-right:7.5px;' src='data:image/svg+xml;base64,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' > </img>\nCreated in <span style='font-weight:600;margin-left:4px;'>Deepnote</span></a>",
   "metadata": {
    "tags": [],
    "created_in_deepnote_cell": true,
    "deepnote_cell_type": "markdown"
   }
  }
 ],
 "nbformat": 4,
 "nbformat_minor": 2,
 "metadata": {
  "orig_nbformat": 2,
  "deepnote": {},
  "deepnote_notebook_id": "8f51d3e5-574e-4ee2-ab23-41cdf703a81c",
  "deepnote_execution_queue": []
 }
}