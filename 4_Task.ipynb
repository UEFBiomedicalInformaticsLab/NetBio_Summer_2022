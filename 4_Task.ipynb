{
 "cells": [
  {
   "cell_type": "markdown",
   "source": "## Final exercises",
   "metadata": {
    "cell_id": "b370d83550e843b1a51abbbe77504cb2",
    "tags": [],
    "deepnote_cell_type": "markdown",
    "deepnote_cell_height": 70
   }
  },
  {
   "cell_type": "markdown",
   "source": "#### Exercise 1: Prioritization of SARS-Cov-2 targets based on network centralities\n- Extract sub-network of known SARS-Cov-2 targets from the human interactome\n- Calculate the centralities for each target\n- Identify the genes that are ranked highly by the degree centrality, closeness centrality and betweenness centrality.\n- Are there any genes that are common?\n\n<strong>Files to use:</strong>\n- Human interactome: Data/Barabasi_CoV2_PPI.csv\n- SARS-Cov-2 targets: Data/SARSCoV2_Targets.csv\n",
   "metadata": {
    "cell_id": "d8112d568cbb458293ecf42bcb465fb7",
    "tags": [],
    "deepnote_cell_type": "markdown",
    "deepnote_cell_height": 276.734375
   }
  },
  {
   "cell_type": "code",
   "source": "# Upload python modules\nimport networkx as nx\nimport pandas as pd\nimport numpy as np\n# Import python modules for visualizations\nimport matplotlib.pylab as plt\n\n%matplotlib inline",
   "metadata": {
    "cell_id": "3eef73129b134b609e9d80e221fd49b5",
    "tags": [],
    "deepnote_to_be_reexecuted": false,
    "source_hash": "64e667e4",
    "execution_start": 1658999635658,
    "execution_millis": 20,
    "deepnote_cell_type": "code",
    "deepnote_cell_height": 207
   },
   "outputs": [],
   "execution_count": 46
  },
  {
   "cell_type": "code",
   "source": "# Reading the human interactome from Gysi et al., 2021 \nedge_list = pd.read_csv(\"Data/Barabasi_CoV2_PPI.csv\")\n\n# Creating network from edge list \nBarabasi_human_interactome = nx.from_pandas_edgelist(df = edge_list,\n                                                        source = \"proteinA_entrezid\", \n                                                        target = \"proteinB_entrezid\")\n\n# human_int_pos = nx.spring_layout(Barabasi_human_interactome, seed = 123)\n# nx.draw(Barabasi_human_interactome, with_labels = True, pos = human_int_pos, node_size = 1000, node_color = \"#1BB3F5\")",
   "metadata": {
    "cell_id": "0c699d14d8084f11825783e716769f11",
    "tags": [],
    "deepnote_to_be_reexecuted": false,
    "source_hash": "468d2e76",
    "execution_start": 1658998218944,
    "execution_millis": 3486,
    "deepnote_cell_type": "code",
    "deepnote_cell_height": 243
   },
   "outputs": [],
   "execution_count": 22
  },
  {
   "cell_type": "code",
   "source": "# Extract the largest connected component\nBarabasi_human_interactome = list(Barabasi_human_interactome.subgraph(c).copy() for c in sorted(nx.connected_components(Barabasi_human_interactome), key = len, reverse = True))[0]\nprint(len(Barabasi_human_interactome.nodes()), len(Barabasi_human_interactome.edges()))\n# nx.draw(Barabasi_human_interactome, with_labels = True, node_size = 1000, node_color = \"#1BB3F5\")",
   "metadata": {
    "cell_id": "4e1f9c31780c47b3a940b925ad0f4780",
    "tags": [],
    "deepnote_to_be_reexecuted": false,
    "source_hash": "b086ed26",
    "execution_start": 1658998222726,
    "execution_millis": 9305,
    "deepnote_cell_type": "code",
    "deepnote_cell_height": 166.1875
   },
   "outputs": [
    {
     "name": "stdout",
     "text": "18446 327868\n",
     "output_type": "stream"
    }
   ],
   "execution_count": 24
  },
  {
   "cell_type": "code",
   "source": "# Remove self-loops\nBarabasi_human_interactome.remove_edges_from(nx.selfloop_edges(Barabasi_human_interactome))",
   "metadata": {
    "cell_id": "9bebb1839a4b4f3685db47d0cba4724c",
    "tags": [],
    "deepnote_to_be_reexecuted": false,
    "source_hash": "d49c328b",
    "execution_start": 1658998256876,
    "execution_millis": 145,
    "deepnote_cell_type": "code",
    "deepnote_cell_height": 99
   },
   "outputs": [],
   "execution_count": 25
  },
  {
   "cell_type": "code",
   "source": "# Read the targets for SARS-Cov-2\nSarsCov_targets = pd.read_csv('./Data/SARSCoV2_Targets.csv')\nSarsCov_targets.head()",
   "metadata": {
    "cell_id": "5f4c72d662ec463683dd451939b48360",
    "tags": [],
    "deepnote_to_be_reexecuted": false,
    "source_hash": "17a3e699",
    "execution_start": 1658998427458,
    "execution_millis": 112,
    "deepnote_cell_type": "code",
    "deepnote_cell_height": 431
   },
   "outputs": [
    {
     "output_type": "execute_result",
     "execution_count": 27,
     "data": {
      "application/vnd.deepnote.dataframe.v3+json": {
       "column_count": 3,
       "row_count": 5,
       "columns": [
        {
         "name": "SARS",
         "dtype": "object",
         "stats": {
          "unique_count": 1,
          "nan_count": 0,
          "categories": [
           {
            "name": "sars-cov2e",
            "count": 5
           }
          ]
         }
        },
        {
         "name": "EntrezID",
         "dtype": "int64",
         "stats": {
          "unique_count": 5,
          "nan_count": 0,
          "min": "6046",
          "max": "124245",
          "histogram": [
           {
            "bin_start": 6046,
            "bin_end": 17865.9,
            "count": 3
           },
           {
            "bin_start": 17865.9,
            "bin_end": 29685.8,
            "count": 1
           },
           {
            "bin_start": 29685.8,
            "bin_end": 41505.7,
            "count": 0
           },
           {
            "bin_start": 41505.7,
            "bin_end": 53325.6,
            "count": 0
           },
           {
            "bin_start": 53325.6,
            "bin_end": 65145.5,
            "count": 0
           },
           {
            "bin_start": 65145.5,
            "bin_end": 76965.4,
            "count": 0
           },
           {
            "bin_start": 76965.4,
            "bin_end": 88785.3,
            "count": 0
           },
           {
            "bin_start": 88785.3,
            "bin_end": 100605.2,
            "count": 0
           },
           {
            "bin_start": 100605.2,
            "bin_end": 112425.09999999999,
            "count": 0
           },
           {
            "bin_start": 112425.09999999999,
            "bin_end": 124245,
            "count": 1
           }
          ]
         }
        },
        {
         "name": "Symbol",
         "dtype": "object",
         "stats": {
          "unique_count": 5,
          "nan_count": 0,
          "categories": [
           {
            "name": "AP3B1",
            "count": 1
           },
           {
            "name": "BRD4",
            "count": 1
           },
           {
            "name": "3 others",
            "count": 3
           }
          ]
         }
        },
        {
         "name": "_deepnote_index_column",
         "dtype": "int64"
        }
       ],
       "rows": [
        {
         "SARS": "sars-cov2e",
         "EntrezID": 8546,
         "Symbol": "AP3B1",
         "_deepnote_index_column": 0
        },
        {
         "SARS": "sars-cov2e",
         "EntrezID": 23476,
         "Symbol": "BRD4",
         "_deepnote_index_column": 1
        },
        {
         "SARS": "sars-cov2e",
         "EntrezID": 6046,
         "Symbol": "BRD2",
         "_deepnote_index_column": 2
        },
        {
         "SARS": "sars-cov2e",
         "EntrezID": 10283,
         "Symbol": "CWC27",
         "_deepnote_index_column": 3
        },
        {
         "SARS": "sars-cov2e",
         "EntrezID": 124245,
         "Symbol": "ZC3H18",
         "_deepnote_index_column": 4
        }
       ]
      },
      "text/plain": "         SARS  EntrezID  Symbol\n0  sars-cov2e      8546   AP3B1\n1  sars-cov2e     23476    BRD4\n2  sars-cov2e      6046    BRD2\n3  sars-cov2e     10283   CWC27\n4  sars-cov2e    124245  ZC3H18",
      "text/html": "<div>\n<style scoped>\n    .dataframe tbody tr th:only-of-type {\n        vertical-align: middle;\n    }\n\n    .dataframe tbody tr th {\n        vertical-align: top;\n    }\n\n    .dataframe thead th {\n        text-align: right;\n    }\n</style>\n<table border=\"1\" class=\"dataframe\">\n  <thead>\n    <tr style=\"text-align: right;\">\n      <th></th>\n      <th>SARS</th>\n      <th>EntrezID</th>\n      <th>Symbol</th>\n    </tr>\n  </thead>\n  <tbody>\n    <tr>\n      <th>0</th>\n      <td>sars-cov2e</td>\n      <td>8546</td>\n      <td>AP3B1</td>\n    </tr>\n    <tr>\n      <th>1</th>\n      <td>sars-cov2e</td>\n      <td>23476</td>\n      <td>BRD4</td>\n    </tr>\n    <tr>\n      <th>2</th>\n      <td>sars-cov2e</td>\n      <td>6046</td>\n      <td>BRD2</td>\n    </tr>\n    <tr>\n      <th>3</th>\n      <td>sars-cov2e</td>\n      <td>10283</td>\n      <td>CWC27</td>\n    </tr>\n    <tr>\n      <th>4</th>\n      <td>sars-cov2e</td>\n      <td>124245</td>\n      <td>ZC3H18</td>\n    </tr>\n  </tbody>\n</table>\n</div>"
     },
     "metadata": {}
    }
   ],
   "execution_count": 27
  },
  {
   "cell_type": "code",
   "source": "# Extract sub-network of SARS-Cov-2 targets\nSarsCov_net = Barabasi_human_interactome.subgraph(list(SarsCov_targets[\"EntrezID\"]))\nprint(len(SarsCov_net.nodes()), len(SarsCov_net.edges()))",
   "metadata": {
    "cell_id": "222b01a8b49346d8904a5c3af052a2cc",
    "tags": [],
    "deepnote_to_be_reexecuted": false,
    "source_hash": "526b2d3f",
    "execution_start": 1658998598057,
    "execution_millis": 103,
    "deepnote_cell_type": "code",
    "deepnote_cell_height": 148.1875
   },
   "outputs": [
    {
     "name": "stdout",
     "text": "332 382\n",
     "output_type": "stream"
    }
   ],
   "execution_count": 28
  },
  {
   "cell_type": "code",
   "source": "# Calculate the centralities for genes in the SARS-Cov-2 target network\ndegree_centrality = nx.degree_centrality(SarsCov_net)\nbetweenness_centrality = nx.betweenness_centrality(SarsCov_net)\ncloseness_centrality = nx.closeness_centrality(SarsCov_net)\ncentrality_table = pd.DataFrame({\"Degree centrality\" : pd.Series(degree_centrality),\n                                    \"Betweenness\" : pd.Series(betweenness_centrality),\n                                    \"Closeness centrality\" : pd.Series(closeness_centrality)})\ncentrality_table",
   "metadata": {
    "cell_id": "af6b0ceedd75422e8727f18213051811",
    "tags": [],
    "deepnote_to_be_reexecuted": false,
    "source_hash": "e342c439",
    "execution_start": 1658998784280,
    "execution_millis": 15942,
    "deepnote_cell_type": "code",
    "deepnote_cell_height": 207
   },
   "outputs": [],
   "execution_count": 30
  },
  {
   "cell_type": "code",
   "source": "",
   "metadata": {
    "cell_id": "48ecb38c73d742488cfc28dc1105cf03",
    "tags": [],
    "deepnote_to_be_reexecuted": false,
    "source_hash": "84b8c890",
    "execution_start": 1658998800223,
    "execution_millis": 307,
    "deepnote_cell_type": "code",
    "deepnote_cell_height": 600
   },
   "outputs": [
    {
     "output_type": "execute_result",
     "execution_count": 31,
     "data": {
      "application/vnd.deepnote.dataframe.v3+json": {
       "column_count": 3,
       "row_count": 332,
       "columns": [
        {
         "name": "Degree centrality",
         "dtype": "float64",
         "stats": {
          "unique_count": 15,
          "nan_count": 0,
          "min": "0.0",
          "max": "0.04229607250755287",
          "histogram": [
           {
            "bin_start": 0,
            "bin_end": 0.004229607250755287,
            "count": 176
           },
           {
            "bin_start": 0.004229607250755287,
            "bin_end": 0.008459214501510574,
            "count": 50
           },
           {
            "bin_start": 0.008459214501510574,
            "bin_end": 0.01268882175226586,
            "count": 52
           },
           {
            "bin_start": 0.01268882175226586,
            "bin_end": 0.016918429003021148,
            "count": 23
           },
           {
            "bin_start": 0.016918429003021148,
            "bin_end": 0.021148036253776436,
            "count": 6
           },
           {
            "bin_start": 0.021148036253776436,
            "bin_end": 0.02537764350453172,
            "count": 7
           },
           {
            "bin_start": 0.02537764350453172,
            "bin_end": 0.029607250755287008,
            "count": 5
           },
           {
            "bin_start": 0.029607250755287008,
            "bin_end": 0.033836858006042296,
            "count": 5
           },
           {
            "bin_start": 0.033836858006042296,
            "bin_end": 0.038066465256797584,
            "count": 6
           },
           {
            "bin_start": 0.038066465256797584,
            "bin_end": 0.04229607250755287,
            "count": 2
           }
          ]
         }
        },
        {
         "name": "Betweenness",
         "dtype": "float64",
         "stats": {
          "unique_count": 115,
          "nan_count": 0,
          "min": "0.0",
          "max": "0.0651077897645236",
          "histogram": [
           {
            "bin_start": 0,
            "bin_end": 0.00651077897645236,
            "count": 262
           },
           {
            "bin_start": 0.00651077897645236,
            "bin_end": 0.01302155795290472,
            "count": 29
           },
           {
            "bin_start": 0.01302155795290472,
            "bin_end": 0.01953233692935708,
            "count": 14
           },
           {
            "bin_start": 0.01953233692935708,
            "bin_end": 0.02604311590580944,
            "count": 7
           },
           {
            "bin_start": 0.02604311590580944,
            "bin_end": 0.0325538948822618,
            "count": 10
           },
           {
            "bin_start": 0.0325538948822618,
            "bin_end": 0.03906467385871416,
            "count": 3
           },
           {
            "bin_start": 0.03906467385871416,
            "bin_end": 0.04557545283516652,
            "count": 2
           },
           {
            "bin_start": 0.04557545283516652,
            "bin_end": 0.05208623181161888,
            "count": 3
           },
           {
            "bin_start": 0.05208623181161888,
            "bin_end": 0.05859701078807124,
            "count": 1
           },
           {
            "bin_start": 0.05859701078807124,
            "bin_end": 0.0651077897645236,
            "count": 1
           }
          ]
         }
        },
        {
         "name": "Closeness centrality",
         "dtype": "float64",
         "stats": {
          "unique_count": 168,
          "nan_count": 0,
          "min": "0.0",
          "max": "0.19206702107631762",
          "histogram": [
           {
            "bin_start": 0,
            "bin_end": 0.019206702107631764,
            "count": 124
           },
           {
            "bin_start": 0.019206702107631764,
            "bin_end": 0.03841340421526353,
            "count": 0
           },
           {
            "bin_start": 0.03841340421526353,
            "bin_end": 0.05762010632289529,
            "count": 0
           },
           {
            "bin_start": 0.05762010632289529,
            "bin_end": 0.07682680843052705,
            "count": 3
           },
           {
            "bin_start": 0.07682680843052705,
            "bin_end": 0.09603351053815881,
            "count": 12
           },
           {
            "bin_start": 0.09603351053815881,
            "bin_end": 0.11524021264579058,
            "count": 52
           },
           {
            "bin_start": 0.11524021264579058,
            "bin_end": 0.13444691475342235,
            "count": 48
           },
           {
            "bin_start": 0.13444691475342235,
            "bin_end": 0.1536536168610541,
            "count": 63
           },
           {
            "bin_start": 0.1536536168610541,
            "bin_end": 0.17286031896868587,
            "count": 22
           },
           {
            "bin_start": 0.17286031896868587,
            "bin_end": 0.19206702107631762,
            "count": 8
           }
          ]
         }
        },
        {
         "name": "_deepnote_index_column",
         "dtype": "int64"
        }
       ],
       "rows": [
        {
         "Degree centrality": 0,
         "Betweenness": 0,
         "Closeness centrality": 0,
         "_deepnote_index_column": 79877
        },
        {
         "Degree centrality": 0.006042296072507553,
         "Betweenness": 0.0006455578661016727,
         "Closeness centrality": 0.1387493807132241,
         "_deepnote_index_column": 10270
        },
        {
         "Degree centrality": 0.0030211480362537764,
         "Betweenness": 0,
         "Closeness centrality": 0.0030211480362537764,
         "_deepnote_index_column": 34
        },
        {
         "Degree centrality": 0.0030211480362537764,
         "Betweenness": 0,
         "Closeness centrality": 0.10225369052562248,
         "_deepnote_index_column": 10280
        },
        {
         "Degree centrality": 0,
         "Betweenness": 0,
         "Closeness centrality": 0,
         "_deepnote_index_column": 10283
        },
        {
         "Degree centrality": 0.015105740181268881,
         "Betweenness": 0.031990001565667586,
         "Closeness centrality": 0.1719165633538354,
         "_deepnote_index_column": 4140
        },
        {
         "Degree centrality": 0.0030211480362537764,
         "Betweenness": 0,
         "Closeness centrality": 0.11415623651273198,
         "_deepnote_index_column": 4139
        },
        {
         "Degree centrality": 0,
         "Betweenness": 0,
         "Closeness centrality": 0,
         "_deepnote_index_column": 131118
        },
        {
         "Degree centrality": 0.006042296072507553,
         "Betweenness": 0.0037718575482925936,
         "Closeness centrality": 0.12212563415607365,
         "_deepnote_index_column": 51248
        },
        {
         "Degree centrality": 0,
         "Betweenness": 0,
         "Closeness centrality": 0,
         "_deepnote_index_column": 90161
        }
       ]
      },
      "text/plain": "       Degree centrality  Betweenness  Closeness centrality\n79877           0.000000     0.000000              0.000000\n10270           0.006042     0.000646              0.138749\n34              0.003021     0.000000              0.003021\n10280           0.003021     0.000000              0.102254\n10283           0.000000     0.000000              0.000000\n...                  ...          ...                   ...\n10204           0.012085     0.005688              0.144640\n55285           0.009063     0.002405              0.147441\n2040            0.018127     0.042168              0.147273\n10238           0.006042     0.000634              0.134427\n51199           0.003021     0.000000              0.143200\n\n[332 rows x 3 columns]",
      "text/html": "<div>\n<style scoped>\n    .dataframe tbody tr th:only-of-type {\n        vertical-align: middle;\n    }\n\n    .dataframe tbody tr th {\n        vertical-align: top;\n    }\n\n    .dataframe thead th {\n        text-align: right;\n    }\n</style>\n<table border=\"1\" class=\"dataframe\">\n  <thead>\n    <tr style=\"text-align: right;\">\n      <th></th>\n      <th>Degree centrality</th>\n      <th>Betweenness</th>\n      <th>Closeness centrality</th>\n    </tr>\n  </thead>\n  <tbody>\n    <tr>\n      <th>79877</th>\n      <td>0.000000</td>\n      <td>0.000000</td>\n      <td>0.000000</td>\n    </tr>\n    <tr>\n      <th>10270</th>\n      <td>0.006042</td>\n      <td>0.000646</td>\n      <td>0.138749</td>\n    </tr>\n    <tr>\n      <th>34</th>\n      <td>0.003021</td>\n      <td>0.000000</td>\n      <td>0.003021</td>\n    </tr>\n    <tr>\n      <th>10280</th>\n      <td>0.003021</td>\n      <td>0.000000</td>\n      <td>0.102254</td>\n    </tr>\n    <tr>\n      <th>10283</th>\n      <td>0.000000</td>\n      <td>0.000000</td>\n      <td>0.000000</td>\n    </tr>\n    <tr>\n      <th>...</th>\n      <td>...</td>\n      <td>...</td>\n      <td>...</td>\n    </tr>\n    <tr>\n      <th>10204</th>\n      <td>0.012085</td>\n      <td>0.005688</td>\n      <td>0.144640</td>\n    </tr>\n    <tr>\n      <th>55285</th>\n      <td>0.009063</td>\n      <td>0.002405</td>\n      <td>0.147441</td>\n    </tr>\n    <tr>\n      <th>2040</th>\n      <td>0.018127</td>\n      <td>0.042168</td>\n      <td>0.147273</td>\n    </tr>\n    <tr>\n      <th>10238</th>\n      <td>0.006042</td>\n      <td>0.000634</td>\n      <td>0.134427</td>\n    </tr>\n    <tr>\n      <th>51199</th>\n      <td>0.003021</td>\n      <td>0.000000</td>\n      <td>0.143200</td>\n    </tr>\n  </tbody>\n</table>\n<p>332 rows × 3 columns</p>\n</div>"
     },
     "metadata": {}
    }
   ],
   "execution_count": 31
  },
  {
   "cell_type": "code",
   "source": "# Print top 10 genes by centrality\ntop_degree = list(centrality_table.sort_values(by = \"Degree centrality\", ascending = False)[0:10].index)\ntop_betweenness = list(centrality_table.sort_values(by = \"Betweenness\", ascending = False)[0:10].index)\ntop_closeness = list(centrality_table.sort_values(by = \"Closeness centrality\", ascending = False)[0:10].index)\n\nprint(top_degree)\nprint(top_betweenness)\nprint(top_closeness)",
   "metadata": {
    "cell_id": "c4deb77aab8e47ddb7bf29165ccb3191",
    "tags": [],
    "deepnote_to_be_reexecuted": false,
    "source_hash": "94cbc25f",
    "execution_start": 1659000095303,
    "execution_millis": 8,
    "deepnote_cell_type": "code",
    "deepnote_cell_height": 278.5625
   },
   "outputs": [
    {
     "name": "stdout",
     "text": "[5566, 5576, 10956, 11116, 55755, 5318, 166, 2801, 10142, 7879]\n[5318, 5566, 8021, 2801, 7879, 2040, 1460, 10956, 6731, 166]\n[5318, 5566, 2801, 10142, 1460, 5910, 5576, 56915, 166, 4140]\n",
     "output_type": "stream"
    }
   ],
   "execution_count": 59
  },
  {
   "cell_type": "code",
   "source": "# Identify the genes that are common\n# These genes might be more important\nselect_genes = list(set(top_degree) & set(top_betweenness) & set(top_closeness))\nselect_genes",
   "metadata": {
    "cell_id": "e21fd4761edc48e08f674a289e8a218a",
    "tags": [],
    "deepnote_to_be_reexecuted": false,
    "source_hash": "8ca10b3f",
    "execution_start": 1659000272796,
    "execution_millis": 11,
    "deepnote_cell_type": "code",
    "deepnote_cell_height": 172.1875,
    "deepnote_output_heights": [
     21.1875
    ]
   },
   "outputs": [
    {
     "output_type": "execute_result",
     "execution_count": 63,
     "data": {
      "text/plain": "[2801, 5566, 5318, 166]"
     },
     "metadata": {}
    }
   ],
   "execution_count": 63
  },
  {
   "cell_type": "code",
   "source": "# Draw network consisting of the top 10 genes in each category\nselect_genes = list(np.unique(top_closeness + top_betweenness + top_closeness))\nSarsCov_net_top = Barabasi_human_interactome.subgraph(select_genes)\npos = nx.circular_layout(SarsCov_net_top)\nnx.draw(SarsCov_net_top, with_labels = True, pos = pos, node_size = 1000, node_color = \"#1BB3F5\")",
   "metadata": {
    "cell_id": "d75deb68e544439d84da4e65bc6386b4",
    "tags": [],
    "deepnote_to_be_reexecuted": false,
    "source_hash": "8480723d",
    "execution_start": 1659000985398,
    "execution_millis": 1097,
    "deepnote_cell_type": "code",
    "deepnote_cell_height": 473,
    "deepnote_output_heights": [
     304
    ]
   },
   "outputs": [
    {
     "data": {
      "text/plain": "<Figure size 432x288 with 1 Axes>",
      "image/png": "[encoded data removed]"
     },
     "metadata": {
      "image/png": {
       "width": 446,
       "height": 302
      }
     },
     "output_type": "display_data"
    }
   ],
   "execution_count": 79
  },
  {
   "cell_type": "markdown",
   "source": "#### Exercise 2: Identify network modules in human interactome consisting of known SARS-Cov-2 targets\n- Indentify modules in the human interactome using Girvan-Newman method\n- For each module detected check how many known SARS-Cov-2 targets it contain\n",
   "metadata": {
    "cell_id": "27b4ae469d374d46b2e225d37962020f",
    "tags": [],
    "deepnote_cell_type": "markdown",
    "deepnote_cell_height": 127.78125
   }
  },
  {
   "cell_type": "markdown",
   "source": "",
   "metadata": {
    "cell_id": "e04b5695c40c4524a577709ce621eac8",
    "tags": [],
    "deepnote_cell_type": "markdown",
    "deepnote_cell_height": 46
   }
  },
  {
   "cell_type": "code",
   "source": "# Upload python modules\nimport networkx as nx\nimport pandas as pd\nimport numpy as np\nfrom networkx.algorithms.community.centrality import girvan_newman\n# Import python modules for visualizations\nimport matplotlib.pylab as plt\n\n%matplotlib inline",
   "metadata": {
    "cell_id": "317de532ccb14357aeba99dcb3b16742",
    "tags": [],
    "deepnote_to_be_reexecuted": false,
    "source_hash": "27deed3a",
    "execution_start": 1659004452035,
    "execution_millis": 4,
    "deepnote_cell_type": "code",
    "deepnote_cell_height": 225
   },
   "outputs": [],
   "execution_count": 81
  },
  {
   "cell_type": "code",
   "source": "# Reading the human interactome from Gysi et al., 2021 \nedge_list = pd.read_csv(\"Data/Barabasi_CoV2_PPI.csv\")\n\n# Creating network from edge list \nBarabasi_human_interactome = nx.from_pandas_edgelist(df = edge_list,\n                                                        source = \"proteinA_entrezid\", \n                                                        target = \"proteinB_entrezid\")\n\n# human_int_pos = nx.spring_layout(Barabasi_human_interactome, seed = 123)\n# nx.draw(Barabasi_human_interactome, with_labels = True, pos = human_int_pos, node_size = 1000, node_color = \"#1BB3F5\")",
   "metadata": {
    "cell_id": "ccfe297bdca0495f89d5b6d2a029d702",
    "tags": [],
    "deepnote_to_be_reexecuted": false,
    "source_hash": "468d2e76",
    "execution_start": 1659004452512,
    "execution_millis": 3051,
    "deepnote_cell_type": "code",
    "deepnote_cell_height": 243
   },
   "outputs": [],
   "execution_count": 82
  },
  {
   "cell_type": "code",
   "source": "# Extract the largest connected component\nBarabasi_human_interactome = list(Barabasi_human_interactome.subgraph(c).copy() for c in sorted(nx.connected_components(Barabasi_human_interactome), key = len, reverse = True))[0]\nprint(len(Barabasi_human_interactome.nodes()), len(Barabasi_human_interactome.edges()))\n# nx.draw(Barabasi_human_interactome, with_labels = True, node_size = 1000, node_color = \"#1BB3F5\")",
   "metadata": {
    "cell_id": "35336ea95acf4cadb8c92ff84f4e81d0",
    "tags": [],
    "deepnote_to_be_reexecuted": false,
    "source_hash": "b086ed26",
    "execution_start": 1659004455574,
    "execution_millis": 9930,
    "deepnote_cell_type": "code",
    "deepnote_cell_height": 166.1875
   },
   "outputs": [
    {
     "name": "stdout",
     "text": "18446 327868\n",
     "output_type": "stream"
    }
   ],
   "execution_count": 83
  },
  {
   "cell_type": "code",
   "source": "# Remove self-loops\nBarabasi_human_interactome.remove_edges_from(nx.selfloop_edges(Barabasi_human_interactome))",
   "metadata": {
    "cell_id": "41b43016f1d4482285600f19603a000c",
    "tags": [],
    "deepnote_to_be_reexecuted": false,
    "source_hash": "d49c328b",
    "execution_start": 1659004465511,
    "execution_millis": 126,
    "deepnote_cell_type": "code",
    "deepnote_cell_height": 99
   },
   "outputs": [],
   "execution_count": 84
  },
  {
   "cell_type": "code",
   "source": "# Use Girvan-Newman algorithm to detect communities in the network\ncommunity = girvan_newman(Barabasi_human_interactome)\ncommunity = tuple(sorted(c) for c in next(community))\ncommunity",
   "metadata": {
    "cell_id": "81ed799c39054905ba48bc1934c4db19",
    "tags": [],
    "deepnote_to_be_reexecuted": false,
    "source_hash": "3dbc2e3a",
    "execution_start": 1659005194218,
    "execution_millis": 31,
    "deepnote_cell_type": "code",
    "deepnote_cell_height": 198.1875
   },
   "outputs": [],
   "execution_count": 85
  },
  {
   "cell_type": "code",
   "source": "# Read the targets for SARS-Cov-2\nSarsCov_targets = pd.read_csv('./Data/SARSCoV2_Targets.csv')\nSarsCov_targets.head()",
   "metadata": {
    "cell_id": "e8d24618a4864becb2925b395d5fbcf1",
    "tags": [],
    "deepnote_cell_type": "code",
    "deepnote_cell_height": 102
   },
   "outputs": [],
   "execution_count": null
  },
  {
   "cell_type": "markdown",
   "source": "<a style='text-decoration:none;line-height:16px;display:flex;color:#5B5B62;padding:10px;justify-content:end;' href='https://deepnote.com?utm_source=created-in-deepnote-cell&projectId=d6f9e27d-71eb-4664-8c0d-e7e02cc44214' target=\"_blank\">\n<img alt='Created in deepnote.com' style='display:inline;max-height:16px;margin:0px;margin-right:7.5px;' src='data:image/svg+xml;base64,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' > </img>\nCreated in <span style='font-weight:600;margin-left:4px;'>Deepnote</span></a>",
   "metadata": {
    "tags": [],
    "created_in_deepnote_cell": true,
    "deepnote_cell_type": "markdown"
   }
  }
 ],
 "nbformat": 4,
 "nbformat_minor": 2,
 "metadata": {
  "orig_nbformat": 2,
  "deepnote": {},
  "deepnote_notebook_id": "28886a85-267e-4909-afb6-350b8239a820",
  "deepnote_execution_queue": [
   {
    "cellId": "81ed799c39054905ba48bc1934c4db19",
    "sessionId": "7f1a61a5-99b2-4cb2-8a84-e2665abcfd59",
    "msgId": "492d79f8-f1cc-4e29-b439-2b146621800b"
   }
  ]
 }
}