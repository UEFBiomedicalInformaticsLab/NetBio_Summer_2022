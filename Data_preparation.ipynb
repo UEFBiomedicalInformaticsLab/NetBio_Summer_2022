{
 "cells": [
  {
   "cell_type": "markdown",
   "source": "#### Data preparation",
   "metadata": {
    "cell_id": "298686ff2cb2460294b01b56d11f6974",
    "tags": [],
    "deepnote_cell_type": "markdown",
    "deepnote_cell_height": 54
   }
  },
  {
   "cell_type": "code",
   "metadata": {
    "cell_id": "72aec4b437e2480fa8bf42e8075c53e6",
    "tags": [],
    "deepnote_to_be_reexecuted": false,
    "source_hash": "f89b65a7",
    "execution_start": 1658823772953,
    "execution_millis": 888828,
    "is_output_hidden": true,
    "deepnote_cell_type": "code",
    "deepnote_cell_height": 183.796875
   },
   "source": "# Install required packages\nif (!require(\"BiocManager\", quietly = TRUE))\n    install.packages(\"BiocManager\")\n\nBiocManager::install(\"biomaRt\")",
   "outputs": [
    {
     "name": "stderr",
     "text": "Installing package into ‘/work/.R/library’\n(as ‘lib’ is unspecified)\n\n'getOption(\"repos\")' replaces Bioconductor standard repositories, see\n'?repositories' for details\n\nreplacement repositories:\n    CRAN: https://cloud.r-project.org\n\n\nBioconductor version 3.15 (BiocManager 1.30.18), R 4.2.0 (2022-04-22)\n\nInstalling package(s) 'BiocVersion', 'biomaRt'\n\nalso installing the dependencies ‘bitops’, ‘zlibbioc’, ‘RCurl’, ‘GenomeInfoDbData’, ‘bit’, ‘cachem’, ‘XVector’, ‘GenomeInfoDb’, ‘sys’, ‘bit64’, ‘blob’, ‘memoise’, ‘pkgconfig’, ‘Rcpp’, ‘plogr’, ‘png’, ‘Biostrings’, ‘askpass’, ‘assertthat’, ‘purrr’, ‘tibble’, ‘tidyselect’, ‘withr’, ‘generics’, ‘BiocGenerics’, ‘Biobase’, ‘IRanges’, ‘DBI’, ‘RSQLite’, ‘S4Vectors’, ‘KEGGREST’, ‘hms’, ‘prettyunits’, ‘R6’, ‘magrittr’, ‘stringi’, ‘curl’, ‘mime’, ‘openssl’, ‘dbplyr’, ‘dplyr’, ‘filelock’, ‘XML’, ‘AnnotationDbi’, ‘progress’, ‘stringr’, ‘httr’, ‘BiocFileCache’, ‘rappdirs’, ‘xml2’\n\n\nWarning message in install.packages(...):\n“installation of package ‘curl’ had non-zero exit status”\nWarning message in install.packages(...):\n“installation of package ‘XML’ had non-zero exit status”\nWarning message in install.packages(...):\n“installation of package ‘xml2’ had non-zero exit status”\nWarning message in install.packages(...):\n“installation of package ‘RCurl’ had non-zero exit status”\nWarning message in install.packages(...):\n“installation of package ‘openssl’ had non-zero exit status”\nWarning message in install.packages(...):\n“installation of package ‘GenomeInfoDb’ had non-zero exit status”\nWarning message in install.packages(...):\n“installation of package ‘httr’ had non-zero exit status”\nWarning message in install.packages(...):\n“installation of package ‘Biostrings’ had non-zero exit status”\nWarning message in install.packages(...):\n“installation of package ‘KEGGREST’ had non-zero exit status”\nWarning message in install.packages(...):\n“installation of package ‘BiocFileCache’ had non-zero exit status”\nWarning message in install.packages(...):\n“installation of package ‘AnnotationDbi’ had non-zero exit status”\nWarning message in install.packages(...):\n“installation of package ‘biomaRt’ had non-zero exit status”\nOld packages: 'htmltools', 'pillar', 'rlang', 'MASS'\n\n",
     "output_type": "stream"
    }
   ],
   "execution_count": null
  },
  {
   "cell_type": "markdown",
   "source": "##### Gene ID annotations for human interactome from Gysi et al., 2021",
   "metadata": {
    "cell_id": "dc2919153ea44fa39f8636cfc75661ec",
    "tags": [],
    "deepnote_cell_type": "markdown",
    "deepnote_cell_height": 54
   }
  },
  {
   "cell_type": "code",
   "metadata": {
    "tags": [],
    "cell_id": "c420f010-6fdc-44ae-a3fc-ed83dcde44c9",
    "deepnote_to_be_reexecuted": false,
    "source_hash": "b7a8cb4a",
    "execution_start": 1658824739682,
    "execution_millis": 35,
    "owner_user_id": "cf8a377c-b6c9-4da5-a3ce-517478c9d31d",
    "output_cleared": true,
    "deepnote_cell_type": "code",
    "deepnote_cell_height": 324.1875
   },
   "source": "library(biomaRt)\nensembl <- useEnsembl(biomart = \"genes\", dataset = \"hsapiens_gene_ensembl\")\nentrezGeneId_2_entrezGeneAcc <- getBM(attributes = c(\"ensembl_gene_id\", \"entrezgene_id\", \"entrezgene_accession\", \"description\", \"gene_biotype\"), mart = ensembl) #Total:67472\n\nppi <- read.csv(\"Data/Barabasi_CoV2_PPI.csv\", header = TRUE)\n\nentrez_ids <- unique(c(ppi$proteinA_entrezid, ppi$proteinB_entrezid))\n\nentrezGeneId_2_entrezGeneAcc <- entrezGeneId_2_entrezGeneAcc[entrezGeneId_2_entrezGeneAcc$entrezgene_id %in% entrez_ids, c(\"entrezgene_id\", \"entrezgene_accession\")]\n\nwrite.csv(entrezGeneId_2_entrezGeneAcc, \"Data/Barabasi_CoV2_PPI_nodeAnnot.csv\", row.names = FALSE)",
   "execution_count": null,
   "outputs": []
  },
  {
   "cell_type": "code",
   "metadata": {
    "cell_id": "0b46effc37624a338100f3415c449033",
    "tags": [],
    "deepnote_cell_type": "code",
    "deepnote_cell_height": 66
   },
   "source": "",
   "execution_count": null,
   "outputs": []
  },
  {
   "cell_type": "markdown",
   "source": "<a style='text-decoration:none;line-height:16px;display:flex;color:#5B5B62;padding:10px;justify-content:end;' href='https://deepnote.com?utm_source=created-in-deepnote-cell&projectId=d6f9e27d-71eb-4664-8c0d-e7e02cc44214' target=\"_blank\">\n<img alt='Created in deepnote.com' style='display:inline;max-height:16px;margin:0px;margin-right:7.5px;' src='data:image/svg+xml;base64,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' > </img>\nCreated in <span style='font-weight:600;margin-left:4px;'>Deepnote</span></a>",
   "metadata": {
    "tags": [],
    "created_in_deepnote_cell": true,
    "deepnote_cell_type": "markdown"
   }
  }
 ],
 "nbformat": 4,
 "nbformat_minor": 2,
 "metadata": {
  "orig_nbformat": 2,
  "deepnote": {},
  "deepnote_notebook_id": "c27862d6-3053-4da4-8403-c817e56a7488",
  "deepnote_execution_queue": []
 }
}